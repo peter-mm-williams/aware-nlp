{
 "cells": [
  {
   "cell_type": "code",
   "execution_count": 1,
   "id": "210e6a38-505e-411e-b9af-270f589609fa",
   "metadata": {},
   "outputs": [],
   "source": [
    "import warnings\n",
    "warnings.filterwarnings('ignore')"
   ]
  },
  {
   "cell_type": "code",
   "execution_count": 2,
   "id": "d21e2d7b-a652-45bf-8e1d-47bbfd0c56dc",
   "metadata": {},
   "outputs": [],
   "source": [
    "import pandas as pd\n",
    "from tqdm import tqdm\n",
    "import json\n",
    "from langchain.prompts import PromptTemplate\n",
    "from langchain.chains import LLMChain\n",
    "from langchain_community.llms import HuggingFaceHub"
   ]
  },
  {
   "cell_type": "code",
   "execution_count": 3,
   "id": "e1e9aef3-7e6b-4f7c-b372-60ebfe5d8df9",
   "metadata": {},
   "outputs": [],
   "source": [
    "huggingfacehub_api_token = \"****\""
   ]
  },
  {
   "cell_type": "code",
   "execution_count": 4,
   "id": "7646a2ea-5cac-450d-9c85-9c0fd592fe46",
   "metadata": {},
   "outputs": [],
   "source": [
    "template = \"\"\"\n",
    "Generate a question from the given input text. Please do not answer the question. \n",
    "Text: {text}\n",
    "Query: \n",
    "\"\"\"\n",
    "\n",
    "prompt = PromptTemplate(template=template, input_variables=[\"text\"])"
   ]
  },
  {
   "cell_type": "code",
   "execution_count": 5,
   "id": "d3e9d70d-e9d4-42d4-a559-2731388ee66a",
   "metadata": {},
   "outputs": [
    {
     "name": "stderr",
     "output_type": "stream",
     "text": [
      "/Users/himanshu/Library/Python/3.9/lib/python/site-packages/langchain_core/_api/deprecation.py:117: LangChainDeprecationWarning: The class `langchain_community.llms.huggingface_hub.HuggingFaceHub` was deprecated in langchain-community 0.0.21 and will be removed in 0.2.0. Use HuggingFaceEndpoint instead.\n",
      "  warn_deprecated(\n"
     ]
    }
   ],
   "source": [
    "llm = HuggingFaceHub(repo_id='tiiuae/falcon-7b-instruct', huggingfacehub_api_token=huggingfacehub_api_token)"
   ]
  },
  {
   "cell_type": "code",
   "execution_count": 6,
   "id": "67e0587d-e898-4eaf-b8fa-bc2e338bf95d",
   "metadata": {},
   "outputs": [],
   "source": [
    "llm_chain = LLMChain(prompt=prompt, llm=llm)"
   ]
  },
  {
   "cell_type": "code",
   "execution_count": 7,
   "id": "6b998c0c-99d1-4105-ac23-0df7f81246f3",
   "metadata": {},
   "outputs": [],
   "source": [
    "with open('FedEmployees.json', 'r', encoding='utf-8') as f:\n",
    "    fedemp = json.load(f)\n",
    "df = pd.DataFrame(fedemp)"
   ]
  },
  {
   "cell_type": "code",
   "execution_count": 12,
   "id": "e91cb8fe-eeec-4e49-b606-0fdd6212a7a7",
   "metadata": {},
   "outputs": [
    {
     "data": {
      "text/plain": [
       "'Choosing a new plan - online help'"
      ]
     },
     "execution_count": 12,
     "metadata": {},
     "output_type": "execute_result"
    }
   ],
   "source": [
    "df.iloc[0][\"reddit_title\"]"
   ]
  },
  {
   "cell_type": "code",
   "execution_count": 10,
   "id": "426c902c-af18-4f7c-b7c4-c64aa11bde80",
   "metadata": {},
   "outputs": [
    {
     "name": "stdout",
     "output_type": "stream",
     "text": [
      "\n",
      "Generate a question from the given input text. Please do not answer the question. \n",
      "Text: Choosing a new plan - online helpNeed Online help- I am a retired. Postal worker. My emblem health plan is no longer part of the FEHP program and I need to select a new plan. I compared plans and I'm ready to go online and select the plan.\n",
      "\n",
      "Do I need to create a FEHB online account and do it through there ?\n",
      "\n",
      "Thx!!\n",
      "Query: \n",
      "\n",
      "What steps do I need to take to create an online account and select a new plan for my retired postal worker emblem health plan?\n"
     ]
    }
   ],
   "source": [
    "index_num = 0\n",
    "text = df.iloc[index_num][\"reddit_title\"] + df.iloc[index_num][\"reddit_text\"]\n",
    "# print(text)\n",
    "\n",
    "if(text!=None):\n",
    "    print(llm_chain.run(text))"
   ]
  },
  {
   "cell_type": "code",
   "execution_count": 11,
   "id": "ddfcc912-06d5-4bc7-a06a-f776d674802f",
   "metadata": {},
   "outputs": [
    {
     "name": "stdout",
     "output_type": "stream",
     "text": [
      "\n",
      "Generate a question from the given input text. Please do not answer the question. \n",
      "Text: Emblem Health No Longer A Part of FEHB Program-2023I received the letter that emblem health is no longer an option for 2023 and was wondering what similar plans people are choosing to replace Emblem Health.  What plans are some of your choosing?\n",
      "Query: \n",
      "\n",
      "What plans are people choosing to replace Emblem Health?\n"
     ]
    }
   ],
   "source": [
    "index_num = 1\n",
    "text = df.iloc[index_num][\"reddit_title\"] + df.iloc[index_num][\"reddit_text\"]\n",
    "# print(text)\n",
    "\n",
    "if(text!=None):\n",
    "    print(llm_chain.run(text))"
   ]
  },
  {
   "cell_type": "code",
   "execution_count": 37,
   "id": "4e5b2606-7560-4f36-beed-771c4550fb22",
   "metadata": {},
   "outputs": [
    {
     "name": "stdout",
     "output_type": "stream",
     "text": [
      "Input:  \n",
      "Generate a question from the given input text. Please do not answer the question. \n",
      "Text: Title: Choosing a new plan - online help Text: Need Online help- I am a retired. Postal worker. My emblem health plan is no longer part of the FEHP program and I need to select a new plan. I compared plans and I'm ready to go online and select the plan.\n",
      "\n",
      "Do I need to create a FEHB online account and do it through there ?\n",
      "\n",
      "Thx!!\n",
      "\n",
      "Query:  \n",
      "What steps do I need to take to create an online account and select a new plan?\n"
     ]
    }
   ],
   "source": [
    "index_num = 0\n",
    "text =\"Title: \" + df.iloc[index_num][\"reddit_title\"] + \" Text: \" + df.iloc[index_num][\"reddit_text\"]\n",
    "# print(text)\n",
    "\n",
    "if(text!=None):\n",
    "    response = llm_chain.run(text)\n",
    "    print(\"Input: \", response.split('\\nQuery: \\n')[0])\n",
    "    print()\n",
    "    print(\"Query: \", response.split('\\nQuery: \\n')[1])"
   ]
  },
  {
   "cell_type": "code",
   "execution_count": 32,
   "id": "25c3e344-4287-4134-84a6-210b4f97fde6",
   "metadata": {},
   "outputs": [
    {
     "name": "stdout",
     "output_type": "stream",
     "text": [
      "Input:  \n",
      "Generate a question from the given input text. Please do not answer the question. \n",
      "Text: Title: Emblem Health No Longer A Part of FEHB Program-2023 Text: I received the letter that emblem health is no longer an option for 2023 and was wondering what similar plans people are choosing to replace Emblem Health.  What plans are some of your choosing?\n",
      "\n",
      "Query:  - What plans are people choosing to replace Emblem Health?\n"
     ]
    }
   ],
   "source": [
    "index_num = 1\n",
    "text =\"Title: \" + df.iloc[index_num][\"reddit_title\"] + \" Text: \" + df.iloc[index_num][\"reddit_text\"]\n",
    "# print(text)\n",
    "\n",
    "if(text!=None):\n",
    "    response = llm_chain.run(text)\n",
    "    print(\"Input: \", response.split('\\nQuery: \\n')[0])\n",
    "    print()\n",
    "    print(\"Query: \", response.split('\\nQuery: \\n')[-1])"
   ]
  },
  {
   "cell_type": "code",
   "execution_count": 27,
   "id": "5dde5457-f238-49cf-ab1d-6dda21bcb550",
   "metadata": {},
   "outputs": [
    {
     "name": "stdout",
     "output_type": "stream",
     "text": [
      "Input:  \n",
      "Generate a question from the given input text. Please do not answer the question. \n",
      "Text: Title: I received a letter stating that emblem health plan will no longer participate in the FEHP program for 2023 contract year. I need to choose another health plan. I currently have emblem health, and I was looking for some advice on what other plans everyone is choosing in the situation.??? Text: \n",
      "\n",
      "Query:  What other health plans are you considering for the 2023 contract year?\n"
     ]
    }
   ],
   "source": [
    "index_num = 2\n",
    "text =\"Title: \" + df.iloc[index_num][\"reddit_title\"] + \" Text: \" + df.iloc[index_num][\"reddit_text\"]\n",
    "# print(text)\n",
    "\n",
    "if(text!=None):\n",
    "    response = llm_chain.run(text)\n",
    "    print(\"Input: \", response.split('\\nQuery: \\n\\n')[0])\n",
    "    print()\n",
    "    print(\"Query: \", response.split('\\nQuery: \\n\\n')[1])"
   ]
  },
  {
   "cell_type": "code",
   "execution_count": 28,
   "id": "8c39aa30-363d-4981-8d69-c2b8c1107710",
   "metadata": {},
   "outputs": [
    {
     "name": "stdout",
     "output_type": "stream",
     "text": [
      "Input:  \n",
      "Generate a question from the given input text. Please do not answer the question. \n",
      "Text: Title: 2023 FEHB infertility treatment options Text: Hi all, Molly Weisner here with Federal Times. (Yes, again. Am I nuisance yet?) \n",
      "\n",
      "I'm working on a follow-up article about how, despite offering some very limited expanded options for infertility (iatrogenic only, for the most part), FEHB coverage for infertility is still quite narrow and prohibitively expensive. \n",
      "\n",
      "I'm working on bringing these concerns to OPM/carriers, but I wanted to reach out to see if anyone has thoughts about this and would be willing to speak with me for the article? \n",
      "\n",
      "Happy to talk on background (not using your name) to protect your privacy. \n",
      "\n",
      "Feel free to shoot me a DM here or email me ([molly.weisner@federaltimes.com](mailto:molly.weisner@federaltimes.com)). Thank you, as always.\n",
      "\n",
      "Query:  What are your thoughts on the current FEHB infertility treatment options and how can they be improved?\n"
     ]
    }
   ],
   "source": [
    "index_num = 3\n",
    "text =\"Title: \" + df.iloc[index_num][\"reddit_title\"] + \" Text: \" + df.iloc[index_num][\"reddit_text\"]\n",
    "# print(text)\n",
    "\n",
    "if(text!=None):\n",
    "    response = llm_chain.run(text)\n",
    "    print(\"Input: \", response.split('\\nQuery: \\n\\n')[0])\n",
    "    print()\n",
    "    print(\"Query: \", response.split('\\nQuery: \\n\\n')[1])"
   ]
  },
  {
   "cell_type": "code",
   "execution_count": null,
   "id": "60c42b8f-a2f6-48c4-8737-89f08346c549",
   "metadata": {},
   "outputs": [],
   "source": []
  }
 ],
 "metadata": {
  "kernelspec": {
   "display_name": "Python 3 (ipykernel)",
   "language": "python",
   "name": "python3"
  },
  "language_info": {
   "codemirror_mode": {
    "name": "ipython",
    "version": 3
   },
   "file_extension": ".py",
   "mimetype": "text/x-python",
   "name": "python",
   "nbconvert_exporter": "python",
   "pygments_lexer": "ipython3",
   "version": "3.9.6"
  }
 },
 "nbformat": 4,
 "nbformat_minor": 5
}
