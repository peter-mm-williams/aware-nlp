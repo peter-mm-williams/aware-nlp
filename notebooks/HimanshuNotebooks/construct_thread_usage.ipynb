{
 "cells": [
  {
   "cell_type": "code",
   "execution_count": 4,
   "id": "36c2de69-5659-4856-aabe-070e7cdffb15",
   "metadata": {},
   "outputs": [],
   "source": [
    "import json\n",
    "import pandas as pd\n",
    "def set_subreddit(sub_reddit):\n",
    "    with open(sub_reddit+'.json', 'r', encoding='utf-8') as f:\n",
    "        dat = json.load(f)\n",
    "    return pd.DataFrame(dat)"
   ]
  },
  {
   "cell_type": "code",
   "execution_count": 5,
   "id": "3239cb61-3824-4cd1-94be-fe5db062aef6",
   "metadata": {},
   "outputs": [],
   "source": [
    "df_subreddit = set_subreddit('BestBuyWorkers')"
   ]
  },
  {
   "cell_type": "code",
   "execution_count": 6,
   "id": "ce7e7a3c-bf69-4188-beeb-2c088a74d0c9",
   "metadata": {},
   "outputs": [],
   "source": [
    "import construct_thread"
   ]
  },
  {
   "cell_type": "code",
   "execution_count": 7,
   "id": "051ca45b-34d2-4c8d-909a-74624b753af7",
   "metadata": {},
   "outputs": [
    {
     "data": {
      "text/plain": [
       "construct_thread.ConsrtuctThread"
      ]
     },
     "execution_count": 7,
     "metadata": {},
     "output_type": "execute_result"
    }
   ],
   "source": [
    "thread = construct_thread.ConsrtuctThread(df_subreddit, 't3_18rkcrr')\n",
    "type(thread)"
   ]
  },
  {
   "cell_type": "markdown",
   "id": "1eead97f-8930-4f2d-b6c6-e8db58436684",
   "metadata": {},
   "source": [
    "The relevant member functions of `thread` object are \n",
    "\n",
    "1. thread.get_thread() // returns the entire thread linked to the main submission id\n",
    "2. thread.get_title()\n",
    "3. thread.get_conversation() // returns a list of all reddit_text in the thread\n",
    "4. thread.get_url() // the corresponding reddit url"
   ]
  },
  {
   "cell_type": "code",
   "execution_count": 13,
   "id": "fd1877cd-c0ee-4301-b704-a6677c131cdd",
   "metadata": {
    "scrolled": true
   },
   "outputs": [
    {
     "data": {
      "text/html": [
       "<div>\n",
       "<style scoped>\n",
       "    .dataframe tbody tr th:only-of-type {\n",
       "        vertical-align: middle;\n",
       "    }\n",
       "\n",
       "    .dataframe tbody tr th {\n",
       "        vertical-align: top;\n",
       "    }\n",
       "\n",
       "    .dataframe thead th {\n",
       "        text-align: right;\n",
       "    }\n",
       "</style>\n",
       "<table border=\"1\" class=\"dataframe\">\n",
       "  <thead>\n",
       "    <tr style=\"text-align: right;\">\n",
       "      <th></th>\n",
       "      <th>aware_post_type</th>\n",
       "      <th>aware_created_ts</th>\n",
       "      <th>reddit_id</th>\n",
       "      <th>reddit_name</th>\n",
       "      <th>reddit_created_utc</th>\n",
       "      <th>reddit_author</th>\n",
       "      <th>reddit_text</th>\n",
       "      <th>reddit_permalink</th>\n",
       "      <th>reddit_title</th>\n",
       "      <th>reddit_url</th>\n",
       "      <th>reddit_subreddit</th>\n",
       "      <th>reddit_link_id</th>\n",
       "      <th>reddit_parent_id</th>\n",
       "      <th>reddit_submission</th>\n",
       "    </tr>\n",
       "  </thead>\n",
       "  <tbody>\n",
       "    <tr>\n",
       "      <th>4396</th>\n",
       "      <td>submission</td>\n",
       "      <td>2023-12-26T14:37:50</td>\n",
       "      <td>18rkcrr</td>\n",
       "      <td>t3_18rkcrr</td>\n",
       "      <td>1703630270</td>\n",
       "      <td>Bookish-beauty</td>\n",
       "      <td>Had a 102 fever last night, tried to sick call...</td>\n",
       "      <td>/r/BestBuyWorkers/comments/18rkcrr/just_passed...</td>\n",
       "      <td>Just passed out on the floor</td>\n",
       "      <td>https://www.reddit.com/r/BestBuyWorkers/commen...</td>\n",
       "      <td>BestBuyWorkers</td>\n",
       "      <td>None</td>\n",
       "      <td>None</td>\n",
       "      <td>None</td>\n",
       "    </tr>\n",
       "    <tr>\n",
       "      <th>4397</th>\n",
       "      <td>comment</td>\n",
       "      <td>2023-12-26T14:45:17</td>\n",
       "      <td>kf1obpw</td>\n",
       "      <td>t1_kf1obpw</td>\n",
       "      <td>1703630717</td>\n",
       "      <td>Expert_Rate_95</td>\n",
       "      <td>hey fuck that! I wouldn’t even show up again i...</td>\n",
       "      <td>/r/BestBuyWorkers/comments/18rkcrr/just_passed...</td>\n",
       "      <td>None</td>\n",
       "      <td>None</td>\n",
       "      <td>BestBuyWorkers</td>\n",
       "      <td>t3_18rkcrr</td>\n",
       "      <td>t3_18rkcrr</td>\n",
       "      <td>18rkcrr</td>\n",
       "    </tr>\n",
       "    <tr>\n",
       "      <th>4400</th>\n",
       "      <td>comment</td>\n",
       "      <td>2023-12-26T14:53:30</td>\n",
       "      <td>kf1pjfl</td>\n",
       "      <td>t1_kf1pjfl</td>\n",
       "      <td>1703631210</td>\n",
       "      <td>willybestbuy86</td>\n",
       "      <td>Well it's against Best Buy policy to ask for a...</td>\n",
       "      <td>/r/BestBuyWorkers/comments/18rkcrr/just_passed...</td>\n",
       "      <td>None</td>\n",
       "      <td>None</td>\n",
       "      <td>BestBuyWorkers</td>\n",
       "      <td>t3_18rkcrr</td>\n",
       "      <td>t3_18rkcrr</td>\n",
       "      <td>18rkcrr</td>\n",
       "    </tr>\n",
       "    <tr>\n",
       "      <th>4407</th>\n",
       "      <td>comment</td>\n",
       "      <td>2023-12-26T15:07:11</td>\n",
       "      <td>kf1rj4v</td>\n",
       "      <td>t1_kf1rj4v</td>\n",
       "      <td>1703632031</td>\n",
       "      <td>SamuraiLaserCat</td>\n",
       "      <td>Situations like this are why HR exist. Tbh won...</td>\n",
       "      <td>/r/BestBuyWorkers/comments/18rkcrr/just_passed...</td>\n",
       "      <td>None</td>\n",
       "      <td>None</td>\n",
       "      <td>BestBuyWorkers</td>\n",
       "      <td>t3_18rkcrr</td>\n",
       "      <td>t3_18rkcrr</td>\n",
       "      <td>18rkcrr</td>\n",
       "    </tr>\n",
       "    <tr>\n",
       "      <th>4415</th>\n",
       "      <td>comment</td>\n",
       "      <td>2023-12-26T15:26:41</td>\n",
       "      <td>kf1ubgl</td>\n",
       "      <td>t1_kf1ubgl</td>\n",
       "      <td>1703633201</td>\n",
       "      <td>ButlerKevind</td>\n",
       "      <td>What do you value most, your health or your jo...</td>\n",
       "      <td>/r/BestBuyWorkers/comments/18rkcrr/just_passed...</td>\n",
       "      <td>None</td>\n",
       "      <td>None</td>\n",
       "      <td>BestBuyWorkers</td>\n",
       "      <td>t3_18rkcrr</td>\n",
       "      <td>t3_18rkcrr</td>\n",
       "      <td>18rkcrr</td>\n",
       "    </tr>\n",
       "  </tbody>\n",
       "</table>\n",
       "</div>"
      ],
      "text/plain": [
       "     aware_post_type     aware_created_ts reddit_id reddit_name  \\\n",
       "4396      submission  2023-12-26T14:37:50   18rkcrr  t3_18rkcrr   \n",
       "4397         comment  2023-12-26T14:45:17   kf1obpw  t1_kf1obpw   \n",
       "4400         comment  2023-12-26T14:53:30   kf1pjfl  t1_kf1pjfl   \n",
       "4407         comment  2023-12-26T15:07:11   kf1rj4v  t1_kf1rj4v   \n",
       "4415         comment  2023-12-26T15:26:41   kf1ubgl  t1_kf1ubgl   \n",
       "\n",
       "      reddit_created_utc    reddit_author  \\\n",
       "4396          1703630270   Bookish-beauty   \n",
       "4397          1703630717   Expert_Rate_95   \n",
       "4400          1703631210   willybestbuy86   \n",
       "4407          1703632031  SamuraiLaserCat   \n",
       "4415          1703633201     ButlerKevind   \n",
       "\n",
       "                                            reddit_text  \\\n",
       "4396  Had a 102 fever last night, tried to sick call...   \n",
       "4397  hey fuck that! I wouldn’t even show up again i...   \n",
       "4400  Well it's against Best Buy policy to ask for a...   \n",
       "4407  Situations like this are why HR exist. Tbh won...   \n",
       "4415  What do you value most, your health or your jo...   \n",
       "\n",
       "                                       reddit_permalink  \\\n",
       "4396  /r/BestBuyWorkers/comments/18rkcrr/just_passed...   \n",
       "4397  /r/BestBuyWorkers/comments/18rkcrr/just_passed...   \n",
       "4400  /r/BestBuyWorkers/comments/18rkcrr/just_passed...   \n",
       "4407  /r/BestBuyWorkers/comments/18rkcrr/just_passed...   \n",
       "4415  /r/BestBuyWorkers/comments/18rkcrr/just_passed...   \n",
       "\n",
       "                      reddit_title  \\\n",
       "4396  Just passed out on the floor   \n",
       "4397                          None   \n",
       "4400                          None   \n",
       "4407                          None   \n",
       "4415                          None   \n",
       "\n",
       "                                             reddit_url reddit_subreddit  \\\n",
       "4396  https://www.reddit.com/r/BestBuyWorkers/commen...   BestBuyWorkers   \n",
       "4397                                               None   BestBuyWorkers   \n",
       "4400                                               None   BestBuyWorkers   \n",
       "4407                                               None   BestBuyWorkers   \n",
       "4415                                               None   BestBuyWorkers   \n",
       "\n",
       "     reddit_link_id reddit_parent_id reddit_submission  \n",
       "4396           None             None              None  \n",
       "4397     t3_18rkcrr       t3_18rkcrr           18rkcrr  \n",
       "4400     t3_18rkcrr       t3_18rkcrr           18rkcrr  \n",
       "4407     t3_18rkcrr       t3_18rkcrr           18rkcrr  \n",
       "4415     t3_18rkcrr       t3_18rkcrr           18rkcrr  "
      ]
     },
     "execution_count": 13,
     "metadata": {},
     "output_type": "execute_result"
    }
   ],
   "source": [
    "thread.get_thread().head()"
   ]
  },
  {
   "cell_type": "code",
   "execution_count": 15,
   "id": "0ab7e65d-1f0f-4453-a2db-1e5b28beb952",
   "metadata": {},
   "outputs": [
    {
     "data": {
      "text/plain": [
       "'Just passed out on the floor'"
      ]
     },
     "execution_count": 15,
     "metadata": {},
     "output_type": "execute_result"
    }
   ],
   "source": [
    "thread.get_title()"
   ]
  },
  {
   "cell_type": "code",
   "execution_count": 16,
   "id": "d92d2d4a-7fbb-4312-b1ad-899e3b828ee8",
   "metadata": {},
   "outputs": [
    {
     "data": {
      "text/plain": [
       "[\"Had a 102 fever last night, tried to sick call but since it's boxing day, supervisor said no, bring a doctor's note. Couldn't get a doctors note on Christmas so decided to Tylenol up and tough it out, ended up blacking out 2 hours into my shift. Manager only let me leave early after a customer felt sorry for me and accused Best Buy of child labour (I'm a baby faced 18 year old). \\n\\nFun times. Still scheduled 8 hour shifts until next Saturday. How much trouble will I be in if I just called in sick every single day (I'm a seasonal working in the USA)?\\n\\nUpdate: YALL I DID IT I QUIT 🥳\",\n",
       " 'hey fuck that! I wouldn’t even show up again if possible. Tell them you quit',\n",
       " \"Well it's against Best Buy policy to ask for a doctors note do you have that in writing. They are also not suppsoed to be accepted even if you give it to the manager at your own discretion\\n\\nPeople please learn the policies they are out there for you to view l. Get to know them and understand your rights within policy. This is why we have sick and PTO banks and an attendance policy as well\",\n",
       " 'Situations like this are why HR exist. Tbh won’t do you personally much good since you are seasonal, but it would put at least this instance on record to help keep that particular manager in check in the future and help out your co-workers. Having people come in that sick is gross and inexcusable.',\n",
       " \"What do you value most, your health or your job?\\n\\nWorst case scenario regarding the job, they can you for calling in sick.\\n\\nWorst case scenario regarding your current illness, you die.\\n\\nEither way, they will replace you, and with the latter well before you start to decompose into a putrid mass of goo. You found this job, you can certainly find another.\\n\\nBut first and foremost, **take care of yourself**. If they give you shit, **DOCUMENT EVERYTHING** from the moment you passed out to whatever shit they throw at you. I've left numerous jobs in the 50+ years on this ball of dirt, and only one of them that was not by my own volition.\",\n",
       " \"HR exists to ensure the company doesn't have its balls dangling in a spike trap because someone fucked up and didn't follow established rules and regs to ensure they are sued. **HR IS NEVER ON YOUR SIDE**, unless you have irrefutable proof that someone somewhere fucked up.\",\n",
       " 'Contact HR',\n",
       " 'Your supervisor shouldn’t have said no. \\n\\nStay home and rest. \\n\\nTake care of yourself. \\n\\nIf you feel guilty about staying home, think about it this way: you’re protecting your coworkers from catching whatever is making you sick.',\n",
       " \"Faxs. I usually say stay for the resume, but it ain't worth passing out and long term health problems. \\n\\nBest buy is a joke.\",\n",
       " 'Which is exactly what happened in this case. Employees blacking out on the sales floor is a big issue that can lead to litigation due to injury, and even the corp lawyers used in arbitration are going to agree on that.',\n",
       " 'Or seeing a dead blueberry.',\n",
       " 'You never ask if you can call out. You always tell them you’re calling out.',\n",
       " 'Honestly you’re seasonal you’re probably gunna get cut anyway. Call out 🤷🏻\\u200d♂️ abuse that discount beforehand.',\n",
       " 'I would consider a lawsuit if possible',\n",
       " 'Not allowed to ask for doctor’s note. 102 fever means you’re contagious, probably Covid or flu. Stay home with that degree of fever, nothing they can do. They’re jeopardizing the health of everyone who enters the building, seniors and kids being most susceptible. Totally unacceptable for a member of leadership to insist you come in like that!\\nEveryone else should have walked out and said, nah, not gonna get sick over the ignorance of leaders.',\n",
       " 'where are the policies? in SOP?',\n",
       " 'Hopefully an ambulance came to get you. Also, they would have to report to the emergency help line which would make them look like real asses when they contacted you for your statement. If they didn’t call it in they violated policy right there.',\n",
       " 'Bring in a note which reads:  \"I\\'m sick.  I didn\\'t go to the doctor, and it is against Best Buy policy for you to ask for one.  It is even against policy for you to receive one that I bring of my own volition.  If you\\'d still like me to bring in a doctor\\'s note, please provide written documentation of said request.  Thank you for your compliance with Best Buy policy.\"',\n",
       " 'I’d go see a doctor regardless if you call off or not.',\n",
       " \"Sick banks don't exist in some states(I'm in utah)\",\n",
       " 'Please quit that job. If they have not learned from the pandemic to let people be off if they even say they are sick. They not worth your time or health.',\n",
       " 'Should call department of labor.,. And HR for the hell of it',\n",
       " 'Go to bby connect and search attendance or sick',\n",
       " 'Yes an employer can ask for a doctors note.',\n",
       " 'Not Best Buy. You know not of what you speak. Go back to your basement.',\n",
       " 'Yes very true so it falls into PTO bank and if your full time 48 of those hours are for sick use\\n\\nThe policy is the same across the board',\n",
       " 'Not for missing one day of work, you would need to miss 3+ days',\n",
       " \"Why would you put this shit job over your health? Don't ever do that for an employer that will shit can you regardless of your efforts\",\n",
       " 'Just for fun, go in. But cough, wheeze, hack on everything and everyone. And if you pass out, do it in front of a customer. Nicely go \"If you\\'ll excuse me....\" And drop right there in front of them. Nothing says good job boss like a unconscious employee.',\n",
       " \"Better question is why TF would you want to give your time to a place like that? Sorry they treat you that way as it's quite sickening.\",\n",
       " 'Fuck em. They gonna drop you after the season anyways. Might as well find a new job.',\n",
       " 'I’d just quit if I were you. I worked at Best Buy for like two years, first time as a seasonal, and when January first came around there was the door. They don’t give a damn it’s already past the main holiday season now so I’d just leave before they let you go.',\n",
       " 'If ur seasonal they’ll just fire you lol',\n",
       " 'I work as a vendor in BB so glad I dodged the bullet of working for Best Buy . The shit I see is flabbergasting .',\n",
       " \"You're only 18, you'll have numerous different jobs before you are 30.  I would quit if it does not affect your rent, I assume you are still with your parents.  Find a job that will treat you better.\",\n",
       " 'They can’t say no to you calling in sick. You just don’t show up.',\n",
       " 'And even then Best Buy manager can’t ask for the note, it’s HR',\n",
       " \"That's your fault. Drink plenty of fluids, take your cold/flu meds and help these customers.\",\n",
       " 'If you have proof in a text you are GOLDEN… no company is allowed… HIPPA law protects you having to show proof of illnesses, you can call out and just say”I’m calling out” and that’s it… as long as you have any hours banked in pto, sick, and or vacation you can use them… but vacation per sop is supposed to be for pre approved missed time… you can however to use it if all you have left to supplement your hours . If that text exists … call your local HRM.',\n",
       " \"It says in the wellness policy, don't come to work Sick, ever since covid its the policy, if you call and say I have a high temp and they tell you to work on the way in you have a accident and kill someone or hurt yourself Best Buy could be sued.\",\n",
       " 'It’s probably Covid too… it’s def been going around and 3 coworkers had it. I was sick too but not Covid. It sucked',\n",
       " 'That\\'s what you would think, but working for this company I can tell you there are gms that say other wise. And will mess with y\\'all\\'s schedule if you do. Take previously scheduled hours away and give them to an \"employee that will want the time or show up to do the work.\"',\n",
       " 'This reminds me of that one radiohead song',\n",
       " 'Call HR',\n",
       " 'Yes Best Buy can. Companies can go against policy. I’m not saying what level of superiority that starts at but can happen. So good job looking dumb',\n",
       " 'I feel like you should have taken a COVID test, and if it was positive, tell them that along with the fever. If they continue to threaten for you to go in, then you can report them to the local health department.',\n",
       " 'I will NEVER understand managers who say no to someone calling out. When I get a call/text that an employee can’t come in, I just say “okay” and try to find someone to cover the shift. It isn’t the employees fault they are sick and it is my problem as the manager to find coverage for said shift. \\n\\nI have sent people home countless times when they show up clearly out of it. They usually object saying they would feel bad about it and my response is “you mental and physical well being is WAY more important than this dumbass job”.',\n",
       " 'I’d contact my local lawyer',\n",
       " 'Are you back in mommy’s basement yet? If not you need to get back there where you’re safe and you can dwell on your thoughts and misinformation. If you’d get out into the real world you might be able to see that adults who actually work usually know about their place of employment’s policies. So good job being dumb. 😉',\n",
       " 'If you feel that bad- wouldn’t you have gone to the doctor regardless at least once until Saturday? Just curious- you should still go to the doctor. If you’re genuinely sick and missing those days- why not have a doctors note to back it up? To avoid any backlash 🤷🏻\\u200d♀️\\n\\nSick is one thing… claiming you’re passing out on the floor is another.',\n",
       " 'Everything is covid, couldn’t be ya know the flu?',\n",
       " \"That's the thing about these shitty big box employers. They don't give a fuck about the employees. Go find somewhere that gives a shit about you\",\n",
       " \"This is incorrect. Let's play this out. \\n\\nIf an employee calls out sick, the sup or manager says bring a note, employee does not get a note and stays home, manager responds by writing up employee their next shift, this is literally just wasting time. Let's say this employee gets in trouble for something else a few times and the manager wants to term this employee. HR/ER will ask for all the documentation/write ups to review, and this write up will be thrown out.\",\n",
       " 'Tell your manager to kiss your ass.  Ok, not really, but damn he deserves it.',\n",
       " 'You would most likely be fired.',\n",
       " 'This happened to a baby faced 18 year old when I worked at Best Buy in college. I vividly remember my manager freaking out and calling an ambulance and forcing her to take a week off as the store didn’t want that liability. My have the times changed for Best Buy.',\n",
       " 'You can also report it to the ethics hotline.',\n",
       " 'Are you hiring???',\n",
       " 'Nope, and we just cut a majority of our seasonal people who wanted to stay because our labor got cut in half. 🙃',\n",
       " 'Some people can’t afford to go to the doctor. It’s gross to accuse this person of lying when the point is it’s against company policy to ask for a doctors note. As well as disgusting to say no to someone calling out sick.\\n\\nYour comment is giving me the ick 🤢',\n",
       " 'Knocked out on Boxing day... get well soon.',\n",
       " 'Seasonal? Fuck them. 😂 You take care of YOU. These companies do not care enough about the humans they employ. If they want to force you to work and put your health in danger, then just stop showing up and put their large egos in check. Feel better soon!',\n",
       " '![img](avatar_exp|105562824|dizziness)\\n\\nUnderrated 😂😂',\n",
       " \"If you have any proof, (Especially texts, emails ect) contact an employment lawer. They'll get you paid. Also you can report this to your states labor board and they'll investigate.\",\n",
       " 'Managers be like..\" so are you still coming in tomorrow?\" 🤣',\n",
       " \"If you're just seasonal, fuck them. Been there myself, walk out and go somewhere else.\",\n",
       " 'Cough cough\\n\\nhttps://workerorganizing.org/',\n",
       " 'Oof. I remember when I passed out during a grocery store shift... I think in my case it was because I thought it would be a good idea to attempt a busy 8 hour shift on just a bowl of cereal and some water... I made sure to double down on hydration since then.',\n",
       " 'When did I accuse of lying? 🤠\\nYour comment gave me a bigger ick 🥱\\n\\nJust saying- they’re extremely sick if they’re passing out which does need to go to a doctor despite the cost? \\n\\nNever said no to someone calling out sick? They’re seasonal and obviously worried- if they go to the doctor why not get a drs note just for the peace of mind? 🥴',\n",
       " 'Just quit if you can, it’s not worth your health.',\n",
       " 'I randomly had a temp of 102.6 yesterday and I absolutely let my manager know I’ll be back on SUNDAY. 😂 We’re all disposable to these people, so take care of yourself first.',\n",
       " 'I used to have managers that said that to me pre COVID. Now we it hasn\\'t been bad. They\\'re supposed to treat you with \"Grace\" as it\\'s part of the culture thing they praise. The Grace, Empathy, vulnerability and something else I can\\'t remember. \\nAlso consider: www.bestbuylaborunion.org worth checking out, store/services employees wanting to get our fair share.',\n",
       " \"Just show up and clock in at the original time; I did exactly this.\\nTold them that I wasn't given notice; if they would like to reduce my hours I needed a written explanation for why my hours were reduced, and why they did so without ever telling me or asking me, and I alert them that I am owed payment for time worked, it was their mistake I wasn't alerted to a sudden change in my schedule; schedule was fixed pretty quickly; and I got overtime because I came in a full week straight.\",\n",
       " 'This unfortunately the harsh reality of being a wage slave especially in the US. I work at Walmart and doctor’s notes are not accepted. If you have the PPTOs you are kosher. If you call out three days in a row you have to call Sedgwick to set up a LOA. If you have a doctor’s note you submit it to them for the three plus days. Sedgwick themselves is another level of bull💩. Remember your health is important vs some uncaring corporation and or leaders',\n",
       " 'I work for a major metropolitan fire department(one of the top 5 biggest in the U.S.) they make us get a doctors note if we call out sick more than 4 times in one year, or, if we call in sick the day before, day of, or day after a major holiday. If we do not get a doctors note they doc. Our pay. Even though it is our sick time that we have allotted. It fucking boggles my mind that they’re able to do that.',\n",
       " 'Thank you for your service! Best Buy does NOT require or ask for doctor notes or any type medical certification.',\n",
       " 'Definitely get a lawyer.',\n",
       " 'Who in their right minds thinks they can ask you for your personal medical information? Sounds like a HIPPA violation to me. Tell your boss to suck your fat juicy ass.',\n",
       " 'This is a department of labor issue\\nTurn them in',\n",
       " 'Damn this sounds awful. Only in America. Get well soon. PS f this job imo. Prioritize your health. If it’s meant for you, the job will be there when you’re well, if not, retail isn’t going anywhere',\n",
       " 'A lot of the internet attorneys on here need to give up their “licenses” to practice internet law. \\n\\nThere are plenty of credible resources regarding employment and HIPPA on the internet. Especially where the info is specific to doctor’s excuses. Go to those resources instead of these faceless, credential lacking, unregulated internet lawyers for your guidance.\\n\\nI’ll suggest looking at the sites of law firms that specialize in employment law and sick leave rights. When those attorneys say “The HIPAA privacy rule states that an employer may request a doctor’s note from an employee, but only if it is necessary for an acceptable reason, like sick leave, Workers’ Compensation, or health insurance.”, it tells you that responses suggesting  employers can’t require a doctors excuse are wrong. It could possibly still be contrary to a company’s internal policy, but that still doesn’t make it illegal.\\n\\nIn my place of employment, the doctor’s excuses need only read that “Mr. Smith was seen in my office for illness or treatment and can return to work on this date with or without these restrictions”. If there are no restrictions, you’re allowed back to work. If there are restrictions, if the job you do can accommodate those restrictions, then you can come back to work. If we cannot accommodate those restrictions,  you can’t return to work until those restrictions are lifted. Which also means a return to the doctor to provide the statement saying no restrictions. And that only means time off with pay if you have the PTO to burn. If you don’t, you are off in an unpaid status. And in all of this, we obtain no information that violates HIPPA.\\n\\nOne thing to note is that if you don’t have the PTO and you aren’t in a protected status such as FMLA, you can be terminated for excessive absences. The loss of  a minimum wage job in a job rich environment may not be a big deal to a lot of people, but job history and a previous employer saying nothing more than “ineligible for rehire” may impact your ability to replace that job or to get a position that is actually a well paying job down the road.\\n\\nAnd who came up with or approved  these policies? Attorneys licensed to practice law in our State. Not some yahoo practicing internet law.',\n",
       " 'get a doctors note when you can. if you do go back and black out again get a witness to testify of the bullshit and sue or threaten to if they keep pushing you especially if there’s another employee who found you blacked out. or less extreme contact hr and report the manager who gave you shit for being sick. you don’t let people fuck with your health.',\n",
       " \"On the bright side, COVID has eradicated all other diseases and illnesses, so if you're immune to COVID, you're pretty much just invincible.\",\n",
       " 'Some people just don’t go to the doctor unless they break something.  Especially healthy, younger people with good immune systems.  It’s not that serious.  You get sick, you get over it.  I’ve been to a doctor twice in 15 years, neither was for a sickness.',\n",
       " 'To be honest u can still use it on your resume. When you work at a big corporate place like Walmart or lowes home depot, best buy etc..\\n\\nThey aren\\'t legally allowed to answer questions abt your work history if they are contacted for a reference. They can confirm if you worked there or didn\\'t but they can\\'t say \"yeah he/she was immature and quit randomly so I wouldn\\'t hire him/her\"\\n\\nEven if they could do that, everyone knows you just put your coworker who was your best friend down as your manager or supervisor when u apply for another job. Pretty easy to get around the whole \"I can\\'t just quit or get fired or I can\\'t use it on my resume!\" Thing these days.',\n",
       " 'Whoops u got down voted for questioning the narrative! Evil! Boo that man! He went against the grain!',\n",
       " 'Every retail store is a joke',\n",
       " 'I worked at BB holiday season of 2016. I got mono and was constantly sick with a high fever. I tried to go home once during a shift since I was literally gray and shaking with chills and my manager said no.',\n",
       " 'I just had Covid too and I was away from work I’d test for it that way if it’s positive your manager must give you at least 5 days (:',\n",
       " 'Real talk, they likely won’t keep you on after the holiday, so you should just get ahead of them and quit.',\n",
       " 'The manager needs to unalive themselves.',\n",
       " \"Same shit 23 years later. My last day at blockbuster they didn't let me call in sick, and didn't send me home until I collapsed unconscious against one of the display cases. Then I got told not to come back afterwards as it was a final strike.\",\n",
       " 'At this point you maliciously comply and get.the whole team sick.',\n",
       " 'A job like that is not worth keeping if they dont respect your health. Go work at target or a grocery store instead, or better yet go to a tradeschool if ur not in college and leave all those broke petty people behind.',\n",
       " '“the narrative” Lmao or it’s just likely that a very contagious disease is the disease OP got? no one said it wasn’t the flu',\n",
       " 'Just stay on the ground and act like you’re having convulsions, until someone shows up and spit up a bit, urinate on yourself, and they’ll send you home.',\n",
       " \"Companies are allowed to ask for doctors notes, and it isn't a HIPAA violation to do so. Many companies request notes if you're out multiple days in a row.\",\n",
       " \"A lot of employers ask for doc notes if employees are out, it isn't a HIPAA violation either.\",\n",
       " 'Bro you just back pedaled so hard and still had the ignorance to acuse someone else of looking dumb? Your whole ass generation is fucked if they act like you.',\n",
       " \"Unless you signed certain attendance policies, that's illegal as hell to tell you that you can't call in sick\"]"
      ]
     },
     "execution_count": 16,
     "metadata": {},
     "output_type": "execute_result"
    }
   ],
   "source": [
    "thread.get_conversation()"
   ]
  },
  {
   "cell_type": "code",
   "execution_count": 17,
   "id": "ff4bc967-ed53-409a-af77-81d4df0a1b7d",
   "metadata": {},
   "outputs": [
    {
     "data": {
      "text/plain": [
       "'https://www.reddit.com/r/BestBuyWorkers/comments/18rkcrr'"
      ]
     },
     "execution_count": 17,
     "metadata": {},
     "output_type": "execute_result"
    }
   ],
   "source": [
    "thread.get_url()"
   ]
  },
  {
   "cell_type": "code",
   "execution_count": null,
   "id": "62247273-1ec1-4534-9971-5c54d9c4c931",
   "metadata": {},
   "outputs": [],
   "source": []
  }
 ],
 "metadata": {
  "kernelspec": {
   "display_name": "Python 3 (ipykernel)",
   "language": "python",
   "name": "python3"
  },
  "language_info": {
   "codemirror_mode": {
    "name": "ipython",
    "version": 3
   },
   "file_extension": ".py",
   "mimetype": "text/x-python",
   "name": "python",
   "nbconvert_exporter": "python",
   "pygments_lexer": "ipython3",
   "version": "3.11.7"
  }
 },
 "nbformat": 4,
 "nbformat_minor": 5
}
