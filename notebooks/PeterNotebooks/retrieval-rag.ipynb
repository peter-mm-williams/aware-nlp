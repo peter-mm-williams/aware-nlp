{
 "cells": [
  {
   "cell_type": "code",
   "execution_count": 1,
   "metadata": {},
   "outputs": [
    {
     "name": "stderr",
     "output_type": "stream",
     "text": [
      "c:\\Users\\peter\\AppData\\Local\\Programs\\Python\\Python310\\lib\\site-packages\\tqdm\\auto.py:21: TqdmWarning: IProgress not found. Please update jupyter and ipywidgets. See https://ipywidgets.readthedocs.io/en/stable/user_install.html\n",
      "  from .autonotebook import tqdm as notebook_tqdm\n"
     ]
    }
   ],
   "source": [
    "import numpy as np\n",
    "from sklearn.metrics.pairwise import cosine_similarity\n",
    "from sentence_transformers import SentenceTransformer\n",
    "import json\n",
    "import pandas as pd"
   ]
  },
  {
   "cell_type": "markdown",
   "metadata": {},
   "source": [
    "#### Define Retriever Class\n",
    "Given the inputs below performs the retrieval step of RAG:\n",
    "- model_name: for the embeddings (see: https://www.sbert.net/docs/pretrained_models.html)\n",
    "- sentences: a list of strings to be embedded\n",
    "- similarity_metric: a function to evaluate similarities (defaults to cosine_similarity)\n",
    "- query: prompt against which to \n",
    "</br></br>\n",
    "Methods:\n",
    "    - make_embeddings():\n",
    "      + maps original sentences to embedding space; fills attribute \"embeddings\"\n",
    "    - retrieve(query, n):\n",
    "      + finds the n closest sentences in embedding space according to the provided similarity_metric"
   ]
  },
  {
   "cell_type": "code",
   "execution_count": 2,
   "metadata": {},
   "outputs": [],
   "source": [
    "from typing import List, Callable\n",
    "\n",
    "class Retriever:\n",
    "    def __init__(self, \n",
    "                 model_name: str, \n",
    "                 sentences: List[str],\n",
    "                 similarity_metric: Callable = cosine_similarity\n",
    "                 ):\n",
    "        self.model = SentenceTransformer(model_name)\n",
    "        self.sentences = sentences\n",
    "        self.metric = similarity_metric\n",
    "        self.embeddings = None\n",
    "\n",
    "    def make_embeddings(self):\n",
    "        self.embeddings = self.model.encode(self.sentences)\n",
    "\n",
    "    def retrieve(self, query: str, n: int = 10):\n",
    "        if self.embeddings is None:\n",
    "            self.make_embeddings()\n",
    "        query_embedding = self.model.encode([query])\n",
    "        scores = self.metric(query_embedding, self.embeddings)\n",
    "        top_n_idx = np.argsort(scores[0])[::-1][:n]\n",
    "        return [\n",
    "            {\n",
    "                'response': self.sentences[i],\n",
    "                'score': scores[0][i] \n",
    "            }\n",
    "            for i in top_n_idx\n",
    "        ]"
   ]
  },
  {
   "cell_type": "markdown",
   "metadata": {},
   "source": [
    "Load Best Buy Worker Data"
   ]
  },
  {
   "cell_type": "code",
   "execution_count": 3,
   "metadata": {},
   "outputs": [
    {
     "ename": "FileNotFoundError",
     "evalue": "[Errno 2] No such file or directory: '../data/BestBuyWorkers.json'",
     "output_type": "error",
     "traceback": [
      "\u001b[1;31m---------------------------------------------------------------------------\u001b[0m",
      "\u001b[1;31mFileNotFoundError\u001b[0m                         Traceback (most recent call last)",
      "Cell \u001b[1;32mIn[3], line 1\u001b[0m\n\u001b[1;32m----> 1\u001b[0m \u001b[38;5;28;01mwith\u001b[39;00m \u001b[38;5;28;43mopen\u001b[39;49m\u001b[43m(\u001b[49m\u001b[38;5;124;43m'\u001b[39;49m\u001b[38;5;124;43m../data/BestBuyWorkers.json\u001b[39;49m\u001b[38;5;124;43m'\u001b[39;49m\u001b[43m,\u001b[49m\u001b[43m \u001b[49m\u001b[38;5;124;43m'\u001b[39;49m\u001b[38;5;124;43mr\u001b[39;49m\u001b[38;5;124;43m'\u001b[39;49m\u001b[43m)\u001b[49m \u001b[38;5;28;01mas\u001b[39;00m f:\n\u001b[0;32m      2\u001b[0m     workers \u001b[38;5;241m=\u001b[39m json\u001b[38;5;241m.\u001b[39mload(f)\n",
      "File \u001b[1;32m~\\AppData\\Roaming\\Python\\Python310\\site-packages\\IPython\\core\\interactiveshell.py:284\u001b[0m, in \u001b[0;36m_modified_open\u001b[1;34m(file, *args, **kwargs)\u001b[0m\n\u001b[0;32m    277\u001b[0m \u001b[38;5;28;01mif\u001b[39;00m file \u001b[38;5;129;01min\u001b[39;00m {\u001b[38;5;241m0\u001b[39m, \u001b[38;5;241m1\u001b[39m, \u001b[38;5;241m2\u001b[39m}:\n\u001b[0;32m    278\u001b[0m     \u001b[38;5;28;01mraise\u001b[39;00m \u001b[38;5;167;01mValueError\u001b[39;00m(\n\u001b[0;32m    279\u001b[0m         \u001b[38;5;124mf\u001b[39m\u001b[38;5;124m\"\u001b[39m\u001b[38;5;124mIPython won\u001b[39m\u001b[38;5;124m'\u001b[39m\u001b[38;5;124mt let you open fd=\u001b[39m\u001b[38;5;132;01m{\u001b[39;00mfile\u001b[38;5;132;01m}\u001b[39;00m\u001b[38;5;124m by default \u001b[39m\u001b[38;5;124m\"\u001b[39m\n\u001b[0;32m    280\u001b[0m         \u001b[38;5;124m\"\u001b[39m\u001b[38;5;124mas it is likely to crash IPython. If you know what you are doing, \u001b[39m\u001b[38;5;124m\"\u001b[39m\n\u001b[0;32m    281\u001b[0m         \u001b[38;5;124m\"\u001b[39m\u001b[38;5;124myou can use builtins\u001b[39m\u001b[38;5;124m'\u001b[39m\u001b[38;5;124m open.\u001b[39m\u001b[38;5;124m\"\u001b[39m\n\u001b[0;32m    282\u001b[0m     )\n\u001b[1;32m--> 284\u001b[0m \u001b[38;5;28;01mreturn\u001b[39;00m io_open(file, \u001b[38;5;241m*\u001b[39margs, \u001b[38;5;241m*\u001b[39m\u001b[38;5;241m*\u001b[39mkwargs)\n",
      "\u001b[1;31mFileNotFoundError\u001b[0m: [Errno 2] No such file or directory: '../data/BestBuyWorkers.json'"
     ]
    }
   ],
   "source": [
    "with open('../../data/BestBuyWorkers.json', 'r') as f:\n",
    "    workers = json.load(f)"
   ]
  },
  {
   "cell_type": "markdown",
   "metadata": {},
   "source": [
    "Format sentences from title and text"
   ]
  },
  {
   "cell_type": "code",
   "execution_count": 6,
   "metadata": {},
   "outputs": [],
   "source": [
    "def format_reddit_entry(entry: dict) -> str:\n",
    "    title = entry['reddit_title'].strip() if entry['reddit_title'] else ''\n",
    "    text = entry['reddit_text'].strip() if entry['reddit_text'] else ''\n",
    "    text = text.replace('\\n', ' ')\n",
    "    if len(title)>0:\n",
    "        if len(text)>0:\n",
    "            return title+'; '+text\n",
    "        return title\n",
    "    else:\n",
    "        if len(text)>0:\n",
    "            return text\n",
    "    return None\n",
    "sentences = [format_reddit_entry(worker) for worker in workers]\n",
    "# clean out the None entries\n",
    "sentences = [sentence for sentence in sentences if sentence]"
   ]
  },
  {
   "cell_type": "code",
   "execution_count": 33,
   "metadata": {},
   "outputs": [],
   "source": [
    "retriever = Retriever('multi-qa-mpnet-base-dot-v1', sentences)\n",
    "retriever.make_embeddings()\n"
   ]
  },
  {
   "cell_type": "code",
   "execution_count": 41,
   "metadata": {},
   "outputs": [
    {
     "name": "stdout",
     "output_type": "stream",
     "text": [
      "Query: What do employees of Best Buy think of the company?\n",
      "---\n",
      "0.802: What is your opinion on Best Buy currently.\n",
      "0.759: Why are you at Best Buy?\n",
      "0.750: Don’t listen to this guy, I work there and the team environment is outstanding everyone stands around talking to each other and let’s the antisocial people ring up the customers. You’ll enjoy Best Buy as long as you aren’t antisocial and you actually enjoy technology\n",
      "0.738: Life as a Best Buy worker 💀\n",
      "0.732: Being a veteran and Best Buy employee, I can see what you and OP mean. It really depends on the individual, but the blanket statement is accurate enough.\n",
      "0.721: Best Buy used to be a great company to work for before Corie the CEO took over. Employees used to love working there, staffing was great, it wasn’t all about stupid sales metrics. Times have changed\n",
      "0.719: And one last thing: have an open mind. Best Buy will not be a career for 98% of current employees. Use what skills and knowledge you learn here to springboard yourself into a better, higher paying position. Don’t let complacency and comfortability overtake your potential.\n",
      "0.717: Gotcha, thanks. I only worked at Best Buy for a few months last year, but I'm fascinated by what's going on with this company and its apparent impending doom. So I like to keep up on the drama 😂\n",
      "0.714: Ngl best buy always had an air of suck but man was employee sentiment so much better under Hubert.\n",
      "0.711: I was there almost 5 years before my position was gone. They had no trouble eliminating the position of someone else that was there for almost 30 years. Best Buy does not care about you.\n",
      "0.711: Considering a job at Best Buy; Exactly what the title says. Be brutally honest please. Ups , downs, pay, benefits, health insurance. (I have a few health issues so I need some pretty decent one) What working there is like in a whole. Is it worth it?\n",
      "0.693: Best Buy is a stepping stone for most people. When you factor in all the BS we’ve had to deal with the last couple years, there’s no incentive to stay. The company has made it crystal clear that hard work and loyalty are not enough. We’re all replaceable.\n",
      "0.687: I personally like the benefits of the job especially how they handled the pandemic. As far as the working environment it’s going to very from store to store and I think depends on the management for each store and for me usually the biggest frustration I have are with the customers. If you are really worried about it maybe you could go to the store and walk around and just kind of see how the employees interact with each other. I’ve worked for Walmart and Target previously and I’ve stayed at Best Buy  A LOT longer than I was at any other retail store. As far as the pay I don’t handle that so I’m not to familiar with it.\n",
      "0.685: Are there things you think Best Buy could do to help retain employees that it is not currently doing? i.e. wages, benefits, healthcare, vacation time, etc.?\n",
      "0.682: Move on and look for something better. Or hang in there till you actually find something. Yes, the pay is decent but you can do better based on your experience. Plus best buy looks good as a stepping stone for your resume. Don't think it gets better because it won't. Maybe 6 years ago it was better, but the new version and direction isn't worth the stress. Look around you, if the seasoned staff and veterans are leaving it should be a clear indicator that it's a lost cause. Don't let best buy burn you out or change you as a person for the sake of sales goals.  Best Buy has 0 concern about employee retention. Just credit card apps,TTS and NPS. All factors that affect achievers and leadership bonuses. Not the individuals doing the work. You do everything and get nothing while the leaders get everything.  Get out when you can.\n",
      "0.681: This is for Best Buy employees. Wrong Reddit\n",
      "0.676: It honestly feels like Best Buy wants this type now.  Company used to be about taking care of the customers and its employees.  Now it's all about tricking them.  I don't like this place anymore.\n",
      "0.675: How did you get a job at Best Buy? Did you apply online or walk in and ask to speak with a manager? What did you say to the manager?; ?\n",
      "0.671: This is my honest opinion I just recently left Best Buy after almost a year as part time computer sales. It has its ups and downs.  I found most of my coworkers to be incredible and people I still talk to now after leaving. The work can be easy on slow days as you’re just Downstocking and facing things.  But the worst part is management and metrics. Although your store may be different, this is just my experience, At my store, some associates are getting paid less then minimum wage. You get no incentive for pushing sales. You’re basically a scummy sales man. You push and push and if it doesn’t work you get reprimanded by management. Even having your hours cut down to 4 hours a week if you don’t meet your goals.  You don’t get recognized for your efforts but i understand that’s a lot of workplaces now. A lot of management were misogynistic and did not want to hire women. I could go on and on You honestly might get a pay cut going from Walmart to Best Buy and they very rarely give raises\n",
      "0.670: My friend is a GM of a Costco and has been working with the company for almost 20 years. Sounds like you guys really compensate your employees with MUCH less stress than what BBY puts on their associates.  When I started with Best Buy back in 2006, I wouldn’t have even considered going anywhere else. Yea, we still had ridiculous sales strats like Care+, but the environment was inviting and the department you were in was your family.  Not anymore. The company is drastically headed downhill. I became one of the OG IHAs and did that until 2019 then got out. So glad I did.\n"
     ]
    }
   ],
   "source": [
    "query = 'What do employees of Best Buy think of the company?'\n",
    "#query = 'What do employees share about promotions at Best Buy?'\n",
    "responses = retriever.retrieve(query, n=20)\n",
    "\n",
    "print(f'Query: {query}\\n---')\n",
    "for response in responses:\n",
    "    print(f'{response[\"score\"]:.3f}: {response[\"response\"]}')"
   ]
  },
  {
   "cell_type": "markdown",
   "metadata": {},
   "source": [
    "Naive Generation using HuggingFace"
   ]
  },
  {
   "cell_type": "code",
   "execution_count": 2,
   "metadata": {},
   "outputs": [],
   "source": [
    "from langchain.prompts import PromptTemplate\n",
    "from langchain.chains import LLMChain\n",
    "from langchain_community.llms import HuggingFaceHub\n",
    "import os\n",
    "\n",
    "huggingfacehub_api_token = os.getenv('HUGGINGFACE_API_TOKEN')\n",
    "\n",
    "template = \"\"\"\n",
    "Please construct an answer to the question: '{query}' by summarizing the testimonials provided \n",
    "in the responses below (delimeted by --).\n",
    "\n",
    "Responses: {responses}\n",
    "```\n",
    "\"\"\"\n",
    "\n",
    "prompt = PromptTemplate(template=template, input_variables=[\"query\", \"responses\"])"
   ]
  },
  {
   "cell_type": "code",
   "execution_count": 87,
   "metadata": {},
   "outputs": [],
   "source": [
    "llm = HuggingFaceHub(repo_id='tiiuae/falcon-7b-instruct', huggingfacehub_api_token=huggingfacehub_api_token)\n",
    "llm_chain = LLMChain(prompt=prompt, llm=llm)"
   ]
  },
  {
   "cell_type": "code",
   "execution_count": 90,
   "metadata": {},
   "outputs": [],
   "source": [
    "out = llm_chain.run(query=query, \n",
    "              responses='--'.join(['']+[response['response'] for response in responses[:8]])\n",
    ")"
   ]
  },
  {
   "cell_type": "code",
   "execution_count": 93,
   "metadata": {},
   "outputs": [
    {
     "data": {
      "text/plain": [
       "\"The employees of Best Buy have mixed opinions about the company. Some employees enjoy the team environment and the opportunity to interact with customers, while others find it difficult to work with antisocial individuals. The majority of employees have a positive attitude towards the company, but some are concerned about the company's future due to recent financial struggles.\""
      ]
     },
     "metadata": {},
     "output_type": "display_data"
    }
   ],
   "source": [
    "display(out.split('```')[1].strip())"
   ]
  },
  {
   "cell_type": "code",
   "execution_count": null,
   "metadata": {},
   "outputs": [],
   "source": []
  },
  {
   "cell_type": "code",
   "execution_count": null,
   "metadata": {},
   "outputs": [],
   "source": []
  }
 ],
 "metadata": {
  "kernelspec": {
   "display_name": "Python 3",
   "language": "python",
   "name": "python3"
  },
  "language_info": {
   "codemirror_mode": {
    "name": "ipython",
    "version": 3
   },
   "file_extension": ".py",
   "mimetype": "text/x-python",
   "name": "python",
   "nbconvert_exporter": "python",
   "pygments_lexer": "ipython3",
   "version": "3.10.4"
  }
 },
 "nbformat": 4,
 "nbformat_minor": 2
}
