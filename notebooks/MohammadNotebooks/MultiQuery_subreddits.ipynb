{
 "cells": [
  {
   "cell_type": "code",
   "execution_count": 1,
   "id": "221e87a2",
   "metadata": {},
   "outputs": [],
   "source": [
    "from dotenv import load_dotenv\n",
    "import os\n",
    "os.environ['LANGCHAIN_TRACING_V2'] = 'true'\n",
    "os.environ['LANGCHAIN_ENDPOINT'] = 'https://api.smith.langchain.com'\n",
    "os.environ['LANGCHAIN_API_KEY'] = <LANGCHAIN_API_KEY>,
    "os.environ['OPENAI_API_KEY'] = <OPENAPI_KEY>
   ]
  },
  {
   "cell_type": "code",
   "execution_count": 2,
   "id": "49eb12ca",
   "metadata": {},
   "outputs": [
    {
     "name": "stdout",
     "output_type": "stream",
     "text": [
      "Requirement already satisfied: langchain-experimental in c:\\users\\mnoor\\anaconda3\\lib\\site-packages (0.0.57)\n",
      "Requirement already satisfied: langchain<0.2.0,>=0.1.15 in c:\\users\\mnoor\\anaconda3\\lib\\site-packages (from langchain-experimental) (0.1.16)\n",
      "Requirement already satisfied: langchain-core<0.2.0,>=0.1.41 in c:\\users\\mnoor\\anaconda3\\lib\\site-packages (from langchain-experimental) (0.1.43)\n",
      "Requirement already satisfied: PyYAML>=5.3 in c:\\users\\mnoor\\anaconda3\\lib\\site-packages (from langchain<0.2.0,>=0.1.15->langchain-experimental) (6.0)\n",
      "Requirement already satisfied: SQLAlchemy<3,>=1.4 in c:\\users\\mnoor\\anaconda3\\lib\\site-packages (from langchain<0.2.0,>=0.1.15->langchain-experimental) (1.4.39)\n",
      "Requirement already satisfied: aiohttp<4.0.0,>=3.8.3 in c:\\users\\mnoor\\anaconda3\\lib\\site-packages (from langchain<0.2.0,>=0.1.15->langchain-experimental) (3.8.5)\n",
      "Requirement already satisfied: dataclasses-json<0.7,>=0.5.7 in c:\\users\\mnoor\\anaconda3\\lib\\site-packages (from langchain<0.2.0,>=0.1.15->langchain-experimental) (0.6.4)\n",
      "Requirement already satisfied: jsonpatch<2.0,>=1.33 in c:\\users\\mnoor\\anaconda3\\lib\\site-packages (from langchain<0.2.0,>=0.1.15->langchain-experimental) (1.33)\n",
      "Requirement already satisfied: langchain-community<0.1,>=0.0.32 in c:\\users\\mnoor\\anaconda3\\lib\\site-packages (from langchain<0.2.0,>=0.1.15->langchain-experimental) (0.0.33)\n",
      "Requirement already satisfied: langchain-text-splitters<0.1,>=0.0.1 in c:\\users\\mnoor\\anaconda3\\lib\\site-packages (from langchain<0.2.0,>=0.1.15->langchain-experimental) (0.0.1)\n",
      "Requirement already satisfied: langsmith<0.2.0,>=0.1.17 in c:\\users\\mnoor\\anaconda3\\lib\\site-packages (from langchain<0.2.0,>=0.1.15->langchain-experimental) (0.1.48)\n",
      "Requirement already satisfied: numpy<2,>=1 in c:\\users\\mnoor\\anaconda3\\lib\\site-packages (from langchain<0.2.0,>=0.1.15->langchain-experimental) (1.24.3)\n",
      "Requirement already satisfied: pydantic<3,>=1 in c:\\users\\mnoor\\anaconda3\\lib\\site-packages (from langchain<0.2.0,>=0.1.15->langchain-experimental) (1.10.8)\n",
      "Requirement already satisfied: requests<3,>=2 in c:\\users\\mnoor\\anaconda3\\lib\\site-packages (from langchain<0.2.0,>=0.1.15->langchain-experimental) (2.31.0)\n",
      "Requirement already satisfied: tenacity<9.0.0,>=8.1.0 in c:\\users\\mnoor\\anaconda3\\lib\\site-packages (from langchain<0.2.0,>=0.1.15->langchain-experimental) (8.2.3)\n",
      "Requirement already satisfied: packaging<24.0,>=23.2 in c:\\users\\mnoor\\anaconda3\\lib\\site-packages (from langchain-core<0.2.0,>=0.1.41->langchain-experimental) (23.2)\n",
      "Requirement already satisfied: attrs>=17.3.0 in c:\\users\\mnoor\\anaconda3\\lib\\site-packages (from aiohttp<4.0.0,>=3.8.3->langchain<0.2.0,>=0.1.15->langchain-experimental) (22.1.0)\n",
      "Requirement already satisfied: charset-normalizer<4.0,>=2.0 in c:\\users\\mnoor\\anaconda3\\lib\\site-packages (from aiohttp<4.0.0,>=3.8.3->langchain<0.2.0,>=0.1.15->langchain-experimental) (2.0.4)\n",
      "Requirement already satisfied: multidict<7.0,>=4.5 in c:\\users\\mnoor\\anaconda3\\lib\\site-packages (from aiohttp<4.0.0,>=3.8.3->langchain<0.2.0,>=0.1.15->langchain-experimental) (6.0.2)\n",
      "Requirement already satisfied: async-timeout<5.0,>=4.0.0a3 in c:\\users\\mnoor\\anaconda3\\lib\\site-packages (from aiohttp<4.0.0,>=3.8.3->langchain<0.2.0,>=0.1.15->langchain-experimental) (4.0.2)\n",
      "Requirement already satisfied: yarl<2.0,>=1.0 in c:\\users\\mnoor\\anaconda3\\lib\\site-packages (from aiohttp<4.0.0,>=3.8.3->langchain<0.2.0,>=0.1.15->langchain-experimental) (1.8.1)\n",
      "Requirement already satisfied: frozenlist>=1.1.1 in c:\\users\\mnoor\\anaconda3\\lib\\site-packages (from aiohttp<4.0.0,>=3.8.3->langchain<0.2.0,>=0.1.15->langchain-experimental) (1.3.3)\n",
      "Requirement already satisfied: aiosignal>=1.1.2 in c:\\users\\mnoor\\anaconda3\\lib\\site-packages (from aiohttp<4.0.0,>=3.8.3->langchain<0.2.0,>=0.1.15->langchain-experimental) (1.2.0)\n",
      "Requirement already satisfied: marshmallow<4.0.0,>=3.18.0 in c:\\users\\mnoor\\anaconda3\\lib\\site-packages (from dataclasses-json<0.7,>=0.5.7->langchain<0.2.0,>=0.1.15->langchain-experimental) (3.21.1)\n",
      "Requirement already satisfied: typing-inspect<1,>=0.4.0 in c:\\users\\mnoor\\anaconda3\\lib\\site-packages (from dataclasses-json<0.7,>=0.5.7->langchain<0.2.0,>=0.1.15->langchain-experimental) (0.9.0)\n",
      "Requirement already satisfied: jsonpointer>=1.9 in c:\\users\\mnoor\\anaconda3\\lib\\site-packages (from jsonpatch<2.0,>=1.33->langchain<0.2.0,>=0.1.15->langchain-experimental) (2.1)\n",
      "Requirement already satisfied: orjson<4.0.0,>=3.9.14 in c:\\users\\mnoor\\anaconda3\\lib\\site-packages (from langsmith<0.2.0,>=0.1.17->langchain<0.2.0,>=0.1.15->langchain-experimental) (3.10.1)\n",
      "Requirement already satisfied: typing-extensions>=4.2.0 in c:\\users\\mnoor\\anaconda3\\lib\\site-packages (from pydantic<3,>=1->langchain<0.2.0,>=0.1.15->langchain-experimental) (4.11.0)\n",
      "Requirement already satisfied: idna<4,>=2.5 in c:\\users\\mnoor\\anaconda3\\lib\\site-packages (from requests<3,>=2->langchain<0.2.0,>=0.1.15->langchain-experimental) (3.4)\n",
      "Requirement already satisfied: urllib3<3,>=1.21.1 in c:\\users\\mnoor\\anaconda3\\lib\\site-packages (from requests<3,>=2->langchain<0.2.0,>=0.1.15->langchain-experimental) (2.2.1)\n",
      "Requirement already satisfied: certifi>=2017.4.17 in c:\\users\\mnoor\\anaconda3\\lib\\site-packages (from requests<3,>=2->langchain<0.2.0,>=0.1.15->langchain-experimental) (2023.11.17)\n",
      "Requirement already satisfied: greenlet!=0.4.17 in c:\\users\\mnoor\\anaconda3\\lib\\site-packages (from SQLAlchemy<3,>=1.4->langchain<0.2.0,>=0.1.15->langchain-experimental) (2.0.1)\n",
      "Requirement already satisfied: mypy-extensions>=0.3.0 in c:\\users\\mnoor\\anaconda3\\lib\\site-packages (from typing-inspect<1,>=0.4.0->dataclasses-json<0.7,>=0.5.7->langchain<0.2.0,>=0.1.15->langchain-experimental) (1.0.0)\n",
      "Note: you may need to restart the kernel to use updated packages.\n"
     ]
    }
   ],
   "source": [
    "pip install langchain-experimental"
   ]
  },
  {
   "cell_type": "code",
   "execution_count": 3,
   "id": "348ec442",
   "metadata": {},
   "outputs": [
    {
     "name": "stdout",
     "output_type": "stream",
     "text": [
      "Requirement already satisfied: sqlalchemy in c:\\users\\mnoor\\anaconda3\\lib\\site-packages (1.4.39)Note: you may need to restart the kernel to use updated packages.\n",
      "\n",
      "Requirement already satisfied: greenlet!=0.4.17 in c:\\users\\mnoor\\anaconda3\\lib\\site-packages (from sqlalchemy) (2.0.1)\n"
     ]
    }
   ],
   "source": [
    "pip install sqlalchemy"
   ]
  },
  {
   "cell_type": "markdown",
   "id": "56533239",
   "metadata": {},
   "source": [
    "# Create Vector Database"
   ]
  },
  {
   "cell_type": "code",
   "execution_count": 4,
   "id": "a8ef85dd",
   "metadata": {},
   "outputs": [
    {
     "name": "stderr",
     "output_type": "stream",
     "text": [
      "C:\\Users\\mnoor\\anaconda3\\Lib\\site-packages\\langchain_core\\_api\\deprecation.py:117: LangChainDeprecationWarning: The class `langchain_community.embeddings.openai.OpenAIEmbeddings` was deprecated in langchain-community 0.0.9 and will be removed in 0.2.0. An updated version of the class exists in the langchain-openai package and should be used instead. To use it run `pip install -U langchain-openai` and import as `from langchain_openai import OpenAIEmbeddings`.\n",
      "  warn_deprecated(\n"
     ]
    }
   ],
   "source": [
    "from langchain.embeddings.openai import OpenAIEmbeddings\n",
    "from langchain.text_splitter import RecursiveCharacterTextSplitter\n",
    "from langchain.vectorstores import Chroma\n",
    "from langchain.document_loaders import WebBaseLoader\n",
    "\n",
    "from langchain.docstore.document import Document\n",
    "\n",
    "import pandas as pd\n",
    "\n",
    "#sample_file = '../../data/best_buy/LLMLabelledTestDataset/all_questions_final_dataset.csv'\n",
    "sample_file = '../../data/best_buy/questions_statements_labels_edited.csv'\n",
    "\n",
    "df_labeled = pd.read_csv(sample_file)\n",
    "all_sentences_list = df_labeled['statement'].tolist()\n",
    "\n",
    "# Embed and store your #docs/vectors\n",
    "embedding = OpenAIEmbeddings()\n",
    "vectordb = Chroma.from_texts(texts=all_sentences_list, embedding=embedding)"
   ]
  },
  {
   "cell_type": "code",
   "execution_count": 5,
   "id": "b29f3dcb",
   "metadata": {},
   "outputs": [
    {
     "data": {
      "text/plain": [
       "['![gif](giphy|znRstrOYuirrW)',\n",
       " '#shockedpikachuface',\n",
       " '12 hr shift here too. Normal pay man',\n",
       " '12-day Application Review; What is the usual duration to receive a response for an application? I submitted one on Dec 15 and it is still under review. Is this unusual or do they take a long time to review?',\n",
       " \"Absolutely. I had a talk with a leader last week about this, pointing out that we're running a bare minimum of staff who have to know and do more than ever before while being paid less than we were just two years ago.\",\n",
       " \"Accomodations; How do they work now? Back in the day I literally searched accomodation on learning lounge or whatever it was called, did some learnings and got hella deals. What's the process now? I looked on Learning Network and all I saw was the one for a paper tablet?\",\n",
       " 'Always remember, HR is here to protect the company',\n",
       " 'And one last thing: have an open mind. Best Buy will not be a career for 98% of current employees. Use what skills and knowledge you learn here to springboard yourself into a better, higher paying position. Donâ€™t let complacency and comfortability overtake your potential.',\n",
       " 'Are you an employee?',\n",
       " 'As geeksquad I rerelease take lunch let alone breaks. But Iâ€™m definitely seeing the sales floor get hit with the, â€œ we have too many employees and not enough hoursâ€ while at the same time being severely understaffed in everything we do.most sales associates get 10ish hrs per week. Customers wait about 20 min to get helped. And whatâ€™s best is when they have geek squad at the register because they need â€œhelpâ€ and then yell at us for NPS sucking cause our work didnâ€™t get done.  We all should be looking for new jobs.',\n",
       " 'Being a veteran and Best Buy employee, I can see what you and OP mean. It really depends on the individual, but the blanket statement is accurate enough.',\n",
       " 'Best Buy doesnâ€™t want salesmen anymore. Old school selling skills are gone and not taught/no more induction training for new employees.  Culture has changed in BB and not for the better',\n",
       " 'Best Buy is running out of good reasons for people to value working here. The employee discount seems to get weaker all the time and accommodations are almost nonexistent. And judging from the nonstop openings at the stores in my area Iâ€™m guessing the turnover rate has gone wayyy up because thereâ€™s no reason to stay if you can switch to Target, Costco or any other retailer and make the same.',\n",
       " 'Best Buy used to be a great company to work for before Corie the CEO took over. Employees used to love working there, staffing was great, it wasnâ€™t all about stupid sales metrics. Times have changed',\n",
       " 'Blue polos with yellow; Did anyone else get new blue polos with yellow where the buttons are?',\n",
       " 'Depends on a lot things whether there is out of state travel. The biggest factor that I have seen is when it comes to remodels or covering projects for teams doing the remodels.',\n",
       " \"Do yourself a favor, don't.  It's not worth it and no matter how well you do one month they will want more the next.    As a seasonal, keep doing what you are, when they ask what is wrong say you don't feel confident or trained on how to support certain customers.  This will force the EMs hand to help you. If the supervisor isn't capable of helping move to them and tell them on your own accord you want to be better and to meet goals.  If you are reliable, on time, and focused they have no excuse but to keep scheduling you.   But seriously go anywhere else.\",\n",
       " 'Donâ€™t listen to this guy, I work there and the team environment is outstanding everyone stands around talking to each other and letâ€™s the antisocial people ring up the customers. Youâ€™ll enjoy Best Buy as long as you arenâ€™t antisocial and you actually enjoy technology',\n",
       " 'Ew lol',\n",
       " \"Former employee here. Please unionize if possible. Someone needs to get the ball rolling but once it is people will hop in and push it. Corporate is making it obvious that unions would hurt them in a big way. That's why they go through the effort to control other subreddits and show an anti-union presentation. They know unions are the correct solution to their behaviour, now they're trying as hard as possible to make sure not enough people realize that soon enough to do something. This also may be part of why they're letting leaders go first (and pay ofc). They may be thinking they get rid of all the leaders, and see the rest as sheep that won't make moves to unionize without a leader.\",\n",
       " 'From my experience no. Went from CA to ARA and to senior with no video interview. But still did have to do in person interview of course.',\n",
       " 'Got mine today.',\n",
       " 'Got this list from a discord chat',\n",
       " \"Gotcha, thanks. I only worked at Best Buy for a few months last year, but I'm fascinated by what's going on with this company and its apparent impending doom. So I like to keep up on the drama ðŸ˜‚\",\n",
       " \"Had a similar experience with a GM that the company has protected on multiple occasions (moved better stores after sexual misconduct)  GMs make so much more than everyone else it's absurd and I genuinely feel that throws everything off.  Glad I'm years gone from Best Buy.\",\n",
       " \"How many was in stock?; I'm in hawaii. It's 6:45am. So I don't wait in line longer, how many 30x cards did your stores in the mainland get?\",\n",
       " 'I have 8 days coming up. And Iâ€™m 74. Suck it up.',\n",
       " 'I have heard from numerous people who work at banks that the counterfeit pins can be defeated by spraying spray starch on a bill.',\n",
       " 'I mean you really arenâ€™t allowed to record in most places without permission so itâ€™s kinda on you.',\n",
       " 'I support this â¤ï¸',\n",
       " \"I think OP is saying that BEST BUY still makes the same margin on the lower, discounted offer.  So an OEM sale removes our best buy discount because.... why? The discount is provided buy best buy, the sale buy the OEM.  Even with 50% off items, employees should be getting a discount, because Best buy's margin doesn't change.\",\n",
       " \"I'm on an leave of absence and I can access BBY connect, TLC and even learning network lmao\",\n",
       " 'If you ever need anything or questions feel free to message me',\n",
       " \"If you must stay in retail for supervisor pay, go to Lowe's or Target. Made $26 at Lowe's and started at $27.50 in Target. If you are chasing the ladder, I wouldn't stay anywhere more than a year. Especially if you see someone else get picked over you, it's just not worth your life trying to impress one company. Go fluff up your resume and get out there to apply.  Learn some jargon/verbage of the company before you interview and go get your money.\",\n",
       " 'Interesting...my store is primarily African American females in most roles. There are Caucasian, Hispanic and a wide mix of everything else in the store but leadership is primarily female and African American. I will say our diversity is something I appreciate in my store all the other issues are a horse of a different color.',\n",
       " 'Is it just sups? The store I work at is planned to get their staff cut in half.',\n",
       " 'Is it the rumored 10-9 again?',\n",
       " 'It feels so rude. \"Whoo I don\\'t wanna go out there it\\'s cold, better make the employees in thin shirts come out and stand outside my car while my dog honks my horn climbing in my lap and I lose my curbside code and make them do ispu from outside :D\"',\n",
       " 'It still stands that this is not the stop for customers to ask their asinine questions',\n",
       " \"Its orange, I ordered 2 for myself to test them out. The Geek Squad logo polo with the accent, its orange. They're thicker than the usual polos, and shiny if that makes sense.\",\n",
       " 'Itâ€™s pretty straight forwardâ€¦   â€œHey howâ€™s it going? What are you looking for today?â€  â€œOkay, you need a new laptop. Iâ€™ve got a few questions to find what is best for you. Mind if I start with your phone number?â€  This is probably what your GM is asking for.',\n",
       " 'Let Go Today; I was informed today that I was being terminated due to attendance violations. (Being late, not calling out or no call no showing). Itâ€™s been quite the experience over the last 20 months. The people Iâ€™ve worked with, especially in product flow are some of the funniest, most hard-working people Iâ€™ve ever known, and I was honored and privileged to work alongside them.   With that being said, Best Buy, as a corporation, is completely and utterly fucked. Starting at the top, Cori Berri is one of the worst executives Iâ€™ve ever heard of. She constantly takes this company and drives it into the ground. It almost seems intentional at this point. She is a fucking idiot and I wouldnâ€™t trust her to run a lemonade stand, let alone a huge corporation.   To one of my managers in particular, you are an asshole. Plain and simple. You constantly call people out over the walkie for stupid things, knowing damn well that it couldâ€™ve been a 1on1 conversation, or one that didnâ€™t need to occur in the first place. Instead, you sit on your ass or stand at the AP and belittle people. Idgaf how long youâ€™ve worked there, youâ€™re a dick and I hope you eat shit. You constantly bring morale down throughout the store and then wonder why people donâ€™t have good attitudes.  To the managers, STOP INTERRUPTING CONVERSATIONS BETWEEN SALES FLOOR AND CUSTOMERS. It has to be the most deflating thing in the world when youâ€™re having a good conversation with a customer, selling them product, learning about them and their interests, and then hearing over the walkie, â€œoo (salespersonâ€™s name), looks like a good membership opportunityâ€. I hear that and I can feel the balloon being deflated. Fuck your stupid memberships, fuck your stupid credit cards, 99% of customers donâ€™t want it and you make the interactions worse by shoving it down their throats.   With that, Best Buy needs to bring back specialization. One of the biggest complaints that customers have is that â€œyour sales floor doesnâ€™t know shit about the product.â€ Well, how could they? Best Buy wants sales floor to be experts on thousands of products. You know what happens when you try to be an expert on everything? Youâ€™re an expert on nothing. Itâ€™s simply impossible. Best Buy is trying so hard to suck customerâ€™s dicks and',\n",
       " 'Life as a Best Buy worker ðŸ’€',\n",
       " 'Lmao; canâ€™t even learn how to edit a comment? Had to delete it and repost? Welcome to retail tech everyone, where the people in charge donâ€™t even know how to operate basic tech and expect everyone to drop golden eggs.   Definitely a ðŸ¤¡',\n",
       " 'Maybe itâ€™s different from country to country but I know for a fact that Walmart gives 10%off and something similar at costco',\n",
       " \"Move on and look for something better. Or hang in there till you actually find something. Yes, the pay is decent but you can do better based on your experience. Plus best buy looks good as a stepping stone for your resume. Don't think it gets better because it won't. Maybe 6 years ago it was better, but the new version and direction isn't worth the stress. Look around you, if the seasoned staff and veterans are leaving it should be a clear indicator that it's a lost cause. Don't let best buy burn you out or change you as a person for the sake of sales goals.  Best Buy has 0 concern about employee retention. Just credit card apps,TTS and NPS. All factors that affect achievers and leadership bonuses. Not the individuals doing the work. You do everything and get nothing while the leaders get everything.  Get out when you can.\",\n",
       " 'My bestbuy doesnâ€™t care about the cashiers at all they over staff it and donâ€™t even realize whoâ€™s up front or not Iâ€™ve talked to some of the cashiers and they said that they have only sold 2 credit cards in like 8 months because they are so focused on the sales floor',\n",
       " \"Neat. That's illegal. They'll be paying out wages for every worker for years and some fines to the NLRB.  Example: [https://finance.yahoo.com/news/starbucks-broke-law-closing-unionized-235432190.html](https://finance.yahoo.com/news/starbucks-broke-law-closing-unionized-235432190.html)  Wanna know how that ended? [Here's the final order](https://apps.nlrb.gov/link/document.aspx/09031d4583acd8f4) from the Administrative Law Judge who oversaw [the consolidated case](https://www.nlrb.gov/case/03-CA-295470):  &#x200B;  >Respondent, Starbucks Corporation, its officers, agents, and representatives, shall   >   >1. Cease and desist from   >   >(a) Discharging or otherwise discriminating against employees for engaging in union or other protected concerted activity.   >   >(b) Refusing to engage in decisional bargaining over store closures that reasonably can be expected to chill union activity at other Starbucks facilities.   >   >(c) Refusing to bargain over any changes to its policies and practices that have changed since the certification of the Union on April 8, 2022, including enforcement of discipline and the hours of operations of its Ithaca stores.   >   >(d) Suggesting to pro-union employees that they quit their employment if they are unhappy.   >   >(e) Suggesting to employees that it has no intention of complying with the National Labor Relations Act and/or otherwise suggesting that organizing would be futile.   >   >(f) More strictly and consistently enforcing its rules and policies after learning of union activity.   >   >(g) Denying leave requests due to union activity.   >   >(h) Telling employees that it was permanently closing a store when no such decision had been made.   >   >(i) In any manner interfering with, restraining or coercing employees in the exercise of the rights guaranteed them by Section 7 of the Act. If no exceptions are filed as provided by Sec. 102.46 of the Boardâ€™s Rules and Regulations, the findings, conclusions, and recommended Order shall, as provided in Sec. 102.48 of the Rules, be adopted by the Board and all objections to them shall be deemed waived for all purposes. I find\",\n",
       " \"No it's not. You can be put on an action plan for not hitting your expectations..not just get tossed into part time. It's not how things work. It's an empty threat.\",\n",
       " 'No!',\n",
       " \"Nope you can't go to any best buy any more your screwed every one at every best buy will what you did!  Sorry man.\",\n",
       " 'Overworked + underpaid + low hours + good management (if u are lucky)',\n",
       " 'Probably should have added this context in your post.  There are no central recruiters and everything related  hiring is managed directly by the store.How long it takes depends on how busy the store is and how on top of things the hiring manager is. You may hear back in a few days, you may get an email in a month saying you didnâ€™t get the job with no context, and anything in between.',\n",
       " 'Roadie picks up at our store pickup',\n",
       " 'Sony. It seems to be established both in the company and in our consumer base that that name represents high quality, and that perception is correct. The company has decades of experience not only making equipment but making content for it. Samsungs can impress though, and LG, in addition to TCL seem to have improved wildly this year.',\n",
       " 'Sounds like when we had AP and people coming in and proclaiming they had a return.',\n",
       " 'Sounds like you have. Horrible manager. No reason they are keeping the counts down and giving your part timers more hours and close to yours.',\n",
       " 'Thank you so much!',\n",
       " 'Thatâ€™s what happens when they cut staff. Everyone else has to pick up the slack.  It is BS. Warehouse already has enough on their plate',\n",
       " 'The employee app.',\n",
       " 'This is a department of labor issue Turn them in',\n",
       " 'This is actually wildly incorrect. Managers are just as incentivized to push memberships as the line levels are.',\n",
       " 'This is for Best Buy employees. Wrong Reddit',\n",
       " 'Try a price match on the card. I know in my area Micro Center usually has a better price on graphics cards.',\n",
       " \"Typical day; It's frustrating to have more do nothing managers on my shift today (5) than we have people on the sales floor (4).  They spend their time talking amongst themselves, but heaven forbid you take 10 seconds to say hi to a coworker. I barely get time to take a breath between customers before I get orders barked at me- yet they coast through the day.\",\n",
       " 'Well, I worked there for 4 years. 3 of being in the highest ranked sales position in the company (MDC/System Designer) my reasons were pretty well the same grievances company wide. My reasons were compounded by favoritism and sexual harassment. Note** MDC was 100% commission based. You could make ALOT of money if youâ€™re a closer (I am, was one of the top network designers in the country)  Best Buy recently made the largest restructuring theyâ€™ve had in over a decade. This roll out was through the pandemic and VERY ROUGH.   They went from hourly, specialized departments to hourly+commission store wide sales consultants. Meaning the sales people had to step out of their â€œcomfort zoneâ€ and learn other parts of the store they were not familiar with. This new business model included in-home â€œSr. Sales Consultantsâ€ that would advise customers in their homes. On paper and in theory this is a smart move. A personal touch higher paid sales people that are more knowledgeable.   The problem with that is there are only a few guys skilled enough to do these roles and worked mainly on the MDC department along with a handful of Best Buy â€œIn home advisorsâ€ which were just more entry-level system designers. When they rolled everything out they stripped the majority system designers of their titles, made them focus on lesser products and learn the entire store. And high end or high level jobs would go to the 1 or 2 designers that would then take on everyoneâ€™s workload.   It was stressful as hell It was demoralizing being stripped of a prestigious title. It made us feel like a number in a machine  I personally was offered a pay cut and they tried to make me feel excited about it. (Most got raises, more on that later.) THEN MADE ME WORK MORE! The rest of the store basically got pay raises and demoted. Itâ€™s what it felt like. Payed more to eat more shit.  They stopped caring about the things that made the work place fun and focused heavily on subscription based services (TTS) and coached primarily on that. And getting credit cards. The important managers (GM/SSM) are rarely in the store to address concerns and the company has them hide behind a computer all day doing other things.  They are turning more stores into just warehouses, the staff is trained to hand the customer off to a sales consultant or sr sales consultant. So it makes the worker feel less important. A lot of people are taking pay cuts',\n",
       " 'What are manager bonuses like? Iâ€™m certain they have to do with metrics but what percent of your salary is an added bonus?',\n",
       " 'What are the best times to check Employee Accommodatios so you donâ€™t miss out on super limited deals?',\n",
       " 'What the word',\n",
       " 'What was the big meeting about',\n",
       " 'Whatâ€™s the one thing that you despise more than anything else after all these changes?; Personally, the one thing the burns me more than anything else, is being a sales supervisor and getting stuck as front desk host/security for most of my days.   Makes me feel like Iâ€™m hardy being impactful for my team when I canâ€™t be in the trenches with them.',\n",
       " 'When I transferred my former GM and former C & D manager both reached out the GM of the store I wanted to transfer to. I also reached out the area marketplace director to introduce myself. I went from a video interview to immediately a job offer asking when I can start. Depending on which store needs what presents an opportunity',\n",
       " 'When you are told to sell it no matter what or it will cost you your hours/job.....this is the result.',\n",
       " 'Why are you at Best Buy?',\n",
       " 'Will very by store. We may not even have any. Who knows. All depends on what Sony and Xbox sends vs pre orders.',\n",
       " 'With the upmost respect, the employees are really easily replaceable, coming from a former employee. can\\'t tell you how many times I\\'ve gotten no service at all while buying high ticket items.  Went in today for a $700 sound system. PCHO was a nightmare with these 18 year olds walking around laughing, cussing with each other and completely ignoring customers in the aisles. Couldn\\'t tell you how many Edgars were there laughing it up in the middle of the department. Made it to home theater and Didn\\'t get a care in the world while the employees stood around chatting with their thumbs up their ass. Left home theater with a \"do you need help?\" after I\\'ve already grabbed my item after looking all over for it. This after employees walked right on by. Waited till you saw you could tack on something right? Most of y\\'all are useless, and coming from a former employee, I was useless too. I embraced it and apparently so do a lot of employees too. Maybe it\\'s karma but I didn\\'t expect a raise for my shit work. Sorry but I don\\'t feel too bad when the raises don\\'t happen when the majority of the store is shit.',\n",
       " 'Yea, never the employees tho',\n",
       " 'Yeah thats the main way to learn shir',\n",
       " 'Yeah thats the main way to learn shir',\n",
       " 'Yes very true so it falls into PTO bank and if your full time 48 of those hours are for sick use  The policy is the same across the board',\n",
       " 'Young aren\\'t ya?  It\\'s a saying, \"heard it through the grapevine\".  Basically it means I heard a rumor.  I heard this \"rumor\" from several different store level leaders in a market I used to work in. My current store\\'s leaders are being very tight lipped. Albeit the news shows in their behaviors though. They\\'ve all been rather depressed looking lately.',\n",
       " '[deleted]',\n",
       " '[removed]',\n",
       " '^',\n",
       " '^ this one did their own researchðŸ¤£ðŸ¤£ðŸ¤£',\n",
       " 'done company wide every March not on your work anniversary',\n",
       " 'i take only cash tips from anyone thats not a senior citizen doing carry outs after a nice convo and sales are so nice and gives me faith in humanity',\n",
       " \"i've been here for 8 years, work in the highest sales position you can get in the company and am leaving pretty soon. really unhappy with the direction the company is going. took a huge pay cut, am getting really overworked and just generally becoming unhappy. I honestly expect the company to die in the new few years if they  don't bring back our old ceo\",\n",
       " 'nah',\n",
       " 'thank you ! i wish you well']"
      ]
     },
     "execution_count": 5,
     "metadata": {},
     "output_type": "execute_result"
    }
   ],
   "source": [
    "all_sentences_list"
   ]
  },
  {
   "cell_type": "markdown",
   "id": "8b29dfca",
   "metadata": {},
   "source": [
    "# Generate multiqueries and retrieve relevant documents"
   ]
  },
  {
   "cell_type": "code",
   "execution_count": null,
   "id": "b5a31b5a",
   "metadata": {},
   "outputs": [],
   "source": [
    "from langchain.chat_models import ChatOpenAI\n",
    "from langchain.retrievers.multi_query import MultiQueryRetriever\n",
    "from langchain.prompts import PromptTemplate\n",
    "\n",
    "# Set logging for the queries\n",
    "import logging\n",
    "\n",
    "# Set up logging to see your queries\n",
    "logging.basicConfig()\n",
    "logging.getLogger(\"langchain.retrievers.multi_query\").setLevel(logging.INFO)"
   ]
  },
  {
   "cell_type": "code",
   "execution_count": 8,
   "id": "660fce61",
   "metadata": {},
   "outputs": [
    {
     "name": "stderr",
     "output_type": "stream",
     "text": [
      "C:\\Users\\mnoor\\anaconda3\\Lib\\site-packages\\langchain_core\\_api\\deprecation.py:117: LangChainDeprecationWarning: The class `langchain_community.chat_models.openai.ChatOpenAI` was deprecated in langchain-community 0.0.10 and will be removed in 0.2.0. An updated version of the class exists in the langchain-openai package and should be used instead. To use it run `pip install -U langchain-openai` and import as `from langchain_openai import ChatOpenAI`.\n",
      "  warn_deprecated(\n"
     ]
    }
   ],
   "source": [
    "# Your original question\n",
    "#question = \"What do Best Buy employees think of the company?\"\"\n",
    "question = \"What are the most common reasons for employees to leave Best Buy?\"\n",
    "#question = \"Do employees feel understaffed?\"\n",
    "\n",
    "llm = ChatOpenAI(temperature=0)\n",
    "\n",
    "retriever_from_llm = MultiQueryRetriever.from_llm(\n",
    "    retriever=vectordb.as_retriever(), llm=llm\n",
    ")"
   ]
  },
  {
   "cell_type": "code",
   "execution_count": 9,
   "id": "5910d0a5",
   "metadata": {},
   "outputs": [
    {
     "name": "stderr",
     "output_type": "stream",
     "text": [
      "INFO:langchain.retrievers.multi_query:Generated queries: ['1. Why do employees typically resign from their positions at Best Buy?', '2. What factors often contribute to employee turnover at Best Buy?', '3. What are some of the primary reasons that lead employees to depart from Best Buy?']\n"
     ]
    }
   ],
   "source": [
    "unique_docs = retriever_from_llm.get_relevant_documents(query=question)"
   ]
  },
  {
   "cell_type": "code",
   "execution_count": 10,
   "id": "b060cc78",
   "metadata": {},
   "outputs": [
    {
     "data": {
      "text/plain": [
       "[Document(page_content='Best Buy is running out of good reasons for people to value working here. The employee discount seems to get weaker all the time and accommodations are almost nonexistent. And judging from the nonstop openings at the stores in my area Iâ€™m guessing the turnover rate has gone wayyy up because thereâ€™s no reason to stay if you can switch to Target, Costco or any other retailer and make the same.'),\n",
       " Document(page_content=\"Move on and look for something better. Or hang in there till you actually find something. Yes, the pay is decent but you can do better based on your experience. Plus best buy looks good as a stepping stone for your resume. Don't think it gets better because it won't. Maybe 6 years ago it was better, but the new version and direction isn't worth the stress. Look around you, if the seasoned staff and veterans are leaving it should be a clear indicator that it's a lost cause. Don't let best buy burn you out or change you as a person for the sake of sales goals.  Best Buy has 0 concern about employee retention. Just credit card apps,TTS and NPS. All factors that affect achievers and leadership bonuses. Not the individuals doing the work. You do everything and get nothing while the leaders get everything.  Get out when you can.\"),\n",
       " Document(page_content='Why are you at Best Buy?'),\n",
       " Document(page_content='Life as a Best Buy worker ðŸ’€'),\n",
       " Document(page_content='Best Buy doesnâ€™t want salesmen anymore. Old school selling skills are gone and not taught/no more induction training for new employees.  Culture has changed in BB and not for the better'),\n",
       " Document(page_content='Well, I worked there for 4 years. 3 of being in the highest ranked sales position in the company (MDC/System Designer) my reasons were pretty well the same grievances company wide. My reasons were compounded by favoritism and sexual harassment. Note** MDC was 100% commission based. You could make ALOT of money if youâ€™re a closer (I am, was one of the top network designers in the country)  Best Buy recently made the largest restructuring theyâ€™ve had in over a decade. This roll out was through the pandemic and VERY ROUGH.   They went from hourly, specialized departments to hourly+commission store wide sales consultants. Meaning the sales people had to step out of their â€œcomfort zoneâ€ and learn other parts of the store they were not familiar with. This new business model included in-home â€œSr. Sales Consultantsâ€ that would advise customers in their homes. On paper and in theory this is a smart move. A personal touch higher paid sales people that are more knowledgeable.   The problem with that is there are only a few guys skilled enough to do these roles and worked mainly on the MDC department along with a handful of Best Buy â€œIn home advisorsâ€ which were just more entry-level system designers. When they rolled everything out they stripped the majority system designers of their titles, made them focus on lesser products and learn the entire store. And high end or high level jobs would go to the 1 or 2 designers that would then take on everyoneâ€™s workload.   It was stressful as hell It was demoralizing being stripped of a prestigious title. It made us feel like a number in a machine  I personally was offered a pay cut and they tried to make me feel excited about it. (Most got raises, more on that later.) THEN MADE ME WORK MORE! The rest of the store basically got pay raises and demoted. Itâ€™s what it felt like. Payed more to eat more shit.  They stopped caring about the things that made the work place fun and focused heavily on subscription based services (TTS) and coached primarily on that. And getting credit cards. The important managers (GM/SSM) are rarely in the store to address concerns and the company has them hide behind a computer all day doing other things.  They are turning more stores into just warehouses, the staff is trained to hand the customer off to a sales consultant or sr sales consultant. So it makes the worker feel less important. A lot of people are taking pay cuts')]"
      ]
     },
     "execution_count": 10,
     "metadata": {},
     "output_type": "execute_result"
    }
   ],
   "source": [
    "unique_docs"
   ]
  },
  {
   "cell_type": "code",
   "execution_count": 11,
   "id": "ef1646e3",
   "metadata": {},
   "outputs": [
    {
     "data": {
      "text/plain": [
       "6"
      ]
     },
     "execution_count": 11,
     "metadata": {},
     "output_type": "execute_result"
    }
   ],
   "source": [
    "len(unique_docs)"
   ]
  },
  {
   "cell_type": "markdown",
   "id": "a2381dc1",
   "metadata": {},
   "source": [
    "# Prompt to generate answer"
   ]
  },
  {
   "cell_type": "code",
   "execution_count": 12,
   "id": "ea904808",
   "metadata": {},
   "outputs": [],
   "source": [
    "prompt_template = \"\"\"Use the following pieces of context to answer the question at the end.\n",
    "If you don't know the answer, just say that you don't know, don't try to make up an answer.\n",
    "\n",
    "{context}\n",
    "\n",
    "Question: {question}\n",
    "Answer:\"\"\"\n",
    "PROMPT = PromptTemplate(\n",
    "    template=prompt_template, input_variables=[\"context\", \"question\"]\n",
    ")"
   ]
  },
  {
   "cell_type": "markdown",
   "id": "df4b299b",
   "metadata": {},
   "source": [
    "# Generate the answer to the question using the retrieved documents"
   ]
  },
  {
   "cell_type": "code",
   "execution_count": 13,
   "id": "ffcddec9",
   "metadata": {},
   "outputs": [
    {
     "name": "stderr",
     "output_type": "stream",
     "text": [
      "C:\\Users\\mnoor\\anaconda3\\Lib\\site-packages\\langchain_core\\_api\\deprecation.py:117: LangChainDeprecationWarning: The function `predict` was deprecated in LangChain 0.1.7 and will be removed in 0.2.0. Use invoke instead.\n",
      "  warn_deprecated(\n"
     ]
    },
    {
     "data": {
      "text/plain": [
       "'Based on the provided context, the most common reasons for employees to leave Best Buy seem to be weakening employee discounts, lack of accommodations, high turnover rate, lack of career advancement opportunities, favoritism, sexual harassment, restructuring leading to demotions and pay cuts, increased focus on subscription-based services and credit cards, lack of support from upper management, and feeling undervalued or unimportant in the workplace.'"
      ]
     },
     "execution_count": 13,
     "metadata": {},
     "output_type": "execute_result"
    }
   ],
   "source": [
    "llm.predict(text=PROMPT.format_prompt(\n",
    "    context=unique_docs,\n",
    "    question=question\n",
    ").text)"
   ]
  },
  {
   "cell_type": "code",
   "execution_count": null,
   "id": "52deabd3",
   "metadata": {},
   "outputs": [],
   "source": []
  }
 ],
 "metadata": {
  "kernelspec": {
   "display_name": "Python 3 (ipykernel)",
   "language": "python",
   "name": "python3"
  },
  "language_info": {
   "codemirror_mode": {
    "name": "ipython",
    "version": 3
   },
   "file_extension": ".py",
   "mimetype": "text/x-python",
   "name": "python",
   "nbconvert_exporter": "python",
   "pygments_lexer": "ipython3",
   "version": "3.11.5"
  }
 },
 "nbformat": 4,
 "nbformat_minor": 5
}
