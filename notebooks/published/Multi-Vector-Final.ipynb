{
 "cells": [
  {
   "cell_type": "markdown",
   "id": "b1579ec5-9612-416c-8fd4-76243ed34dda",
   "metadata": {},
   "source": [
    "## Importing Libraries"
   ]
  },
  {
   "cell_type": "code",
   "execution_count": 1,
   "id": "c590be0d-a2ec-4be0-beef-4586f6c076e9",
   "metadata": {},
   "outputs": [],
   "source": [
    "import pandas as pd\n",
    "from langchain_community.document_loaders import DataFrameLoader\n",
    "from langchain_community.vectorstores import Chroma\n",
    "from langchain_openai import OpenAIEmbeddings\n",
    "import uuid\n",
    "import os\n",
    "from langchain_core.documents import Document\n",
    "from tqdm import tqdm\n",
    "from langchain_core.prompts import ChatPromptTemplate\n",
    "from langchain.prompts import PromptTemplate\n",
    "from langchain_groq import ChatGroq"
   ]
  },
  {
   "cell_type": "code",
   "execution_count": 2,
   "id": "e5f69ffb-335f-48ba-a65e-7d47a7c336dd",
   "metadata": {},
   "outputs": [],
   "source": [
    "os.environ['OPENAI_API_KEY'] = \"***\"\n",
    "groq_api_key = \"***\""
   ]
  },
  {
   "cell_type": "markdown",
   "id": "e0737676-e083-42bc-bdba-66b04bfe1c97",
   "metadata": {
    "jp-MarkdownHeadingCollapsed": true
   },
   "source": [
    "## Load data and the corresponding summaries"
   ]
  },
  {
   "cell_type": "code",
   "execution_count": 4,
   "id": "6f42b58e-b636-4bfa-a9dd-7db74cb55370",
   "metadata": {},
   "outputs": [
    {
     "name": "stdout",
     "output_type": "stream",
     "text": [
      "loading data ...\n"
     ]
    }
   ],
   "source": [
    "#Load data\n",
    "print(\"loading data ...\")\n",
    "test_dataset = pd.read_csv(\"random_dataset.csv\")\n",
    "loader = DataFrameLoader(test_dataset, page_content_column='statement')\n",
    "orig_test_documents = loader.load()"
   ]
  },
  {
   "cell_type": "markdown",
   "id": "555f3792-9733-4a0d-b1df-1c356a0d2e02",
   "metadata": {
    "jp-MarkdownHeadingCollapsed": true
   },
   "source": [
    "### Pre-generated summaries (generated using mixtral-8x7b)"
   ]
  },
  {
   "cell_type": "code",
   "execution_count": null,
   "id": "86b31f4f-ea94-4d0f-bc26-b7b09bc2e008",
   "metadata": {},
   "outputs": [],
   "source": [
    "def llm_response(docum):\n",
    "    llm = ChatGroq(temperature=0, groq_api_key=groq_api_key, model_name='mixtral-8x7b-32768')\n",
    "    prompt = f\"Summarize the following document:\\n\\n{docum}\"\n",
    "    response = llm.invoke(prompt)\n",
    "    return response\n",
    "\n",
    "summaries = []\n",
    "\n",
    "for docus in tqdm(orig_test_documents): \n",
    "    summaries.append(llm_response(docus.page_content).content)"
   ]
  },
  {
   "cell_type": "code",
   "execution_count": 7,
   "id": "03e47c5b-e3c6-4aef-a26d-b8e22a512865",
   "metadata": {},
   "outputs": [],
   "source": [
    "# we store all the summaries here\n",
    "summaries = ['The document is a forum post from a person living in California who is considering moving to North Carolina to be closer to their family. They are debating whether to transfer to a Best Buy store in North Carolina or start working at a new company. They like working at Best Buy, but have had negative experiences with some of the stores on the east coast. They also mention the advantage of a higher minimum wage in North Carolina, but the potential disadvantage of lower wages at Best Buy compared to California. The post does not provide a clear answer to their question and is seeking advice from the forum community.',\n",
    " \"The document states that the minimum wage at the company is currently $15 per hour. It is unclear from the information provided whether wage adjustments are made when an employee transfers within the company. However, it is noted that if an employee's current wage is not close to the maximum for their position, they should not expect a significant change in pay upon transfer.\",\n",
    " 'The document suggests that it is generally a good idea to transfer to a new location instead of looking for a job after arriving, as it ensures that you have employment upon arrival. If you are not satisfied with the new job, you can always look for a different one.',\n",
    " \"The document indicates that the author has a friend who is employed at Best Buy in NC, and that the friend's work experience is similar to what Best Buy employees experience in other parts of the US. The document does not provide any additional information or context.\",\n",
    " 'The document consists of a single line of text that poses a question to the reader: \"Next layoffs will hit.\" This is followed by a link to a Reddit poll, which suggests that the text is related to a discussion about potential layoffs. However, the document does not provide any additional context or information on the subject.',\n",
    " \"The document appears to express frustration with a company that is described as greedy. The author is concerned that the corporation will increase its pay, but only for a single employee who will have to work alone all day, leading to increased stress. The main points of the document are criticism of the company's perceived greed and concern over the potential negative impact on the employee's work experience.\",\n",
    " 'The document consists of a single question asking if employees will be receiving their paychecks earlier than usual for Christmas. The author suggests that this might be the case, but also acknowledges that it may not be. The document does not provide an answer to this question.',\n",
    " \"The document states that the speaker's payment was received on the 27th of the previous year, which was a Friday. Given that Christmas falls on a Friday this year, the speaker suggests that payment will be received on that day. It can be summarized as: The speaker expects to receive payment on the Friday that Christmas occurs this year, based on the payment date of the previous year.\",\n",
    " \"The document appears to contain a brief message stating that the store will not be open. The author or authors of the message have indicated that they recently received payment during the previous week. The reason for the store's closure is not mentioned in the message.\",\n",
    " \"The document states that the speaker's group received their salary on the previous Friday. For those working in locations with a different pay schedule, the speaker expects the payment to be received either in advance or on the usual Friday. The payment is made electronically and is typically submitted on Tuesdays.\",\n",
    " 'The document suggests that the person might have injured their back while taking down a heavy item from a high shelf. The following steps are recommended:\\n\\n1. Stop any activity and take a rest.\\n2. Apply ice to the affected area to reduce pain and swelling.\\n3. Consider taking over-the-counter pain relievers, such as ibuprofen or acetaminophen, to help manage the pain.\\n4. If the pain persists or worsens, seek medical attention from a healthcare professional.\\n\\nIt is important to avoid strenuous activity and heavy lifting until the back pain has resolved.',\n",
    " 'The document is instructing the reader to take two actions in the event of an unknown situation: first, to inform a manager, and second, to seek medical attention from a doctor. This could be in response to an accident, injury, or other situation where medical attention may be required. It is important to notify a manager in addition to seeking medical help, possibly to ensure that proper protocols are followed and that the necessary actions are taken on the job or workplace.',\n",
    " \"The document recommends that, if an incident occurs, the manager should complete an incident form and the individual should seek medical attention immediately. It is important to ensure that the doctor conducts thorough testing to determine if the injury is permanent. The document warns that companies may try to avoid responsibility for such incidents, so it is crucial to obtain all communications and information in writing. This advice is based on the author's personal experience of injuring their back while working on the salesfloor.\",\n",
    " \"The individual's manager has requested that they visit a doctor first, independently, to obtain a medical evaluation. Once the doctor's appointment has been completed, the manager will then proceed to fill out the accident form, using the doctor's note as supporting documentation.\",\n",
    " \"The document is a question about how to determine a company's target demographic, with a focus on selling products that meet the needs of specific customers. The example used is headphones, and the question asks how to tailor offerings to different types of customers, such as an audiophile with young children or a sports enthusiast who also enjoys music. The individual is seeking information on how to effectively market and sell products by understanding the specific needs and preferences of their target demographic.\",\n",
    " 'The training for headphones is typically provided by manufacturers, who only compare their products to others within their own lineup. A good way to compare headphones from different brands is to read online reviews from credible sources that offer “best of” articles. For the person described, high-end professional headphones that cost $600-700 with Active Noise Cancellation (ANC) technology, such as the Sony WH-1000XM4 or AirPods Max, would be suitable if they need to tune out distractions from children. ANC may not be a common feature for audiophile purists.',\n",
    " 'The document likely advocates for a united response from workers to layoffs that occurred over a year ago. It suggests that workers should come together and take action in response to the layoffs. The message is one of solidarity and collective action.',\n",
    " 'The document being summarized appears to be a personal opinion or statement expressing the view that the reasons for Best Buy employees to form a union are valid. The phrase \"stuff like this\" likely refers to specific issues or experiences that the speaker has observed or heard about, which they believe demonstrate a need for employees to unionize in order to improve their working conditions or job security. However, the specific details of these issues are not provided in the summary statement.',\n",
    " \"The document expresses dissatisfaction with a company's decision to make extreme cuts, including layoffs, to improve earning reports and please stockholders. The author considers this a sign of a dying business and finds it ironic that the company is giving bonuses after laying off employees who were like family.\",\n",
    " 'The document appears to be a brief message from an individual who has been working at Best Buy for eight years. They express a wish that they had been let go from their job, as they would have taken the severance package offered. This suggests that the individual is dissatisfied with their employment at Best Buy.',\n",
    " 'The document suggests an alternative approach to layoffs or \"cuts\" at a company. Instead of abruptly letting go of employees, the company could offer a transition period during which employees could choose to leave voluntarily or switch to part-time work. This could reduce the amount of backlash and vitriol from affected employees. The document also suggests that some employees may be willing to leave or work part-time if given the opportunity, which could help the company avoid layoffs altogether. The document uses the example of an employee who wanted to be fired, and suggests that offering a voluntary exit could have been a better option for both the employee and the company.',\n",
    " 'The document asserts that companies/factories which previously moved their operations to Mexico are now planning to relocate to another poor country due to increasing labor costs in Mexico. This trend of exploiting cheap labor in developing countries is expected to continue until efforts are made to break the cycle.',\n",
    " \"The document is a complaint about Best Buy's handling of the pre-orders for the new Final Fantasy game. The author notes that customers who pre-ordered should have received a steel book, but many did not. The author, who works at Best Buy, reports that their store received only a small number of steel books despite a larger number of pre-orders. The author criticizes Best Buy's pre-order process and advises against pre-ordering from the retailer. Many customer reviews also indicate that they did not receive their steel books.\",\n",
    " 'The document appears to contain a brief summary of an issue with a manufacturer failing to provide a sufficient quantity of products. The issue is not related to Best Buy.',\n",
    " 'The document appears to be a fragmented message about distributing copies of something on Wednesday, possibly a product or promotional material. There is also a question about checking street dates related to product flow. It seems that there is strong employee support for this distribution effort.',\n",
    " 'The document appears to consist of a single sentence, \"Lmaaaoooo if that ain’t fucking true,\" which does not contain any substantive information or arguments. It is difficult to summarize this sentence further as it does not appear to be making a coherent statement or expressing a complete thought.',\n",
    " 'The document appears to be a single sentence stating \"Excuse me, this seems to have a dent in it.\" This suggests that the speaker or writer has noticed some kind of damage in the form of a dent on an object they are referring to. They are politely bringing it to the attention of the recipient of the message. Without more context, it is difficult to provide a more detailed summary.',\n",
    " \"The document is a Reddit post discussing the author's experience of receiving pre-order bonuses from a store. The author was surprised to find that some stores actually verify and provide pre-order bonuses, unlike their previous experiences. The post also includes a picture of the pre-order bonus items, which are additional game content or merchandise offered by retailers when a customer pre-orders a game. The author's surprise highlights the fact that not all stores consistently provide pre-order bonuses, making it a positive and notable experience for the author.\",\n",
    " 'The document states that customers may receive a free steel book with their purchase, but it is not guaranteed as it depends on availability. If the steel book is not sent with the initial order, it will be shipped separately when it becomes available.',\n",
    " 'The person had pre-ordered something and a week after the initial order, a steel book version of the product was offered. The steel book was received one day later than expected, but the person was still satisfied.',\n",
    " 'The document does not provide a direct answer to the question, but it does mention that Best Buy employees receive a discount on both new and open box products. The exact details of the discount, such as the percentage off or specific eligibility for open box TVs, are not provided. It is best to check with Best Buy directly for the most accurate information.',\n",
    " 'The document states that Geeksquad employees are permitted to label a television as being in \"fair\" condition, making it eligible for an additional discount, if an employee intends to purchase the television for their personal use.',\n",
    " 'The document suggests that in the past year, some employees were terminated for engaging in certain behavior. While the specific behavior is not specified, the author advises caution, recommending that it should not be done often and should be done discreetly to avoid detection.',\n",
    " 'The document states that there are no official discounts offered on open box items. This means that the price of open box items, which are products that have been opened or used but are still in good condition, are not reduced officially. However, individual retailers may choose to offer discounts on open box items at their own discretion.',\n",
    " 'The document warns to use a certain approach, presumably related to purchasing items, sparingly and with a delay between marking down an item and purchasing it, in order to avoid being obvious.',\n",
    " 'The document does not provide specific information about a discount on non open box items. It only mentions that non open box items are used or refurbished products that are in good condition and come with a warranty. It is recommended to contact the seller or check their website for information on any discounts or promotions for non open box items.',\n",
    " 'The individual is inquiring about the Geek Squad protection plan they purchased for their $1,300 computer, which costs $269 for 3 years. They want to know what kind of damage can be covered under the plan and are looking for a way to \"scam\" or exploit the system to receive store credit towards a new computer if they don\\'t use the plan. They claim that store employees suggested this possibility.',\n",
    " \"The document explains the process for obtaining a payout for a faulty computer. Unlike other devices, computers must be sent for repair multiple times (up to three times for the same issue) before a payout can be considered. The computer must be severely damaged and beyond cost-effective repair for a payout to be issued on the first repair attempt. The protection policy only covers normal use, so damage caused by abnormal use (e.g., falling out of a monster truck) is not covered. Additionally, the repair process can take several weeks per repair attempt, depending on the repair shop's workload.\",\n",
    " 'The document indicates that the launch day is scheduled for tomorrow and that it is expected to be an enjoyable event. It also contains a cryptic message, \"If you know, you know,\" which could mean that additional information or context is known or understood by certain individuals. Overall, the document is brief and leaves many details unspecified.',\n",
    " 'The document you provided is a webpage from a recipe blog, featuring a recipe for \"The Best Vegan Mac and Cheese.\" The recipe is a vegan version of the classic comfort food, made with a sauce based on cashews, carrots, and potatoes, along with nutritional yeast, lemon juice, and spices. The recipe also includes instructions for preparing elbow pasta and breadcrumbs for topping. The blogger claims that the recipe is \"so creamy and delicious, even non-vegans will love it!\" The webpage also includes step-by-step photos of the preparation process and tips for customization.',\n",
    " 'The document does not provide sufficient information to summarize. The title \"Launch for what?\" is not descriptive enough to provide context for a summary. In order to summarize a document, it is necessary to have a coherent and informative text that provides details, facts, or arguments about a specific topic. This summary would typically include the main ideas, arguments, or conclusions presented in the document. However, without a clear and informative text, it is not possible to provide a summary.',\n",
    " 'The document consists of a single sentence, \"Bro is loosing it,\" which suggests that someone named Bro is losing control of his emotions or behavior. However, without additional context, it is difficult to provide a more detailed summary.',\n",
    " \"The document you provided is a table showing the specifications of a Samsung Galaxy A51 smartphone. Here is a summary of the key specifications:\\n\\n* The Samsung Galaxy A51 is a touchscreen smartphone with a 6.5-inch Super AMOLED display.\\n* It is powered by an octa-core processor with 4GB or 6GB of RAM and 64GB or 128GB of internal storage, which can be expanded using a microSD card.\\n* The phone has a quad-camera system on the back, with a 48-megapixel primary sensor, a 12-megapixel ultra-wide sensor, a 5-megapixel depth sensor, and a 5-megapixel macro sensor. On the front, there is a 32-megapixel selfie camera.\\n* The Samsung Galaxy A51 has a 4000mAh battery and supports 15W fast charging. It runs on Android 10 with Samsung's One UI 2.0 skin on top.\\n* Connectivity options include Wi-Fi, Bluetooth 5.0, GPS, NFC, and a 3.5mm headphone jack. The phone also has an in-display fingerprint sensor for biometric authentication.\\n\\nOverall, the Samsung Galaxy A51 is a mid-range smartphone with a large display, a quad-camera system, and a long-lasting battery. It offers a range of features and specifications that make it a solid choice for users looking for a reliable and affordable device.\",\n",
    " 'The document expresses a preference for BlackBerry (BB) over Samsung, specifically in regards to the ability to eSIM activate on a BlackBerry device, which cannot be done on a Samsung device. The author takes a confrontational tone towards Samsung, indicating a strong opinion or frustration with the brand.',\n",
    " 'The document states that Samsung continues to release new models of smartphones.',\n",
    " 'The document states that the actual demos were not available to display on the Samsung Experience table, and only dummy models for the unlocked version were provided.',\n",
    " 'The document \"Wish me luck (Verizon VPL)\" appears to be a personal message or note, rather than a formal or informational document. It is difficult to summarize its content without more context. However, based on the title and the content of the message, it seems that the author is sharing their excitement or nervousness about an upcoming Verizon Voluntary Program Leave (VPL), and is asking for support or good wishes from the recipient.',\n",
    " \"The document suggests that if electronics retailer Best Buy started selling the newest unlocked model of Apple's iPhone, it would be a very popular and successful move. In contrast, Samsung phones, while still successful, do not generate the same level of excitement or demand on launch days. The document notes that this is not a criticism of Samsung, but simply an observation of the market's preferences.\",\n",
    " 'The document appears to be a fragment or incomplete sentence, and it does not provide enough context or information to summarize. The phrase \"Because they actually come out with new stuff\" is vague and does not clearly refer to any specific subject or context. In order to summarize a document, it is necessary to have a complete and coherent text that provides sufficient information to convey its main points or arguments.',\n",
    " 'The document consists of a single word, \"Hahahaha,\" which suggests laughter or amusement. However, without additional context, it is difficult to provide a more informative summary.',\n",
    " 'The document states that there has been a loss of power, which has resulted in the cancellation of a truck shipment. This development will cause a delay in the launch of a product or service, with 40 pre-orders already affected. The author seems to be taking the situation in stride, referring to it as \"interesting.\"',\n",
    " 'The document appears to be a question posed on a forum or social media platform, asking if any stores have started accepting pre-orders for the OnePlus 12. The author of the document mentions that they are planning to pre-order the device tomorrow and is simply inquiring if any pre-orders are already being accepted. Based on the information provided, there is no actual document or content being summarized, only a single question.',\n",
    " 'The document does not contain enough information to summarize. The phrase \"So many pre orders\" does not provide any context or content for a summary. In order to summarize a document, it is necessary to have a complete and coherent text that presents information or arguments about a particular topic. A summary should provide a brief and concise explanation of the main points and ideas presented in the original text, while leaving out unnecessary details and examples. Without a complete document, it is not possible to provide a summary.',\n",
    " 'The document does not provide sufficient information to fully answer the question, but I will do my best to summarize based on the given text.\\n\\nThe author seems to be inquiring about trade-in options or promotions for a certain product, possibly a mobile device, and expresses a dislike for Samsung and pity for Verizon salespeople (referred to as VPLs). The message does not provide context about the source or specific details about any promotions or trade-in conditions.\\n\\nIn summary, the document appears to be a brief, informal inquiry about trade-in promotions, potentially related to mobile devices, from someone who is not fond of Samsung and empathizes with Verizon salespeople.',\n",
    " 'The document expresses a preference for physical simulations over e-simulations. The author mentions experiencing numerous issues or \"headaches\" when dealing with e-sims.',\n",
    " 'The document states that condition trades are ongoing throughout the year. There is a possibility of receiving additional credit, but no further information on this is provided.',\n",
    " 'The document \"How many is so many?\" by Robert Cialdini discusses the principle of social proof in which people tend to follow the actions and behaviors of the majority, assuming that these actions are correct. The document explains how this principle can be used in various situations, such as sales and marketing, to influence people\\'s decisions. The author also warns about the potential dangers of this principle, such as when people blindly follow the crowd even when it is not in their best interest. The document concludes by emphasizing the importance of critical thinking and not automatically assuming that the majority is always right.',\n",
    " 'The document you provided is the Request for Comments (RFC) 791, which is titled \"Internet Protocol.\" This document defines the Internet Protocol (IP), which is a primary protocol in the Internet protocol suite. The IP is a connectionless protocol that provides a best-effort delivery service for datagrams across internetworks.\\n\\nThe IP operates at the Internet Layer of the Internet Protocol Suite and provides a set of services to the Transport Layer protocols, such as Transmission Control Protocol (TCP) and User Datagram Protocol (UDP). The IP is responsible for delivering packets based on their destination IP address.\\n\\nThe IP packet consists of a header and a payload. The header contains information required to deliver the packet, including the source and destination IP addresses, the time-to-live (TTL) field, and a checksum. The payload contains the data being transmitted.\\n\\nThe IP also provides fragmentation and reassembly of packets, allowing for the transmission of packets larger than the maximum transmission unit (MTU) of the underlying network.\\n\\nIn summary, RFC 791 defines the Internet Protocol, which is a connectionless, best-effort delivery service for datagrams across internetworks. The IP operates at the Internet Layer of the Internet Protocol Suite, providing services to Transport Layer protocols, and is responsible for delivering packets based on their destination IP address.',\n",
    " 'The document appears to be a personal account or review of a company called \"Superior Purchases\" by a former employee. However, the document does not provide a comprehensive overview of the company, its mission, or its products/services. Instead, it focuses on the author\\'s personal experiences and criticisms of the company\\'s management and business practices.\\n\\nThe author describes a toxic work environment with poor communication, unrealistic expectations, and a lack of support for employees. They also mention issues with the company\\'s policies and procedures, including a lack of transparency and inconsistent enforcement.\\n\\nOverall, the document gives a negative impression of Superior Purchases, highlighting the company\\'s weaknesses and shortcomings. However, it is important to note that this is just one person\\'s perspective and may not accurately reflect the experiences of all employees or the current state of the company.',\n",
    " \"The document is a simple, informal greeting wishing someone a happy birthday. It is addressed to the recipient's nephew, and includes a birthday cake emoji. There is no additional information or context provided.\",\n",
    " 'The document consists of a brief message thanking the recipient and asking them to subscribe for more content. There is no additional information provided.',\n",
    " 'The document consists of a single phrase, \"Painfully accurate.\" It does not provide any additional context or information to summarize. The phrase could be interpreted in a number of ways depending on the context in which it is used, but without additional information, a summary is not possible.',\n",
    " 'The author, who works in customer service and curbside pickup at Best Buy, is frustrated with their job due to being understaffed and subsequently being reprimanded for not meeting membership sales goals. They are considering leaving Best Buy for a job at Target, which has a higher starting salary and is located nearby. The author believes that the discount they receive as a Best Buy employee is not worth the stress and poor working conditions they experience.',\n",
    " \"The document describes a person's experience with a video interview for BestBuy, where they encountered technical issues. After completing the interview and clicking the next section button, they were taken back to the camera and audio setup page, and then to the ending video again. The person is unsure if their interview was successfully submitted and is seeking information about the issue.\",\n",
    " 'The document discusses the news that Hobby Lobby, a craft store chain, will increase its minimum wage for full-time workers to $17 per hour starting in October. This is compared to Best Buy, a consumer electronics retailer, and the difference in wages is noted to be significant. The document also mentions that Hobby Lobby employees will have Sundays off, which could be seen as a benefit for those who are not religious and do not want to miss Sunday football games. The overall tone of the document is one of surprise and mild criticism of Best Buy.',\n",
    " \"The document states that the speaker's experience with Hobby Lobby, over the last 5 years, shows that the company does not hire employees full-time unless they are managers. Additionally, Hobby Lobby has historically paid its employees more than other similar companies because it does not offer health insurance to its employees due to the company's religious beliefs.\",\n",
    " \"The document does not contain specific information for summarization. However, based on the person's response, it seems that they were previously aware that a certain entity offered medical services. They mention a Supreme Court ruling that led to the discontinuation of those medical services, and express surprise that they had not heard that the services were stopped.\",\n",
    " \"The document appears to be a complaint from an individual who holds the position of VPL (Vendor Partner Liaison) for a store's LG and HT (Home Theater) departments. The individual reports that since their promotion to VPL in October, they have been treated like any other advisor and expected to flex to help other departments, despite store policy (SOP) stating that VPLs cannot be used as coverage for other departments. The writer feels that leadership is ignoring this policy and expects VPLs to prioritize helping other departments over their own responsibilities. The writer also mentions that they are not able to fulfill their specific VPL duties and are criticized when they follow SOP and stay in their department. The overall tone of the document is one of frustration and dissatisfaction with the way they are being treated and managed.\",\n",
    " 'The document suggests that the reader should gather solid evidence of an issue or problem and present it to the Human Resources department. It is recommended that the reader sends copies of all relevant documents, including the Standard Operating Procedure (SOP), to support their case.',\n",
    " \"The document describes an issue at a retail store where the roles of non-Verizon mobile sales representatives (VPLs) are being eliminated, including one from T-Mobile and another from AT&T. The store's policy requires mobile sales representatives to proactively engage with customers in other departments and sell them new phones or carrier services. However, the store has been allowing non-VPL employees to handle mobile transactions, which has led to mistakes and lost revenue due to their lack of proper mobile sales training. The author's AT&T representative has raised concerns about this issue, citing the store's failure to follow standard operating procedures (SOPs).\",\n",
    " 'The document mentions that there are two Verizon Visible Light Physical Layer (VPL) devices, one of which is dedicated to mobile use and the other assists with trucks. However, standard operating procedures (SOPs) state that VPLs are not intended to be used in this way.',\n",
    " 'The document appears to be a summary of an individual\\'s responsibilities in their job, specifically related to \"truck day\" and mobile totes. They are regularly asked to assist with truck day and have been practically assigned the task of managing mobile totes by their former mobile manager, who is now an ASM (Assistant Store Manager).',\n",
    " \"The document appears to be a summary of a person's thoughts on being asked to help out in other departments at their job. The person understands that help is needed, and they are willing to assist their colleagues. However, they take issue with the fact that their leaders seem to expect them to go above and beyond their job responsibilities. The person asserts that they have the right to refuse to help if they choose to, and they disagree with the notion that they must always be putting away totes when not assisting customers.\",\n",
    " 'The document appears to be a complaint about working conditions at a Verizon store operating under Best Buy, specifically under the management of Corie Barry. The employee states that the store is understaffed, with even salespeople being moved to cover other areas of the store. This has resulted in long wait times for customers and a heavy workload for the remaining employees. The employee notes that while labor cuts after the holiday season are common, the current situation is worse than it was prior to the COVID-19 pandemic. The employee also mentions that a Verizon VPL (Verizon Premium Retailer) quit due to the issues at the store.',\n",
    " \"The document appears to be a brief personal account from someone who was a Visual Presentation Lead (VPL) for LG at a retail store. According to the account, the same unknown issue occurred to them as happened to the original author of the document they are responding to. The VPL eventually decided to put in their two weeks' notice and left the job before Black Friday.\",\n",
    " \"The document appears to be a statement from a former Visual Planning Leader (VPL) and supervisor, claiming that the company they worked for did not follow the Visual Planning Standard Operating Procedures (SOP). This suggests that there were issues with the company's visual planning processes and that they were not being managed effectively. It is unclear from the document what specific problems existed or how widespread they were.\",\n",
    " 'The document appears to be a brief notification from an individual indicating that they plan to resign from their job and will be giving their employer two weeks\\' notice. The phrase \"putting my 2 weeks in\" is commonly used in employment contexts to mean submitting a formal notice of resignation and offering to work for a period of two weeks before leaving the position. The document does not provide any additional information or context.',\n",
    " \"The document appears to be a personal statement from someone who was previously a Microsoft Virtual Partner Lead (VPL) for six years. They are expressing disappointment and frustration because they were told that the VPL position is no longer important and that only the stores' scorecard is taken into account, making their brand scorecard irrelevant.\",\n",
    " 'The document is asking about the pricing of open box items, which are products that have been opened or used but are still in good condition. The author has noticed that some open box items are sold at steep discounts, sometimes more than 50%, and wants to know if this is common practice. The author has only seen the system reduce the price of an item by a maximum of $400, and is wondering why some open box items are sold at much lower prices. It is also mentioned that the author is new to product flow and wants to ensure that items are in the lowest condition before being shipped out.',\n",
    " 'The document announces that approval emails for hardship fund relief have started to be sent out, with recipients receiving their e-checks within the next three days. The email may appear in the spam or junk mail folder. The announcement is relevant to both full-time and part-time employees.',\n",
    " 'The document appears to be a brief message from an individual who has not yet received an email they were expecting. The person has been working for the company FT (full-time) for four years in Texas. They mention that they received their email around 10:30 AM when the app was open, and they seem to be feeling anxious about not receiving the email. The message is brief and does not provide much context, but it suggests that the person is waiting for an important email and is becoming worried because it has not arrived.',\n",
    " 'The document states that the author was able to submit an application within 12 minutes of a scheduled opening time. However, the author mentions that some individuals were able to submit their applications 30-40 minutes before the scheduled opening time, which they consider to be unfair.',\n",
    " 'The document consists of a single emoji, \"😵\\u200d💫,\" which typically conveys surprise, shock, or astonishment. Therefore, the summary of the document is: the author is expressing surprise or astonishment.',\n",
    " 'The document suggests that the current situation or statistics are not favorable in the short term. The specific details about what the numbers refer to are not provided in the given text.',\n",
    " \"The document states that the author's store is losing experienced employees and is facing difficulties with new hires who are struggling to meet the required standards. This is a concerning situation as the lack of skilled staff can impact the store's operations and customer service. It's important for the management to address this issue by providing adequate training and support to the new employees to ensure the smooth functioning of the store.\",\n",
    " 'The document consists of a single word, \"Yup.\" It is likely being used as an informal way to indicate agreement or affirmation. However, without additional context, it is difficult to provide a more specific summary.',\n",
    " 'The document argues that the people in charge of big stores prioritize maximizing profits over ensuring the long-term sustainability of the business. Instead of working to strengthen the store and benefit the community, they are depleting its resources and damaging the economy. The ultimate goal is to make as much money as possible and leave before the consequences of their actions become apparent.',\n",
    " 'The document consists of a single sentence: \"Seriously.\" As such, it is not possible to provide a summary of the document without simply repeating its entire contents. The sentence appears to be a rhetorical device, perhaps intended to emphasize a point made in a previous statement or conversation. However, without additional context, it is difficult to determine the intended meaning or significance of the sentence.',\n",
    " 'The document is asking whether Google Fi, a cellular network service, offers any accommodations or additional savings for its plans, similar to the deals previously had with T-Mobile and currently offered with Verizon and AT&T. The author is inquiring if there are any discounts or special arrangements available for Google Fi services.',\n",
    " 'The document suggests that Google Fi, a cellular network service, may be too expensive. It implies that the reader should consider whether the cost of Google Fi is worth it and if they should explore other, potentially cheaper options. The document also hints at the need for the reader to carefully evaluate their needs and budget before making a decision.',\n",
    " \"The document is a request for advice about whether it is appropriate to email a General Manager (GM) regarding a request to transfer to a different location. The person has been working part-time for 1.5 months and has completed their training. They are based in sales but have not yet sold a membership. They want to transfer to a location that is closer to their new home, which is 20km from their current store but only 5km from the desired location.\\n\\nThe floor manager suggested speaking with the GM, but the GM was not available during the person's shift. The GM's schedule for the following week is not known, so the person is considering sending an email to the GM. They are concerned that waiting until the next shift may result in missing out on a current job opening, which has been posted for four days.\\n\\nThe person notes that the job posting is not showing up internally, which they believe is because it is an entry-level position. They are unsure if it is appropriate to email the GM about the transfer request and are seeking advice on whether they should send an email or wait until they can speak with the GM in person.\",\n",
    " 'The document states that everything is fine and there is no need for concern.',\n",
    " 'The document is a question about how to complete e-learnings for a job at Best Buy. The person was hired and given e-learnings to do during their shift, but they were not able to finish them all. They were told they could do them at home and record their hours, but they are unsure how to do this because there is no log for e-learning hours on the TLC. They are unsure if they should clock in from home or wait until their next shift to finish the e-learnings. They are seeking clarification on whether they are expected to complete the e-learnings at home or at work. They do not want to get in trouble for clocking in from home if it is not allowed.',\n",
    " 'The document suggests completing work-related tasks at home and manually recording the hours spent on them later, when updating the time sheet at work. This allows for flexible work arrangements, with the ability to log hours after completing the tasks.',\n",
    " 'The document does not provide a specific answer as it seems to be a part of a conversation. However, based on the question, it is asking how to edit a time sheet in a system called TLC (Time and Labor Control).\\n\\nTo summarize, the person is asking for instructions on how to edit a time sheet in the TLC system.',\n",
    " 'The document explains how to manually add punch times for \"clock on\" and \"clock off\" in TLC (Time and Labor Complete) for e-learnings. To do this, users can click the \"view my time sheet\" button and then enter the start and end times for their e-learnings. This allows users to track their time spent on e-learnings within the TLC system.',\n",
    " \"The document appears to be a table showing the results of a competition or tournament. The table has 12 rows and 5 columns. The first column lists the rank of each participant, from 1st to 12th place. The second column shows the participant's name or team name. The third column displays the number of points earned by each participant. The fourth column shows the number of matches or games won by each participant. The fifth and final column shows the number of matches or games played by each participant.\\n\\nBased on the limited information provided, it is difficult to summarize the document further. However, it is clear that the table presents the results of a competition in which participants earned points, won matches, and played a certain number of games.\",\n",
    " \"I'm glad to help, but it seems like you have not provided any document for me to summarize. Please share the document or relevant information so I can assist you better.\",\n",
    " 'The document is reminding the reader that their e-learning activity can be monitored, including the duration of each session and any prolonged periods of inactivity. It is recommended to actively participate in the e-learnings and consider requesting additional short shifts to complete them if necessary. Managers are typically accommodating to such requests.',\n",
    " 'The document is a brief message from a new hire at Best Buy who has been hired as an advisor, despite expecting to apply for a standard customer service position. The new hire is not very knowledgeable about technology and is seeking a technology fact sheet to learn about basic technical specifications, such as the amount of RAM needed and the best processors, in order to effectively assist customers.',\n",
    " 'The document recommends using the Jump on learning network to explore courses for different departments. It suggests starting with 101-style courses that cover the basics, as these are likely to be required for initial learning. The reader is advised to check any assigned courses before undertaking self-study.',\n",
    " 'The document describes an instance of a user being banned from a page for making a political comment. The user was not aware of a rule against politics, as it had not been formally announced. The user inquired about the rule and was muted by the moderators. The user notes that there have been other political-type posts on the page that were not removed. The user also mentions that they are not using their usual account.',\n",
    " 'The document suggests that there is only one moderator for a particular online community, and that this moderator may find certain aspects of their job tedious or bothersome. The use of the term \"crap\" indicates that the moderator may be dealing with problematic or undesirable content or behavior. Overall, the document conveys a sense of frustration or dissatisfaction with the current state of the community.',\n",
    " 'The document appears to be a conversation about a Reddit community called \"r/BestBuy.\" The community is dedicated to discussing and sharing information related to Best Buy, a retailer that specializes in consumer electronics and appliances. Members of the community post deals, ask questions, and share experiences related to Best Buy. They also discuss topics such as product recommendations, customer service experiences, and company policies. Overall, r/BestBuy serves as a platform for consumers to connect and share information about Best Buy.',\n",
    " \"The document appears to be focused on the main best buy page of a website. It discusses the importance of having a visually appealing and user-friendly layout, with clear categories and easy-to-use search functions. The page should highlight the company's products and services, and provide customers with relevant and up-to-date information. It is also important to include customer reviews and ratings, as well as any current promotions or deals. The page should be optimized for both desktop and mobile devices, and should provide a seamless and convenient shopping experience for customers. Overall, the main best buy page should be designed with the customer in mind, making it easy for them to find what they are looking for and make a purchase.\",\n",
    " 'The document consists of a single sentence of a person saying that they have decided to stop talking because it is the right thing to do at the moment.',\n",
    " 'The document consists of a single sentence repeated multiple times: \"RUNFASTERRUNFASTERRUNFASTER.\" There is no additional context or information provided. Therefore, it cannot be summarized further.',\n",
    " 'The document does not provide specific information on when the leadership evaluations will be completed or when the results will be received. It only mentions that there are ongoing leadership evaluations.',\n",
    " 'The document states that the task or project has been completed and the results will be available before the end of the month.',\n",
    " 'The document provided does not contain a specific summary on the consequences if a leader refuses to go to a specific store. However, it is a procedure for handling a situation where a leader is needed at a store. The procedure includes identifying the store that needs a leader, determining the reason for the need, and identifying potential leaders who can be assigned. If the assigned leader declines, the document suggests finding a replacement or consulting with the district manager. It does not specify what actions should be taken if the leader still refuses to go.',\n",
    " 'The document states that an individual or group of people are allowed to leave their employment or position without receiving any severance pay.',\n",
    " 'The text suggests that similar actions are being taken with the current leadership as were previously done with the General Managers (GMs). However, the document does not provide specific details about what those actions are. It implies a possible criticism or concern about the way the leadership is being treated or managed.',\n",
    " 'The document is a brief message from someone working in a store in the southern region, expressing discomfort with the hot temperature and suggesting that they should be allowed to adjust the air conditioning.',\n",
    " 'The document simply states that small Vornado fans have been placed in various locations. It does not provide any additional context or information.',\n",
    " 'The document states that the current temperature in south eastern Washington is 110 degrees and the air conditioning system is not working.',\n",
    " 'The document appears to be a brief, informal complaint about a place called \"Auto bay,\" which the author suggests is causing them difficulty or frustration \"this time of year.\" No specific issues or details are provided.',\n",
    " 'The author of this document expresses their appreciation for serious contributors to a certain subreddit, while criticizing those who post about topics they are not knowledgeable about. The author urges these individuals to refrain from posting, in order to maintain the quality of discussions and keep them focused on relevant and informed topics, rather than corporate propaganda.',\n",
    " 'The document consists of a casual, abbreviated phrase \"U ok bro?\" which is commonly used in digital communication to ask someone if they are okay or doing alright. The tone is informal and colloquial.',\n",
    " \"The document appears to be a question about an individual's employment status. The person has not been scheduled for work for two weeks, but their credentials are still active. They are not a seasonal employee, but a part-time one. They are wondering if their hours have been cut or if there is another reason they are not being scheduled.\",\n",
    " 'The document suggests that the writer and others in their field have had their working hours reduced to 32 hours for the past and current week. The statement \"I\\'d think so\" may indicate agreement or confirmation of this information.',\n",
    " \"The document states that the writer's precinct (a term often used to refer to a local voting district or police precinct) is facing a reduction in hours, which may occur as soon as March. The reason for the cut in hours is not specified, but the writer mentions that they had a good labor method until they were caught, implying that some violation or infraction may have occurred. Additionally, the writer suggests that there may be a significant reduction in hours or even staff layoffs.\",\n",
    " 'The document indicates that an individual is being \"silently fired\" from their job at Best Buy. This occurs when an employer encourages an employee to quit by reducing their scheduled hours, making it difficult for them to collect unemployment benefits. In this case, the employee\\'s friends had their hours cut due to an alleged reason of memberships and apps. The document advises the recipient to apply for unemployment benefits, as they were let go without a valid reason.',\n",
    " 'The document provided is not a coherent or formal text, but rather a casual comment. It does not contain sufficient information to summarize. If there is a specific document you would like me to summarize, please provide it.',\n",
    " 'The document consists of a single message that does not contain any substantial or useful information. It appears to be a casual conversation invitation from someone who also works in a precinct, possibly a law enforcement precinct, and includes a request to share more information via a private message.',\n",
    " \"The document suggests that the company is planning to cut hours for both seasonal and part-time workers. The author speculates that this cost-cutting measure is being taken in response to anticipated lower revenues for Q4 of 2023. The author criticizes the company's CEO, Corie Barry, for prioritizing cost-cutting over other aspects of the business, and compares the current situation to historical retail failures. The author believes that these actions will have a negative impact on the company and undo the progress made during Hubert Joly's tenure as CEO.\",\n",
    " 'There is not enough information provided in the text \"Message me too\" to summarize. A summary typically provides a brief overview of the main points, ideas, or arguments presented in a piece of text. In this case, there is only a single sentence with seven words, which does not contain enough context or content to generate a summary.',\n",
    " 'The document suggests that it is unnecessary to use detergent to wash polo shirts, as it may be a waste. It is implied that there may be other methods for cleaning polos that do not require detergent. The use of a winky face emoticon suggests a light-hearted or joking tone.',\n",
    " 'The document does not provide sufficient information to answer this question. It is important to have more context about the job or task being referred to in order to determine if it can be done on a part-time basis. Factors to consider include the nature of the work, the required hours, and the expectations of the employer or client. A part-time worker is typically defined as someone who works fewer hours than a full-time worker, but the specific number of hours can vary. In general, it may be possible to do many jobs on a part-time basis, but it will depend on the specific circumstances.',\n",
    " 'I\\'m sorry, I need the text or a link to the document in order to summarize it. Could you please provide that? I\\'m unable to summarize a \"yes\" as it is not a document.',\n",
    " 'The document does not provide specific information on how severance paperwork is delivered, only mentioning that severance paperwork will be provided. The methods of delivery could include USPS, UPS, FedEx, or even a creative option like carrier pigeon, but the document does not specify.',\n",
    " \"The document appears to be a job posting for a Post Office Mail Carrier. The position involves delivering mail and packages to customers' mailboxes and doorsteps, as well as collecting mail from street mailboxes and post offices. The mail carrier is responsible for maintaining a neat and professional appearance, and for operating a government vehicle safely and efficiently. The job requires the ability to lift and carry up to 70 pounds, and to work in various weather conditions. Applicants must be at least 18 years old, have a valid driver's license, and pass a criminal background check. The position offers a competitive salary and benefits package, including health and life insurance, retirement benefits, and paid time off.\",\n",
    " 'The document states that the company will use USPS, rather than Pony Express, to deliver a package. The use of the Pony Express mention is likely made in jest, as it was a historical mail delivery service that is no longer in operation.',\n",
    " 'The document consists of a single sentence: \"Mine was FedEx.\" This suggests that the speaker or writer received a package or shipment via FedEx. There is no further context or information provided.',\n",
    " 'The document in question contains a single sentence: \"How fast till you got it?\" This appears to be a question inquiring about the amount of time it will take for someone to receive or understand something. However, without additional context, it is difficult to provide a more specific summary.',\n",
    " \"The document states that approximately 30 days passed between the individual's severance date and the time the information was being reported. It does not provide any additional context or details.\",\n",
    " 'The document is a brief inquiry about new uniform polos. The author wants to know if anyone else has received new blue polos with yellow buttons. This is a simple and straightforward question without any additional context or information provided.',\n",
    " 'There is no document provided in your message, only a sentence \"No haven\\'t seen them yet.\" I am unable to summarize something that has not been provided. If you could please provide the document or information you would like summarized, I would be happy to help.',\n",
    " 'The document appears to consist of a single sentence: \"We call them McDonald\\'s shirts.\" This suggests that the speaker or writer is referring to a particular type of shirt that is associated with the McDonald\\'s fast food chain. However, the document does not provide any additional context or information about these shirts, so it is not possible to summarize the document beyond restating its single sentence.',\n",
    " 'The document appears to be a response from an individual who states that they do not need or want a new shirt, as they already have three of the old shirts. They have observed that new hires are given new shirts, but they do not fall into this category.',\n",
    " 'The document appears to be a brief message from someone who works in a warehouse. They mention that they have been told that new blue and yellow shirts are for seasonal staff, but they are unsure if this is true. The writer states that they already have their own shirts (in older shades of blue and black) and do not need or want the new ones, since they do not work on the sales floor.',\n",
    " 'The document states that new uniform shirts will be introduced to replace the current shirts.',\n",
    " 'The document being referred to is not provided in your message. However, based on the single sentence you have given, it is difficult to summarize as it seems to be a part of an ongoing conversation. The sentence appears to be referring to \"supes\" (a possible abbreviation for \"superheroes\") wearing an unspecified item.',\n",
    " 'The document does not provide a specific comparison of the fit or comfort of a particular item to \"blue ones.\" In order to summarize the comparison, the document would need to contain information about the fit and comfort of at least two items, including one referred to as \"blue ones.\" Without this information, a summary cannot be generated.',\n",
    " 'The document is a product listing on eBay for a \"RCA Voyager 4.3\" portable DVD player. The player has a 4.3 inch LCD screen and supports multiple disc formats including DVD, CD, and MP3. It also has a built-in rechargeable battery and comes with a car adapter, headphones, and a remote control. The player has USB and SD card slots for playing media from external devices. The product is being sold by a third-party seller with a 98.3% positive feedback rating. The price of the player is $42.99 with free shipping.',\n",
    " 'The document appears to be a summary or interpretation of an event, rather than a formal document. Based on the text, it seems that the speaker received a shipment of new shirts, and some individuals either took shirts without authorization or were mistakenly told they could take them. The speaker is unsure of the exact circumstances and is questioning the accuracy of the information they received. Overall, the document is brief and lacks clear context or details.',\n",
    " 'The document is a request for information about the differences between working as a sales floor associate and a Geek Squad agent at the same company. The author, currently a sales floor associate, is considering applying for a Geek Squad position that has become available and wants to know about the workload, stress, pros, and cons of each role from those who have experience in both.',\n",
    " 'The document suggests that working at Geek Squad, as compared to a sales role, involves a higher workload and increased stress in the beginning, but comfort level increases over time, typically within 3 months. The role requires taking appointments, walkups, sending and receiving, functional checks, and assisting other team members. The work involves troubleshooting and solving problems for customers, making it suitable for those who enjoy challenges and problem-solving. The document welcomes those considering joining Geek Squad.',\n",
    " 'The document expresses a negative view of sales as a career, stating that it is a \"dead end\" with no future prospects. It argues that sales positions often have high turnover rates, low job security, and limited opportunities for advancement. The document also suggests that sales jobs can be stressful and demanding, with long hours and pressure to meet sales targets. Overall, it paints a bleak picture of the sales profession and discourages individuals from pursuing a career in sales.',\n",
    " 'The document is a brief statement from an individual who has a passion for technology and enjoys solving problems. They believe these qualities make them a good fit for a particular opportunity. However, they are experiencing some last-minute doubts.',\n",
    " 'The person who wrote this document is saying that they are not enjoying their job because they were expecting to be assigned to a specific department, but instead they have to learn about every product in the store. However, they mention that their coworkers are a bright spot in their job.',\n",
    " 'The document is a personal opinion on working in the Geek Squad (GS) division of Best Buy (BB). The author believes that GS has a higher proportion of unhappy customers due to the nature of the job, which involves fixing broken or malfunctioning electronics. However, the author also states that they enjoyed their time working in GS and found it to be more exciting and fulfilling than sales. They recommend working in GS over sales, as they have heard that sales is a \"dead end\" and more miserable. The author also mentions that they are unsure of the current conditions on the floor or in the precinct.',\n",
    " \"The document appears to be a discussion about the individual's plans to apply for a job or position that involves interactions and their doubts regarding their suitability for the role. The person expresses that they excel at fixing things and have experience in this area. However, they are seeking information before proceeding with the application process. They also mention that they appreciate the input provided.\",\n",
    " 'The document is a brief, informal recommendation for a job or experience at GS (Goldman Sachs or a similar company). The author expresses their enjoyment of helping people through their work at GS and encourages the recipient to pursue a position there, wishing them good luck.\\n\\nIn summary:\\n\\n* The author recommends working at GS.\\n* They enjoyed helping people in their role.\\n* The recipient is encouraged to apply and good luck is wished.',\n",
    " 'The document states that the employee discount will be increased by 20%. The total cost of the discounted item will now be higher than before. This information was confirmed with the statement \"I said it.\"',\n",
    " 'The document being referred to is about a topic that the author does not want to discuss and has expressed indifference towards. There is no further information provided in the document or the summary.',\n",
    " 'This text states that there is no rule in the sub against disclosing employee prices, but warns users that they should be aware that people may not always tell the truth on the internet.',\n",
    " 'The document contains a single sentence stating \"I\\'m not lying.\" There is no additional context or information provided. The sentence asserts the truthfulness or honesty of the speaker or author at the time of writing.',\n",
    " 'The document contains a very brief statement that does not provide much context or information. The speaker clarifies that they were not making a specific statement about the listener, but rather making a general comment. However, the nature of this general comment is not specified in the text.',\n",
    " 'The document appears to be a brief statement that the person reading it is not eligible for an employee discount. It does not provide any additional context or information.',\n",
    " 'The document consists of a single sentence: \"Yes it is. Piss off.\" It is unclear what specific topic the document is addressing, but the tone is confrontational. The first part of the sentence affirms an unspecified statement, while the second part dismissively tells the listener or reader to go away.',\n",
    " 'It seems that the document you wanted me to summarize is not provided or it is not accessible. The text you have given me, \"It\\'s not tho lmao,\" does not contain sufficient information for me to summarize. Could you please provide me with the actual document or more context so I can give you an accurate summary?',\n",
    " 'The document you provided contains a single sentence: \"It is in Victor, NY.\" This suggests that whatever the document is referring to is located in Victor, a town in Ontario County, New York, United States. Without additional context, it is difficult to provide a more specific summary.',\n",
    " 'The document consists of a single sentence that is a profane statement. It does not contain any useful or relevant information.',\n",
    " 'The document is a short message from a Walmart associate who is considering applying for a job at Best Buy. They are asking for the pros and cons of working at Best Buy, as they have a passion for electronics and are unable to work in the electronics section at their current job.',\n",
    " 'The document mentions a company that provides discounts on appliances and home theater products, as well as accommodations throughout the year. However, the company is not recommended for long-term stays due to its recent layoff of over 5,000 full-time workers and its lack of interest in offering full-time hours to non-supervisor roles.',\n",
    " \"The document outlines the pros and cons of working at Best Buy (BB). On the positive side, the discount offered is attractive, especially for store brand items and new games. The pay is acceptable, with the company having raised its starting wage to $15/hr. Additionally, many employees are said to be decent to work with. On the negative side, hours for non-full time employees can be hard to come by, and there is pressure to sell extended warranties and the store credit card. However, BB's warranties and credit card are reportedly of good value.\",\n",
    " 'The document does not appear to have been provided. However, based on the question posed in the title, I will provide a summary related to resetting a password for an ADP or Workday account after leaving Best Buy.\\n\\nWhen an employee leaves Best Buy, their access to certain systems, such as ADP and Workday, may be terminated. If a former employee needs to access these accounts and has forgotten their password, they will need to follow specific steps to reset it.\\n\\nFor ADP:\\n\\n* Go to the ADP login page and click on the \"Forgot Your Password?\" link.\\n* Enter your registered email address and click \"Submit.\"\\n* Follow the instructions provided in the email to reset your password.\\n\\nFor Workday:\\n\\n* Go to the Workday login page and click on the \"Can\\'t access your account?\" link.\\n* Enter your employee ID and registered email address, then click \"Submit.\"\\n* Follow the instructions provided in the email to reset your password.\\n\\nIf the former employee no longer has access to their registered email address, they will need to contact their former employer\\'s HR department for further assistance.',\n",
    " 'The document describes an individual\\'s concern about being \"silently fired\" from their job at Best Buy after taking a medical leave for a back injury. The person was told they would be put back on the schedule upon their return, but after working one day, they were not scheduled for any future shifts and were locked out of their Best Buy Connect account. Additionally, the person\\'s managers have not responded to their attempts at communication. The individual is unsure of how to proceed and suspects they may be being quietly laid off, despite not being a seasonal employee.',\n",
    " \"The document states that physical therapy (PT) workers do not have guaranteed hours and may not be scheduled due to low hours available. However, it is considered unfair if the employer does not respond to the worker's inquiries about scheduling. The tone of the document is informal and expresses frustration with the current labor situation in stores.\",\n",
    " 'The document states that the individual has not had a work schedule since Christmas Eve. It is a brief and simple statement.',\n",
    " 'The document appears to be a news article or a blog post discussing the issue of retailers, including Best Buy, letting go of employees due to changes in the retail industry. The article mentions that with the rise of e-commerce and changing consumer habits, retailers are struggling to maintain their brick-and-mortar stores, leading to layoffs and store closures. The article notes that Best Buy is one of the retailers that have been \"hours out\" unwanted employees, meaning that they have reduced the hours of some employees or let them go entirely. The article expresses concern for the impact of these layoffs on the affected employees and their families. However, the document does not provide any specific data or statistics to support its claims.',\n",
    " 'The document discusses the concept of \"silent firing,\" which refers to the situation where an employer intentionally stops giving a employee work or opportunities for advancement, effectively forcing them to quit, rather than going through the formal process of firing them. This can occur for various reasons, such as poor performance, budget cuts, or personality conflicts. The document suggests that silent firing can have negative consequences for both the employee and the employer, as it can lead to legal issues, decreased morale, and a loss of talent and knowledge. The document recommends that employers address performance issues directly and openly, and provide clear guidance and support to help employees improve. If termination is necessary, it should be done in a fair and respectful manner, with appropriate communication and documentation.',\n",
    " \"The document states that the reason for being locked out is likely due to the requirement to change one's password, and provides the additional information that the author recently had to change their own password.\",\n",
    " 'The document states that a season has ended. It suggests that the reader guess what this means, but does not provide any additional information about what the season was for or what comes next. The tone of the document is casual and conversational.',\n",
    " \"The document is a brief message inquiring about the status of an individual's return to work from a leave of absence. The sender is asking if the person has already contacted the Human Resources department to inform them that they are ready to come back to work. The sender mentions that when they are on leave, they are typically unable to access most systems or resources.\",\n",
    " 'The individual referred to as OP (original poster) stated that they are employed part-time, not seasonally. This suggests that their employment is not tied to specific seasons or holidays but is consistent throughout the year, although possibly with reduced working hours compared to a full-time position.',\n",
    " 'The document states that the individual was on medical leave for a period of six weeks. Upon returning to work on the sixth week, they were only scheduled for 26 hours for that week, despite being a full-time employee.',\n",
    " 'The document appears to be a brief message that states the author had initially believed that something or someone was seasonal, but it seems that this is not the case. The context and subject of the statement are not provided.',\n",
    " 'The document appears to be a brief discussion on the naming of Human Resources (HR) and Employee Relations (ER) within a company. The author suggests that the names of these departments may not accurately reflect their functions and may even have negative connotations for some employees. The author proposes alternative names that they believe better reflect the positive and proactive work that these departments do, such as \"People Success\" for HR and \"Employee Empowerment\" for ER. The author encourages companies to consider renaming these departments to improve employee perception and engagement.',\n",
    " 'The document states that the author is currently on a leave of absence but is able to access various work-related systems and platforms, including BBY Connect, TLC, and the Learning Network. The author seems somewhat surprised by this and has included a casual, humorous remark. A summary would be: The author is on a leave of absence and can still access work systems, which is unexpected.',\n",
    " 'The document states that the person referred to as \"Pt\" frequently has their work hours reduced, sometimes to zero, during a specific time of the year. However, the reduced hours are expected to be temporary and will likely be made up in the following weeks. The writer suggests that Pt finds alternative employment in the meantime, mentioning Doordash as a possibility. The writer doubts that Pt would be fired from their current job, as it could potentially lead to a lawsuit due to protected leave. The writer believes it is unlikely that the managers would take such a risk, unless they are not particularly intelligent.',\n",
    " 'The document is a personal account of an individual\\'s experience with Best Buy\\'s HR department. The person reports that when they called HR to report issues with their managers, they felt belittled and that their concerns were not taken seriously. The person also claims that Best Buy\\'s \"zero retaliation\" policy is not genuine, and that HR will find ways to avoid calling retaliation even when it occurs. The person shares that they had multiple interactions with HR during their time at Best Buy and learned that the company does not prioritize addressing issues with managers. Instead, the company allegedly prefers for employees to quit or be fired by the managers in question. The person concludes that Best Buy does not genuinely care about addressing issues of harassment or abuse.',\n",
    " \"The document is a brief response to a question or issue regarding the termination of an individual's account and the resetting of their password. The author asserts that only HR has the ability to confirm if someone has been terminated and to reset their password. The author advises the recipient not to be emotional and to accept this as the solution to the problem. The tone is informal and humorous.\",\n",
    " \"The document describes the author's experience with a work-related injury and the challenges they faced in getting the necessary medical treatment and job protection. The author advises the reader to reach out to HR and consider consulting with a lawyer if they have been unfairly treated or retaliated against after a work injury. The author suggests that several outcomes are possible, including returning to work with caution, management changes, settling out of court or going to court, or giving up and walking away. The author shares that they fought for their rights and eventually received a surgery, got their job back, and were promoted multiple times within the company. They emphasize the importance of standing up for one's rights and being persistent in the face of challenges.\",\n",
    " 'The document states that when an individual is on a leave of absence (LOA), they are required to be locked out of their job. This is due to legalities surrounding pay during the LOA, which may be unpaid or a fixed percentage of income. Upon return from LOA, the individual must give 48 hours notice to HR to be reinstated.',\n",
    " 'The document outlines the process for returning to work after a leave of absence. Upon receiving clearance from a doctor, the employee must contact Sedgwick and HR to provide the paperwork and initiate the process of being reactivated in the system, which can take several months. The employee will then be added to the schedule and need to reset their password. The document notes that employees often make the mistake of returning to work before being reactivated in the system, which can cause issues. The employee is advised to contact Sedgwick and HR to ensure they are active in the system before attempting to return to work.',\n",
    " \"I'm sorry, I cannot fulfill your request as it is. You have not provided any document for me to summarize. Please provide the document you would like me to summarize, and I will do my best to provide a concise summary of its contents.\",\n",
    " 'The document states that if an individual is on medical leave, Sedgwick is not involved, and they are not locked out of work. During the first six weeks of medical leave, the individual should only deal with HR. Since the individual was only out for three weeks, HR is their point of contact. Communicating with HR through Connect/HR is easy. It is recommended to keep the GM updated regularly about the leave, even if the GM is supposed to receive HR updates.',\n",
    " 'The document is a personal account from an employee who took both Family Medical Leave Act (FMLA) and Medical Leave of Absence (LOA) over the past two years. The employee states that they were unable to access their company laptop or any work-related materials during both leave periods, except for their work cell phone. This suggests that the company implemented strict access restrictions during the leave periods.',\n",
    " 'The document appears to be a brief response from an employee who is currently on a leave of absence (LOA), stating that the preceding information is incorrect. The employee notes that there may be different policies for employees who are able to work remotely, but does not provide further clarification. The tone of the response is somewhat dismissive or impatient.',\n",
    " 'The document does not provide specific information to summarize. The title \"How much an hour\" suggests that it may discuss hourly wages or rates, but the content is not provided. A summary typically includes the main points or arguments of a document, but in this case, there is not enough information to summarize.',\n",
    " 'The document states that the individual has taken two leaves of absence (LOAs) in the past two years, and in both instances, they were informed that they would not have access to systems such as email while on leave. However, this information was incorrect, and the individual did have access to these systems during their LOAs.',\n",
    " 'The document states that when an individual begins a leave of absence (LOA), they are informed to contact the relevant authority 48 hours before returning to work. Upon initiating the LOA, access to certain features is restricted, and the experience may vary depending on the state or country. The original poster (OP) is advised to contact Human Resources (HR) for specific information.',\n",
    " \"The document describes the author's experience of being locked out of various systems and tools upon returning to work after a period of time off. Specifically, the author was unable to access the employee toolkit, email, and discounts on BB.com, and was locked out of registers until they were turned back on 24 hours after the author's return. The author had only given 24 hours' notice of their return due to a holiday, and had been told that some systems may not be immediately available. It is possible that the author's access to these systems was disabled as a security measure while they were away, or that there were technical issues that prevented the systems from being turned back on in a timely manner.\",\n",
    " \"The document appears to be a summary of a personal experience related to returning to work after a leave of absence (LOA). The author, a senior consultant, was unable to access various systems and applications, including Workday, upon their return. Despite giving 48 hours' notice, they were locked out of their account and had to call to regain access. This process took several days, causing significant inconvenience and difficulty in accessing necessary tools and resources for their job. The author suggests that the type of LOA (e.g. paid or unpaid) may have been a factor in this issue.\",\n",
    " \"The document appears to be a brief statement from an individual about their experience trying to access information on ETK (likely a company's employee self-service portal) before returning an item. The individual called the company 24 hours in advance due to a holiday and was informed that the system might not be fully accessible, but it should be available within 24 hours. Despite not having access to ETK or register access, the individual was able to have someone sign in to ETK to access their email, but was blocked. However, as predicted, the system became accessible about 24 hours later.\",\n",
    " 'The document explains that it can take time to return to a regular work schedule after an absence. Managers create schedules weeks in advance and must consider hourly needs and budget constraints when assigning shifts. Therefore, it may not be possible to immediately return to a previous schedule upon rejoining work.',\n",
    " 'The document states that the speaker was able to successfully use a discount and purchase a gaming chair from a certain website. They were able to log in to their account without any issues. The total cost of the chair is not mentioned.',\n",
    " \"The document describes a scenario where a Verizon VPL (Vendor Partner Locator) working in the computer department helps a customer with their purchase and then assists with a mobile issue while the customer is in the restroom. Another associate then rings out the customer's purchase. The opinion on this situation is not explicitly stated in the document. However, it raises questions about ownership of the sale and the potential for membership stealing. It highlights the need for clear communication and protocols to ensure that all associates are following company policies and procedures.\",\n",
    " 'The document consists of a single sentence: \"That is stealing. You put in the hard work. You should get the PM!\" It appears to be expressing the opinion that it is wrong for someone else to take credit for work that another person has put a lot of effort into. The speaker believes that the person who did the hard work should receive the PM (possibly an abbreviation for \"project manager\" or \"performance manager,\" or something similar). The document does not provide any additional context or information.',\n",
    " 'The document states that the client\\'s \"TT\" was stolen, and the writer expresses regret for not hiding the product until the client\\'s return. The summary of this document is that the client\\'s property was stolen, and the writer wishes they had taken steps to secure it.',\n",
    " 'The document being summarized appears to express the idea that customers are not being given sufficient importance or attention in a certain situation or context. The phrase \"in none of this\" suggests that the customer is not being prioritized in multiple aspects or areas. Overall, the document conveys a critical view of the treatment of customers.',\n",
    " 'The document is a response to a request for summarization. The response promises to provide a summary next time, implying that a summary was not provided in the current instance.',\n",
    " 'I apologize, but it seems that you have not provided any document for me to summarize. In order for me to help you, please provide the text or document that you would like me to summarize. I will do my best to condense the information while retaining its key points and main ideas.',\n",
    " \"I'm sorry, but I need the text of the document in order to summarize it. Could you please provide the document or its content?\\n\\nA summary typically includes the main points, arguments, or conclusions of a document, presented in a shorter form. It should give a clear and concise overview of the document's content, without going into too much detail or including irrelevant information.\\n\\nTo summarize a document, you can follow these steps:\\n\\n1. Read the document carefully and highlight or underline the key points.\\n2. Identify the main arguments or conclusions of the document.\\n3. Write a brief paragraph that captures the essence of the document, using your own words.\\n4. Make sure your summary is accurate, unbiased, and coherent.\\n5. Check that your summary is concise and to the point, and that it does not include any unnecessary details.\\n\\nIf you provide me with the document, I can help you summarize it.\",\n",
    " 'The document suggests that it is a \"free for all,\" implying a situation of chaos or without rules. The phrase \"can\\'t get caught lacking\" is a warning to not be unprepared or vulnerable in this situation. However, the summary is very brief due to the limited information provided in the original text.',\n",
    " \"The document appears to be a brief summary of someone's work performance. The person being described is highly capable and consistently performs activations on all mobile carriers, with a focus on Verizon. They are proactive in offering assistance and go above and beyond in their duties. Overall, they are a valuable and reliable team member.\",\n",
    " \"The document suggests that, based on trainings, it is possible for a user to receive credit for creating a basket with a client's information in the Solution Center, even if the basket is not rung out or processed for payment. However, it is noted that this has not been personally confirmed.\",\n",
    " 'The document suggests that the management is unconcerned about issues as long as the MyBbyTotal system is functioning. It implies that the management prioritizes the operation of this system over other potential problems.',\n",
    " 'The document contains a single sentence: \"Your coworker shark\\'d you.\" This implies that the coworker in question has taken credit for your work or idea, metaphorically \"sharking\" you. The term \"shark\" is used in this context to refer to someone who takes advantage of a situation or another person for their own benefit. The summary of the document is that the reader has been wronged by a coworker who has taken credit for their work or idea.',\n",
    " 'The document appears to be a brief message indicating that someone needs to wring out a basket and mentioning that another associate has likely started a new transaction. It is a casual, conversational statement.',\n",
    " 'The document does not appear to be provided, so I cannot directly summarize its content. However, based on the title you have given, it seems to be a light-hearted comment or joke about Corie Berry, possibly a public figure or character, having a mole and comparing the removal of the mole to the act of letting go of employees. It suggests that the person posing the question finds it inconsistent or humorous that Corie Berry would remove employees but not the mole.',\n",
    " 'The document consists of a single word, \"LMAOOO,\" which is an abbreviation commonly used in digital communication to express laughter. Therefore, the summary of this document is that it is a humorous expression of amusement.',\n",
    " 'Yes, I am familiar with the concept of placing a fake fly or other object in a urinal to help men aim their urine stream more accurately and reduce splashing. This can help maintain cleanliness in public restrooms. Is there a specific document you would like me to summarize on this topic? I apologize, but it seems that you have provided a brief description rather than a document. I am here to help, so please let me know how I can assist you further.',\n",
    " 'There is not enough information provided in the text \"Ew lol\" to summarize. \"Ew\" is an interjection used to express disgust, and \"lol\" is an abbreviation for \"laughing out loud,\" typically used to indicate that something is funny. In this case, the person may be expressing disgust while also finding something amusing. However, without additional context, it is difficult to accurately summarize the meaning or intent behind this statement.',\n",
    " 'The document appears to be a brief, informal expression of frustration or confusion from a speaker identifying as a woman, directed at an unspecified group of people. The speaker seems to be expressing a feeling of confusion or bewilderment about something that the group is doing or has done. However, without additional context, it is difficult to provide a more specific summary.',\n",
    " 'The document appears to be a brief, informal statement expressing the importance of focus or concentration. The speaker implies that without something to concentrate on, tasks or responsibilities may be neglected or mishandled, resulting in a mess or failure.',\n",
    " 'It appears that the document provided for summarization consists only of a string of laughing emojis, and does not contain any substantial or meaningful content. Therefore, there is nothing to summarize.',\n",
    " 'The document appears to be a conversation thread with the topic of discussing a person named Karl Sanft and his goals or aspirations. However, the provided text does not contain any substantial information about Karl Sanft or his objectives. Therefore, it is not possible to summarize the document as it does not contain sufficient information.',\n",
    " \"The document appears to be a request for the recipient's address to send them a specific product, SKU 5790315. The sender seems to want to help the recipient by sending them this item. However, the document does not provide any additional context or information about the product or the recipient.\",\n",
    " 'The document explains how to set up an employee online account to access the employee discount. The discount is not the worker ID, but a separate entity. To set up the account, the employee needs to go to the company\\'s website and click on the \"Employee Discount\" link. From there, they will be prompted to enter their Worker ID and follow the instructions to create their account. Once the account is set up, the employee can access the discount by logging in to their account and shopping through the designated discount portal.',\n",
    " 'The document in question was previously located on ETK (Electronic Talent Knowledge), but since ETK is being phased out, its location is now uncertain. It is possible that the document has been moved to Workday. The document itself is not described in the provided text.',\n",
    " 'The document appears to be a brief message stating that certain information or content is available on a platform called Connect, specifically on the desktop site and not the app. The sender seems confident that the recipient will be able to find what they are looking for in this location.',\n",
    " 'The document is a request for job advice or tips regarding working at Best Buy, specifically in the southeast region. The individual has retail experience. A response could include advice on the application process, what to expect in the role, or any relevant insights about working at Best Buy.',\n",
    " 'The document consists of a single sentence: \"don\\'t work there.\" This can be summarized as a recommendation not to work at an unspecified place. The reason for this recommendation is not provided in the document.',\n",
    " 'The advice given in the document depends on the specific area the reader is interested in working at within Best Buy, such as the sales floor, warehouse, or Geek Squad. A generic tip suggested is not to spend too much time at the company without advancing, as it may be more beneficial to get hired elsewhere and use the experience gained at Best Buy as an advantage. The worst mistake would be to stay in a line-level position for a long time, as it could become a disadvantage compared to a new hire.',\n",
    " 'The document indicates that the author is seeking a sales floor position and is primarily motivated by earning a paycheck. They do not have plans or expectations to advance to a managerial role.',\n",
    " 'The document provides instructions for a sales position that involves a technology component. The candidate should demonstrate enthusiasm for technology, keep up with the latest tech trends through influencers like MKBHD and Linus, and mention any personal experience with PC building or home theater setups. The candidate should be aware that the interview process includes recorded video interviews with potentially tricky questions, but they may have the opportunity to re-record their answers. The questions may include ethical dilemmas presented as multiple-choice questions. The candidate should approach the position with a realistic mindset, understanding that there may not be opportunities for advancement or long-term stability.',\n",
    " 'The document is a recommendation for working at Best Buy. The author, who claims to work there, states that the team environment is positive with employees frequently conversing. They suggest that individuals who are not sociable may be responsible for handling customers, but do not specify if this is a negative or positive aspect. The author concludes by advising that individuals who enjoy technology and are not antisocial will likely enjoy working at Best Buy.',\n",
    " 'The document appears to be a critique of a workplace environment. The author takes issue with low pay, unrealistic expectations, and understaffing. They also mention managers who hide in the Sales Development Representative (SDR) area and employees who stand around talking instead of working. The author acknowledges that different people have different experiences in the workplace.',\n",
    " 'The document appears to be a response to a request, possibly for a specific item or job opportunity. The response states that the item is not available in the store and provides information about the starting wage for a job, which is $17 an hour.',\n",
    " 'The document consists of a single line of text, \"gah damn is that ur minimum wage?\" There is no additional context or information provided. Therefore, it is not possible to summarize the document as it does not contain any substantial content.',\n",
    " 'The document appears to be a brief statement from a high school student stating that they consider $17 to be a good amount of money. There is not much more information provided in the document.',\n",
    " 'The document suggests that individuals consider working in a distribution distribution center (DDC) warehouse instead of in-store, as working in-store may not be a positive experience currently. If working in-store is necessary, the document recommends seeking a warehouse position within the store.',\n",
    " 'The document suggests that there is a pay cap in place for certain positions, and that in order to increase pay, one must become a manager. However, manager positions are becoming increasingly difficult to obtain. The alternative is to transfer to the Distribution and Delivery Center (DDC), where pay will increase again.',\n",
    " 'The document describes a company\\'s restructuring to a \"micromarket\" model, which involves consolidating stores and reducing management positions. The restructuring was first piloted in NY and has since been implemented in other locations. The new structure involves deploying resources from a \"hub\" store to other stores in the same micromarket, resulting in the elimination of some management positions. The document notes that the decision-making process for these cuts was not transparent and that many employees were left in the dark about who would be let go. The restructuring has also resulted in the elimination of many leadership positions in other areas of the company, including territory, market, and district levels. The document notes that many experienced employees have left the company as a result of these changes, and that employee morale is low. Some employees are optimistic about the changes, believing that it will create opportunities for career advancement, while others feel that the company is no longer prioritizing its original core values.',\n",
    " \"The document appears to be a summary of a company's business model. The company's goal was to provide a platform for users to connect and share knowledge. They achieved this by creating a user-friendly interface and implementing features such as forums, messaging, and content sharing. The company's revenue was generated through advertising and premium subscription services. The document also mentions that the company prioritized user experience and data privacy. Overall, the company's model aimed to foster a community of users who could learn from and collaborate with each other.\",\n",
    " 'I\\'m happy to help, but I need a document to summarize. The text \"Can you guys help.\" is not a document. Could you please provide more information or context?',\n",
    " \"The person is experiencing issues with their Total Tech support membership from Best Buy. Despite being set to renew, it was cancelled and this resulted in the cancellation of warranties on their previously purchased products. Best Buy's customer service has been unhelpful, transferring the person to different departments without resolving the issue. They are seeking advice on how to handle this situation.\",\n",
    " 'The document states that it is not possible to reinstate cancelled warranties, and attempting to get help from the customer service line or in-store staff will be unsuccessful. The total tech plan, which offers 3 or 5 year warranties, is deemed useless now that the warranties have been cancelled.',\n",
    " 'The document is a question asking if anything can be done about a purchase made within the last year. The person is seeking assistance or a solution to a problem related to a recent purchase. However, the document does not provide any additional context or information about the specific issue or the type of purchase that was made.',\n",
    " \"The document suggests that there has been an issue with a service or subscription, and it has not been automatically canceled. The reason for this is likely because the user's credit card has expired. The user is advised to call the number 1-888-bestbuy to update their card information. Doing so may resolve the issue.\",\n",
    " 'The document appears to be a complaint about a store\\'s customer service. The author is frustrated that when they went to the store, the employees were not helpful or attentive. They describe the employees as \"inconsiderate\" and imply that they were not doing their jobs properly. The author seems to be upset that they could not find assistance in the store.',\n",
    " 'The document is encouraging customers to visit the store and renew their protection plans for their items, stating that all previous protection plans are no longer valid. They highlight that store managers will assist in adding new protection plans when the customer upgrades their items. The message emphasizes the positive impact of informing the store staff about the renewal, as it will make their day.',\n",
    " 'The document appears to be a question about whether the person should try going to a different Best Buy location to see if they can transfer their previous items to a new membership. The manager of the initial store they visited said that the previous items would not be added to a new membership. It is unclear from the document if the person is being sarcastic or serious.',\n",
    " \"The document is a brief message stating that the author is serious about a previous discussion, despite it being against the rules. They note that it is up to the manager's discretion, and request that the recipient messages them directly in private (DM). The message is informal and concise.\",\n",
    " 'The document appears to be a table showing the results of a survey or study related to the use of technology in education. The table has five columns labeled \"Device,\" \"Grade 3-5,\" \"Grade 6-8,\" \"Grade 9-12,\" and \"Total,\" and it appears to show the percentage of students in each grade range who use various types of technology.\\n\\nAccording to the table, the use of desktop computers and laptops decreases as the grade level increases, while the use of tablets and smartphones increases. In grade 3-5, desktop computers are the most commonly used device at 45%, followed by laptops at 44%, tablets at 33%, and smartphones at 29%. In grade 6-8, laptops become the most commonly used device at 47%, followed by desktop computers at 41%, tablets at 44%, and smartphones at 40%. In grade 9-12, laptops are still the most commonly used device at 50%, followed by tablets at 51%, desktop computers at 31%, and smartphones at 50%.\\n\\nOverall, the use of technology is high across all grade levels, with a majority of students in each grade range using more than one type of device. The total percentage of students using desktop computers, laptops, tablets, and smartphones is 89% in grade 3-5, 92% in grade 6-8, and 96% in grade 9-12.',\n",
    " \"The document explains the two ways to cancel a total tech membership with BestBuy: by calling to cancel or if the card on file has expired or failed authorization. In both cases, an email notification will be sent. If the card fails authorization, the membership will be in that status for 30 days before going into lapsed status, at which point the protection plans cannot be reactivated. It is the customer's responsibility to update their card information and ensure payments are processed successfully.\",\n",
    " 'The document describes an incident where the individual called to return a rower, but the representative mistakenly cancelled their Total Transformation (TT) membership instead. The individual noticed the error immediately and has since attempted to contact customer support and visit stores to have the membership restored, but without success. The individual is understandably frustrated by the situation.',\n",
    " 'The document consists of a single sentence praising an answer as awesome and correct. The summary would be: The document gives positive feedback, stating that an answer is awesome and correct.',\n",
    " 'The document is an internal application-related inquiry posted on a forum. The author is currently working in the warehouse and has applied for a Geek Squad position. They received an email stating they were not considered because they did not complete the video interview. The author thought the video interview was only for external applicants and is seeking clarification.',\n",
    " \"The document appears to be a brief personal account of someone's job application experience. They mention that they were able to secure a job that involved moving from California (CA) to the ARA region, and progressing from an unspecified role to a senior position, all without having to participate in a video interview. However, they did still have to attend an in-person interview. The document is very brief and lacks detail, so it is not possible to provide a more in-depth summary.\",\n",
    " 'The document suggests that the requirements for a job or application depend on the specific position and the preferences of the hiring team. It emphasizes the importance of considering the specific job requirements when applying.',\n",
    " 'The document appears to be a simple exclamation about hourly rates, possibly expressing surprise or amazement. Without additional context, it is difficult to provide a more detailed summary.',\n",
    " \"The document is praising a company's generous benefits, including rollover PTO (Paid Time Off) and a higher 401(k) match compared to another company (BBY). The company also offers an additional $2/hr for overnight workers and provides weekly paychecks, which is considered a positive aspect. The author expresses a wish that weekly paychecks were a federal requirement.\",\n",
    " \"The document states that the location referred to is well-organized and clean, with a particular mention of the bathroom being spotless. The CEO has high standards but also values the employees. It is suggested that Corie Barry, possibly a colleague or subordinate, could learn something from the CEO's approach.\",\n",
    " 'The document states that a job is known for its high pay, but it is also known for being miserable. Employees are not allowed to use their phones during work and are not given breaks outside of their lunch break. Other factors contribute to the misery of the job.',\n",
    " \"The document discusses a situation where an employee told a coworker that they were going to ask for a raise and later disclosed the amount of the raise they received. The coworker then mentioned they would discuss it with management. The employee is seeking advice on whether they were wrong to share this information.\\n\\nIn summary, the key points of the document are:\\n\\n* The employee discussed their intention to ask for a raise with a coworker.\\n* The employee received a raise that was higher than what they asked for.\\n* The employee shared the amount of the raise with the same coworker.\\n* The coworker indicated they would discuss the matter with management.\\n\\nIt is not clear from the document whether the employee's actions violated any company policies or laws. However, it is generally advisable to be cautious when discussing pay with coworkers, as it can potentially lead to conflicts or misunderstandings.\",\n",
    " 'The document states that employees are allowed to discuss their pay with one another. While management may not be happy about these discussions, they are legally prohibited from taking any action to prevent them. This is because such discussions are protected by law as a form of concerted activity that is intended to improve working conditions.',\n",
    " 'The document appears to be a summary of a conversation or situation where someone is expressing concern about a conflict with colleagues. The conflict seems to be related to the fact that the individual earns more money than their colleagues, even though they have been with the company for a shorter amount of time. This has caused frustration and anger among the colleagues, leading to a tense situation.',\n",
    " \"The document appears to be discussing an employee's concern about their salary being lower than a newer employee's. The management is advised to address this issue to avoid the risk of the employee leaving the company due to dissatisfaction. While there can be factors justifying a difference in salary, such as experience, it is important to handle the situation carefully to maintain employee morale.\",\n",
    " 'The document suggests that the author believes they earn more than someone else due to their job responsibilities. The author works in sales, warehouse, and customer service, while the other person only handles customer service and is unwilling to do other tasks.',\n",
    " 'The document suggests that a certain factor may have an impact on something. It is noted that all individuals in question are at the same pay grade, with only a dollar difference between the starting and maximum pay, which is not a significant amount.',\n",
    " 'The document appears to be a brief statement where the author expresses their confusion about why a certain entity is making a \"big deal\" about the fact that the author\\'s earnings are still below a certain cap. It is not clear from the provided text what the specific context or situation is, but the author seems to feel that the level of concern or importance being placed on this issue is unwarranted.',\n",
    " 'The document states that while the speaker worked in a store, management spent most of their time near the front door, pressuring sales staff to promote total tech, branded payments, and credit programs. Management occasionally had to handle angry customers. The speaker believes that a good floor salesperson is more valuable and should be paid more than management.',\n",
    " 'The National Labor Relations Act (NLRA) protects the right of employees to discuss pay and compensation, even in non-unionized workplaces. If a coworker plans to discuss pay with management, possibly to request a raise, it is not improper or wrong for you to have previously discussed pay. It is important to ensure that conversations about pay remain respectful and professional.',\n",
    " 'The document appears to be a very brief summary of a conversation or interaction between two people, in which one person (the speaker) conveyed a sense of wanting to distance themselves or end the interaction with the other person (the listener). The listener interpreted this as \"she said it like she was trying to get rid of me.\" There are no additional details provided.',\n",
    " 'The document discusses a coworker who has a negative attitude and inappropriately treats peers as enemies. The coworker is also revealed to have discussed pay with the author, which is generally not recommended due to potential negative consequences. The author suggests that it is better to be cautious when discussing sensitive topics with this particular coworker and to avoid revealing personal financial information. Additionally, the author believes that the coworker in question should directly request a raise instead of trying to undermine her peers.',\n",
    " 'The document appears to be a brief response to a question or request, and the answer is yes, but with a warning or caution against doing whatever is being referred to. The response is negative in tone, as it advises against the action in question.',\n",
    " 'The document is a personal opinion of a truck driver who works for a small fleet and earns $30/hr with a guaranteed 40-hour workweek. The driver advises against discussing pay with warehouse workers, who are co-workers but could potentially become adversaries due to pay disparities. The driver suggests that management will likely discuss pay with warehouse workers. The driver recommends enjoying the pay without discussing it with others.',\n",
    " 'The document explains that in an \"at-will\" employment state, employees can be fired for any reason that is not protected by law. However, it is illegal to fire someone for discussing their pay. Despite this, companies often have many policies and procedures that employees may unknowingly violate, providing a potential excuse for termination. Therefore, if an employee is fired after discussing pay, the company may claim a different reason for the termination.',\n",
    " 'The document discusses the legal protection for employees to talk about their pay, despite potential discomfort or pushback from employers. The author criticizes companies for creating a culture of silence around pay and exploiting workers, using the example of executive Corie Barry. The author advises the reader to distance themselves from a complaining coworker who may cause trouble, and to view the situation as an opportunity for personal growth.',\n",
    " 'The document argues that it is illegal for employers to prohibit employees from discussing their pay. The author believes that employers may use a \"don\\'t talk about pay\" policy to prevent employees from discovering pay disparities and taking action, such as demanding equal pay or organizing a strike. The author gives the example of being paid more than a more experienced employee at Best Buy, suggesting that such pay disparities may be common. Overall, the document encourages employees to speak out about pay and to challenge unequal pay practices.',\n",
    " 'The document consists of an exclamation of surprise and confusion about the origin of an unspecified man. It does not provide any further context or information.',\n",
    " 'The document is a question about when seasonal employees become eligible for a discount at their store. The employee has asked colleagues and received varying answers, ranging from a week or two after starting to already being eligible. The employee wants to know for certain before purchasing necessary items. They are seeking an accurate answer and thank those in advance who can help.',\n",
    " 'The document states that the typical length of a month is 30 days.',\n",
    " 'The document states that employees of Best Buy who work during November and December are eligible to receive a discount without having to go through a waiting period. This offer is valid for 30 days or until November 1, whichever is later. In other words, as soon as an employee begins working at Best Buy in November, they can start receiving the discount immediately, and they will continue to receive it for the entirety of the promotional period.',\n",
    " \"Best Buy employees receive a 5% discount on cost for purchases, with some exceptions for items with a markup of less than 5%. The discount becomes available after 30 days of employment, except during the period of November 20th to December 31st when all employees can make purchases. The discount is for personal use only and cannot be shared. Eligible family members can accompany the employee to make a purchase, but the employee must make the payment. The discount can be checked through the ETK platform. The full policy can be found on 'My HR'.\",\n",
    " 'The document states that the author\\'s father obtained a refrigerator through a website, and a representative added the author\\'s employee number to the purchase, even though they were not supposed to do so. The father used his own \"bby card\" (presumably a store loyalty card) for the transaction. The author is not concerned about the situation, implying that they do not plan to take any action regarding the unauthorized addition of their employee number.',\n",
    " 'The document states that ETK (Employee Tracking Kit) is no longer in use and employees should start using the Employee Pricing widget on Best Buy Connect, Connect App, or Workstation for accessing employee pricing benefits.',\n",
    " \"It is not possible for me to summarize the content of an e-learning that you completed without having access to the actual material. In order for me to provide a summary, I would need to know the topic of the e-learning, the main points that were covered, and any key takeaways or conclusions.\\n\\nIn general, a summary is a brief statement or account of the main points of a written work or speech. It is intended to give the reader or listener a general understanding of the content without going into great detail.\\n\\nTo write a summary of an e-learning, you might follow these steps:\\n\\n1. Identify the main topics or concepts that were covered in the e-learning.\\n2. Determine the key points or takeaways from each topic.\\n3. Write a brief paragraph or series of bullet points that summarizes the main points and key takeaways.\\n\\nHere is an example of a summary of an e-learning on time management:\\n\\nThis e-learning covered various strategies for managing time effectively. Key points included the importance of setting clear goals, prioritizing tasks, and breaking larger tasks into smaller, manageable pieces. The e-learning also discussed the value of scheduling regular breaks and avoiding multitasking. Participants were encouraged to use tools such as calendars, to-do lists, and timers to help manage their time. Overall, the e-learning emphasized the importance of being intentional and proactive in order to make the most of one's time.\",\n",
    " 'The document appears to be a brief, informal message that suggests something needs to be updated. The specifics of what needs to be updated and why are not provided in the text.',\n",
    " 'The document states that discounts on services are rare or do not exist.',\n",
    " 'The document is stating that an seasonal employee received a discount and was onboarded on October 5th, and then attempted to use this discount on October 20th. Another part-time employee was onboarded on September 19th and also tried to use a discount on October 20th, but was unsuccessful. The document finds this situation unusual or strange.',\n",
    " 'The document appears to be a brief comment or observation, rather than a formal document. The author mentions seeing the number 30 frequently, and also refers to some unusual cases. They seem to find this pattern noteworthy, and have shared it with others as a result. However, the document does not provide enough context or detail for a thorough summary.',\n",
    " 'The document appears to be a table showing the results of a competition or tournament. The table has 12 rows and 5 columns. The columns represent, in order: rank, team name, wins, losses, and points. The teams are listed in descending order by points. The team in first place has 10 wins, 2 losses, and 22 points. The team in second place has 9 wins, 3 losses, and 21 points. The teams in third and fourth place both have 20 points, with the team in third place having 8 wins and 4 losses, and the team in fourth place having 7 wins and 5 losses. The remaining teams have between 11 and 18 points. It is not clear from the table what the exact rules of the tournament are or how the points were calculated.',\n",
    " 'A new subreddit, r/BestBuyHR, has been created due to dissatisfaction with the moderation team of the existing subreddit, r/bestbuy. The new subreddit aims to become the new online community for Best Buy-related discussions.',\n",
    " 'The document provides advice on how to ask for a raise. It suggests the following steps:\\n\\n1. Research: Find out the average salary for your job title and location to determine if you are being paid fairly.\\n2. Reflect: Consider your accomplishments and contributions to the company. Make a list of your achievements and how they have benefited the company.\\n3. Prepare: Practice your pitch and anticipate any questions or objections your boss may have.\\n4. Request: Request a meeting with your boss to discuss your salary. Be clear and concise about why you believe you deserve a raise.\\n5. Negotiate: Be open to negotiating and consider other forms of compensation, such as additional vacation days or flexible work arrangements.\\n\\nOverall, the document emphasizes the importance of being prepared and confident when asking for a raise.',\n",
    " 'The document contains a single sentence stating \"You can never have too many Best Buy subs ;)\". It suggests that the author believes that it is impossible to have too many subsidiaries or branches of the electronics retailer Best Buy. The use of a winking emoticon suggests a lighthearted or joking tone.',\n",
    " 'The author of this document is expressing their frustration with the moderators of the subreddit r/BestBuyHR, which they claim is supposed to be a place for \"uncensored talk.\" The author states that they have experienced rudeness and aggression from the moderators, who have threatened to remove posts if the author continues to share their thoughts. The author believes that the moderators are willing to censor content that they do not agree with, despite claims that the subreddit is uncensored. The author suggests that the moderators list forbidden subjects or thoughts in the subreddit\\'s description or rules, but this has not been done. The author feels attacked by the moderators for pointing this out.',\n",
    " 'The document is a warning to an individual for violating clear rules by posting about a certain topic online, which could lead to job loss for both the individual and the entire store. The individual is advised to consider the consequences of their online activity.',\n",
    " 'The document being summarized appears to be a discussion or post from an individual on a subreddit who is advocating for unionization at their store. The author mentions that they have previously brought up the topic of unionization on the subreddit, and they assume that other members of the subreddit are aware of the potential consequences of starting such discussions. The post is likely directed towards a community of individuals who share a common interest, possibly related to the workplace or industry of the store being discussed.\\n\\nIn summary:\\n\\n* An individual is advocating for unionization at their store.\\n* They have previously discussed this topic on the subreddit.\\n* The author assumes that other subreddit members understand the potential implications of store unionization.\\n* The subreddit appears to be focused on workplace or industry-related topics.',\n",
    " \"The document is a statement addressing the topic of unionizing at the company. The author states that providing information about the consequences of unionizing is not an attack, but rather an attempt to present a dose of reality. They encourage employees to vent their frustrations, but warn against the belief that a union is the solution. The author mentions that a set of guidelines was recently added to the company's subreddit, in an effort to maintain transparency. They welcome all employees to the subreddit, but respect the decision of those who choose to unfollow.\",\n",
    " \"The document is a passionate argument against the current management practices at the writer's company. The writer believes that the lack of representation for employees is leading to unfair treatment, including layoffs and increased workloads. They argue that management is abusive, using fear to control employees and prioritizing short-term gains over the long-term sustainability of the company. The writer is calling for management to treat employees with respect and to work together to build a successful company. They believe that harsh criticism is motivated by a desire to improve the company, rather than hate. The writer implies that they may consider taking action, such as pushing back or seeking representation, if management does not change their ways.\",\n",
    " 'The document is a Reddit post discussing the possibility that the subreddit r/bestbuy is being controlled or manipulated by corporate employees of Best Buy. The original poster expresses their belief that this is the case, citing instances of pro-Best Buy comments and moderation decisions that they perceive as biased. However, other users in the thread offer alternative explanations for these observations, such as the possibility of loyal customers or employees participating in the subreddit. No definitive conclusion is reached in the thread.',\n",
    " 'The document suggests that corporate controls are in place in a company to allow the corporation to control and manage the business. This is because the corporation is the entity that runs the company.',\n",
    " \"The document states that one of the moderators of a certain group or platform is believed to have been a former employee and is alleged to have anger management issues. This information suggests potential concerns about the moderator's ability to fulfill their responsibilities in a fair and unbiased manner. However, it is important to note that this information is based on speculation and hearsay, and it is not a verified fact. Therefore, it is crucial to approach this information with a critical mindset and consider the potential consequences of spreading unverified claims.\",\n",
    " 'This text describes the creation of a subreddit community. The subreddit was established in response to another community, r/Bestbuy, being shut down during a restructuring process. The shutdown of r/Bestbuy prevented employees from discussing the changes taking place. The new subreddit aims to provide a platform for open discussion and will not be subject to the same restrictions. It acknowledges that it may not be as popular as the previous community.']"
   ]
  },
  {
   "cell_type": "markdown",
   "id": "4486981c-b118-4195-ac85-6e28d358b24e",
   "metadata": {
    "jp-MarkdownHeadingCollapsed": true
   },
   "source": [
    "## Multi-vector indexing"
   ]
  },
  {
   "cell_type": "code",
   "execution_count": 8,
   "id": "c21a979c-7ba6-42a7-9d6a-ba505ae1e0c7",
   "metadata": {},
   "outputs": [
    {
     "name": "stdout",
     "output_type": "stream",
     "text": [
      "multi-indexing ...\n"
     ]
    }
   ],
   "source": [
    "#MultiIndex\n",
    "print(\"multi-indexing ...\")\n",
    "vectorstore = Chroma(collection_name=\"summaries\", embedding_function=OpenAIEmbeddings())\n",
    "# store = InMemoryByteStore()\n",
    "id_key = \"doc_id\"\n",
    "doc_ids = [str(uuid.uuid4()) for _ in orig_test_documents]\n",
    "summary_docs = [\n",
    "    Document(page_content=s, metadata={id_key: doc_ids[i]})\n",
    "    for i, s in enumerate(summaries)\n",
    "]\n",
    "vectorstore.add_documents(summary_docs)\n",
    "\n",
    "#Sample queries \n",
    "questions = ['Do Best Buy employees feel understaffed?', 'What are the most common reasons for employees to leave Best Buy?', 'What do Best Buy employees think of the company?']\n",
    "\n",
    "# Retreive\n",
    "q1_retrive_documents = vectorstore.similarity_search(questions[0],k=20)\n",
    "q2_retrive_documents = vectorstore.similarity_search(questions[1],k=20)\n",
    "q3_retrive_documents = vectorstore.similarity_search(questions[2],k=20)"
   ]
  },
  {
   "cell_type": "markdown",
   "id": "4a196d29-4f41-4ade-a1af-51bdc419dab2",
   "metadata": {},
   "source": [
    "## From the top retrieved documents we then recover the original retrieved docs"
   ]
  },
  {
   "cell_type": "markdown",
   "id": "52a711f6-16fe-4176-87ae-4b9929c346a1",
   "metadata": {
    "jp-MarkdownHeadingCollapsed": true
   },
   "source": [
    "### sample question 1"
   ]
  },
  {
   "cell_type": "code",
   "execution_count": 9,
   "id": "d1d30492-66bb-4d78-858e-741023c52c35",
   "metadata": {},
   "outputs": [
    {
     "data": {
      "text/plain": [
       "[1, 1, 0, 1, 1, 0, 1, 0, 0, 1, 0, 1, 0, 1, 1, 0, 1, 1, 1, 0]"
      ]
     },
     "execution_count": 9,
     "metadata": {},
     "output_type": "execute_result"
    }
   ],
   "source": [
    "doc_id_q1 = [doc_ids.index(doc.metadata['doc_id']) for doc in q1_retrive_documents]\n",
    "[orig_test_documents[id].metadata['Question 1'] for id in doc_id_q1]"
   ]
  },
  {
   "cell_type": "code",
   "execution_count": 12,
   "id": "116ac870-bb55-4551-a200-3b7e972dc69b",
   "metadata": {},
   "outputs": [
    {
     "data": {
      "text/plain": [
       "[Document(page_content='Lmfao I run customer service and curbside by myself half the time cuz we don’t have enough people due to callouts and I really got pulled aside and in trouble for not selling enough memberships. They didn’t care when I explained to them why. It’s also funny because I’m number 3 in my whole department for sales metrics despite the fact i am literally running multiple parts of the front end department by myself for all of or the the majority of the day most days. Like dude when there’s consistently a line of 20-30 people across customer service and curbside not gunna sit there and do my sales pitch for each and every person. This job is a joke. I make 25-35 an hour at my second job and I just figure I’ll move to Target cuz it’s down the street from Best Buy and starts at 24-25 an hour. Fuck this joint, the discount is not worth all the bullshit of being there', metadata={'Unnamed: 0': 908, 'aware_post_type': 'comment', 'reddit_id': 'i0jryxy', 'reddit_name': 't1_i0jryxy', 'reddit_link_id': 't3_tdejak', 'reddit_parent_id': 't3_tdejak', 'reddit_submission': 'tdejak', 'Question 1': 1, 'Question 2': 1, 'Question 3': 1}),\n",
       " Document(page_content='They’re doing the same thing at my store. My Verizon VPL pulled SOP on them and refused to move around, eventually he quit because he got tired of the BS. \\n\\nThis is Best Buy under Corie Barry: overworked and paid barely the same (actually less if you adjust for inflation), covering areas of the store they’ve run with a skeleton crew if they staff it at all (looking at you SPU and CS; one person calls out and suddenly we’re throwing salespeople up there). And speaking of sales, even with VPL “flexing” around the store we’re still getting holes stared through us by impatient customers because two advisors called out.\\n\\nI’ve been here a long time and I know the post holidays labor cuts are normal but we haven’t even dropped our seasonals yet and we’re already short staffed. The situation now is definitely worse than pre-COVID.', metadata={'Unnamed: 0': 220, 'aware_post_type': 'comment', 'reddit_id': 'j4m9jsk', 'reddit_name': 't1_j4m9jsk', 'reddit_link_id': 't3_10d2uum', 'reddit_parent_id': 't3_10d2uum', 'reddit_submission': '10d2uum', 'Question 1': 1, 'Question 2': 1, 'Question 3': 1}),\n",
       " Document(page_content='Hi! Walmart associate here!. Hello! I am a Walmart associate and I was looking into applying at Best Buy. I have love for electronics and since I can’t get into the electronics section at my store I was kinda wanting to apply. So what are the pros and cons of working for Best Buy? \\n\\nThanks in advance!', metadata={'Unnamed: 0': 1270, 'aware_post_type': 'submission', 'reddit_id': 'o8lx12', 'reddit_name': 't3_o8lx12', 'reddit_link_id': nan, 'reddit_parent_id': nan, 'reddit_submission': nan, 'Question 1': 0, 'Question 2': 0, 'Question 3': 1})]"
      ]
     },
     "execution_count": 12,
     "metadata": {},
     "output_type": "execute_result"
    }
   ],
   "source": [
    "[orig_test_documents[id] for id in doc_id_q1][:3]"
   ]
  },
  {
   "cell_type": "markdown",
   "id": "7f933b8e-312d-4851-b08f-1cbcabf2021d",
   "metadata": {
    "jp-MarkdownHeadingCollapsed": true
   },
   "source": [
    "### sample question 2"
   ]
  },
  {
   "cell_type": "code",
   "execution_count": 17,
   "id": "08eaf8d2-33bb-4a4f-98d0-78554c8a20f7",
   "metadata": {},
   "outputs": [
    {
     "data": {
      "text/plain": [
       "[1, 0, 1, 1, 0, 1, 1, 1, 1, 1, 1, 0, 0, 1, 0, 0, 1, 0, 0, 0]"
      ]
     },
     "execution_count": 17,
     "metadata": {},
     "output_type": "execute_result"
    }
   ],
   "source": [
    "doc_id_q2 = [doc_ids.index(doc.metadata['doc_id']) for doc in q2_retrive_documents]\n",
    "[orig_test_documents[id].metadata['Question 2'] for id in doc_id_q2]"
   ]
  },
  {
   "cell_type": "code",
   "execution_count": 18,
   "id": "5a2ad2c0-8f59-4bcc-8d87-630bf1e2e728",
   "metadata": {},
   "outputs": [
    {
     "data": {
      "text/plain": [
       "[Document(page_content='Lmfao I run customer service and curbside by myself half the time cuz we don’t have enough people due to callouts and I really got pulled aside and in trouble for not selling enough memberships. They didn’t care when I explained to them why. It’s also funny because I’m number 3 in my whole department for sales metrics despite the fact i am literally running multiple parts of the front end department by myself for all of or the the majority of the day most days. Like dude when there’s consistently a line of 20-30 people across customer service and curbside not gunna sit there and do my sales pitch for each and every person. This job is a joke. I make 25-35 an hour at my second job and I just figure I’ll move to Target cuz it’s down the street from Best Buy and starts at 24-25 an hour. Fuck this joint, the discount is not worth all the bullshit of being there', metadata={'Unnamed: 0': 908, 'aware_post_type': 'comment', 'reddit_id': 'i0jryxy', 'reddit_name': 't1_i0jryxy', 'reddit_link_id': 't3_tdejak', 'reddit_parent_id': 't3_tdejak', 'reddit_submission': 'tdejak', 'Question 1': 1, 'Question 2': 1, 'Question 3': 1}),\n",
       " Document(page_content='Not a term\\n\\n\\nBest Buy and all retailers “hours out” unwanted employees', metadata={'Unnamed: 0': 4543, 'aware_post_type': 'comment', 'reddit_id': 'kg0hxos', 'reddit_name': 't1_kg0hxos', 'reddit_link_id': 't3_18wvtbt', 'reddit_parent_id': 't3_18wvtbt', 'reddit_submission': '18wvtbt', 'Question 1': 1, 'Question 2': 0, 'Question 3': 0}),\n",
       " Document(page_content='You must be fairly new to Best Buy. 8 year vet. I wish I woulda been cut. I woulda taken that severance', metadata={'Unnamed: 0': 1392, 'aware_post_type': 'comment', 'reddit_id': 'gp99exz', 'reddit_name': 't1_gp99exz', 'reddit_link_id': 't3_lu2yq7', 'reddit_parent_id': 't1_gp8jwlz', 'reddit_submission': 'lu2yq7', 'Question 1': 1, 'Question 2': 1, 'Question 3': 1})]"
      ]
     },
     "execution_count": 18,
     "metadata": {},
     "output_type": "execute_result"
    }
   ],
   "source": [
    "[orig_test_documents[id] for id in doc_id_q2][:3]"
   ]
  },
  {
   "cell_type": "markdown",
   "id": "8d5e768c-cf8c-4cd8-ad94-0077014b2b5a",
   "metadata": {
    "jp-MarkdownHeadingCollapsed": true
   },
   "source": [
    "### sample question 3"
   ]
  },
  {
   "cell_type": "code",
   "execution_count": 20,
   "id": "e07e576a-9575-44b3-aecb-1ec867939afa",
   "metadata": {},
   "outputs": [
    {
     "data": {
      "text/plain": [
       "[1, 1, 1, 1, 1, 1, 1, 1, 1, 1, 0, 1, 1, 1, 0, 0, 1, 0, 0, 0]"
      ]
     },
     "execution_count": 20,
     "metadata": {},
     "output_type": "execute_result"
    }
   ],
   "source": [
    "doc_id_q3 = [doc_ids.index(doc.metadata['doc_id']) for doc in q3_retrive_documents]\n",
    "[orig_test_documents[id].metadata['Question 3'] for id in doc_id_q3]"
   ]
  },
  {
   "cell_type": "code",
   "execution_count": 22,
   "id": "d6ac3b10-1d07-4f31-9609-b806b9235a30",
   "metadata": {},
   "outputs": [
    {
     "data": {
      "text/plain": [
       "[Document(page_content='Hi! Walmart associate here!. Hello! I am a Walmart associate and I was looking into applying at Best Buy. I have love for electronics and since I can’t get into the electronics section at my store I was kinda wanting to apply. So what are the pros and cons of working for Best Buy? \\n\\nThanks in advance!', metadata={'Unnamed: 0': 1270, 'aware_post_type': 'submission', 'reddit_id': 'o8lx12', 'reddit_name': 't3_o8lx12', 'reddit_link_id': nan, 'reddit_parent_id': nan, 'reddit_submission': nan, 'Question 1': 0, 'Question 2': 0, 'Question 3': 1}),\n",
       " Document(page_content='Lmfao I run customer service and curbside by myself half the time cuz we don’t have enough people due to callouts and I really got pulled aside and in trouble for not selling enough memberships. They didn’t care when I explained to them why. It’s also funny because I’m number 3 in my whole department for sales metrics despite the fact i am literally running multiple parts of the front end department by myself for all of or the the majority of the day most days. Like dude when there’s consistently a line of 20-30 people across customer service and curbside not gunna sit there and do my sales pitch for each and every person. This job is a joke. I make 25-35 an hour at my second job and I just figure I’ll move to Target cuz it’s down the street from Best Buy and starts at 24-25 an hour. Fuck this joint, the discount is not worth all the bullshit of being there', metadata={'Unnamed: 0': 908, 'aware_post_type': 'comment', 'reddit_id': 'i0jryxy', 'reddit_name': 't1_i0jryxy', 'reddit_link_id': 't3_tdejak', 'reddit_parent_id': 't3_tdejak', 'reddit_submission': 'tdejak', 'Question 1': 1, 'Question 2': 1, 'Question 3': 1}),\n",
       " Document(page_content=\"Pros:  \\n1: The discount is HELLA nice. Especially on store brand items. But even when a new game comes out, it's usually cheaper to buy it with your discount than a freshly-used copy from GS.  \\n2: You'll usually work with some pretty decent people. I worked in Computers and my team was one of the things keeping me there.  \\n3: Since they raised their starting wage to $15/hr, the pay is alright. I don't know if this is something they did everywhere, though.\\n\\nCons:  \\n1: Hours. If you're not full time, you'll be fighting for them.  \\n2: Pressure. Most of your job will be trying to sell extended warranties and the store credit card. In BB's defense, though, both their warranties and card are some of the better values in those categories.\", metadata={'Unnamed: 0': 1271, 'aware_post_type': 'comment', 'reddit_id': 'h39bw7e', 'reddit_name': 't1_h39bw7e', 'reddit_link_id': 't3_o8lx12', 'reddit_parent_id': 't3_o8lx12', 'reddit_submission': 'o8lx12', 'Question 1': 1, 'Question 2': 1, 'Question 3': 1})]"
      ]
     },
     "execution_count": 22,
     "metadata": {},
     "output_type": "execute_result"
    }
   ],
   "source": [
    "[orig_test_documents[id] for id in doc_id_q3][:3]"
   ]
  },
  {
   "cell_type": "markdown",
   "id": "22690d3d-77a9-43e5-9b89-6f04fbbfe040",
   "metadata": {},
   "source": [
    "## Compare the result to that of baseline retriever"
   ]
  },
  {
   "cell_type": "code",
   "execution_count": 3,
   "id": "3f264ab8-e326-4866-b8e2-8a8a1718c066",
   "metadata": {},
   "outputs": [
    {
     "name": "stdout",
     "output_type": "stream",
     "text": [
      "loading data ...\n",
      "indexing ...\n"
     ]
    }
   ],
   "source": [
    "#Load data\n",
    "print(\"loading data ...\")\n",
    "test_dataset = pd.read_csv(\"random_dataset.csv\")\n",
    "loader = DataFrameLoader(test_dataset, page_content_column='statement')\n",
    "orig_test_documents = loader.load()\n",
    "\n",
    "#Index\n",
    "print(\"indexing ...\")\n",
    "vectorstore = Chroma(embedding_function=OpenAIEmbeddings())\n",
    "vectorstore.add_documents(orig_test_documents)\n",
    "\n",
    "#Sample queries \n",
    "questions = ['Do Best Buy employees feel understaffed?', 'What are the most common reasons for employees to leave Best Buy?', 'What do Best Buy employees think of the company?']\n",
    "\n",
    "# Retreive\n",
    "q1_retrive_documents = vectorstore.similarity_search(questions[0],k=20)\n",
    "q2_retrive_documents = vectorstore.similarity_search(questions[1],k=20)\n",
    "q3_retrive_documents = vectorstore.similarity_search(questions[2],k=20)"
   ]
  },
  {
   "cell_type": "code",
   "execution_count": 4,
   "id": "ec030f63-e9d3-4264-b44a-618450a8a268",
   "metadata": {},
   "outputs": [
    {
     "data": {
      "text/plain": [
       "[1, 1, 0, 0, 1, 1, 0, 1, 1, 1, 0, 1, 0, 0, 1, 0, 1, 1, 1, 0]"
      ]
     },
     "execution_count": 4,
     "metadata": {},
     "output_type": "execute_result"
    }
   ],
   "source": [
    "[doc.metadata['Question 1'] for doc in q1_retrive_documents]"
   ]
  },
  {
   "cell_type": "code",
   "execution_count": 5,
   "id": "2c61e64d-24ab-4fb1-9abc-328333e55ed5",
   "metadata": {
    "scrolled": true
   },
   "outputs": [
    {
     "data": {
      "text/plain": [
       "[Document(page_content='They’re doing the same thing at my store. My Verizon VPL pulled SOP on them and refused to move around, eventually he quit because he got tired of the BS. \\n\\nThis is Best Buy under Corie Barry: overworked and paid barely the same (actually less if you adjust for inflation), covering areas of the store they’ve run with a skeleton crew if they staff it at all (looking at you SPU and CS; one person calls out and suddenly we’re throwing salespeople up there). And speaking of sales, even with VPL “flexing” around the store we’re still getting holes stared through us by impatient customers because two advisors called out.\\n\\nI’ve been here a long time and I know the post holidays labor cuts are normal but we haven’t even dropped our seasonals yet and we’re already short staffed. The situation now is definitely worse than pre-COVID.', metadata={'Question 1': 1, 'Question 2': 1, 'Question 3': 1, 'Unnamed: 0': 220, 'aware_post_type': 'comment', 'reddit_id': 'j4m9jsk', 'reddit_link_id': 't3_10d2uum', 'reddit_name': 't1_j4m9jsk', 'reddit_parent_id': 't3_10d2uum', 'reddit_submission': '10d2uum'}),\n",
       " Document(page_content='Legitimately, stuff like this is why Best Buy employees need to unionize.', metadata={'Question 1': 1, 'Question 2': 1, 'Question 3': 1, 'Unnamed: 0': 1389, 'aware_post_type': 'comment', 'reddit_id': 'gp4syyf', 'reddit_link_id': 't3_lu2yq7', 'reddit_name': 't1_gp4syyf', 'reddit_parent_id': 't3_lu2yq7', 'reddit_submission': 'lu2yq7'}),\n",
       " Document(page_content='Employee discount. Do Best Buy employees get discounts on open box TV’s?', metadata={'Question 1': 0, 'Question 2': 0, 'Question 3': 0, 'Unnamed: 0': 539, 'aware_post_type': 'submission', 'reddit_id': 'xj7tu0', 'reddit_name': 't3_xj7tu0'})]"
      ]
     },
     "execution_count": 5,
     "metadata": {},
     "output_type": "execute_result"
    }
   ],
   "source": [
    "q1_retrive_documents[:3]"
   ]
  },
  {
   "cell_type": "code",
   "execution_count": 6,
   "id": "090b08d8-e508-43a8-ac6d-417c1c29b5e3",
   "metadata": {},
   "outputs": [
    {
     "data": {
      "text/plain": [
       "[1, 0, 0, 1, 1, 0, 1, 1, 0, 1, 1, 1, 0, 0, 0, 0, 1, 0, 1, 1]"
      ]
     },
     "execution_count": 6,
     "metadata": {},
     "output_type": "execute_result"
    }
   ],
   "source": [
    "[doc.metadata['Question 2'] for doc in q2_retrive_documents]"
   ]
  },
  {
   "cell_type": "code",
   "execution_count": 7,
   "id": "e2bb69d2-2786-4892-9d02-b5433d6a4983",
   "metadata": {},
   "outputs": [
    {
     "data": {
      "text/plain": [
       "[Document(page_content='Legitimately, stuff like this is why Best Buy employees need to unionize.', metadata={'Question 1': 1, 'Question 2': 1, 'Question 3': 1, 'Unnamed: 0': 1389, 'aware_post_type': 'comment', 'reddit_id': 'gp4syyf', 'reddit_link_id': 't3_lu2yq7', 'reddit_name': 't1_gp4syyf', 'reddit_parent_id': 't3_lu2yq7', 'reddit_submission': 'lu2yq7'}),\n",
       " Document(page_content='Employee discount. Do Best Buy employees get discounts on open box TV’s?', metadata={'Question 1': 0, 'Question 2': 0, 'Question 3': 0, 'Unnamed: 0': 539, 'aware_post_type': 'submission', 'reddit_id': 'xj7tu0', 'reddit_name': 't3_xj7tu0'}),\n",
       " Document(page_content='Not a term\\n\\n\\nBest Buy and all retailers “hours out” unwanted employees', metadata={'Question 1': 1, 'Question 2': 0, 'Question 3': 0, 'Unnamed: 0': 4543, 'aware_post_type': 'comment', 'reddit_id': 'kg0hxos', 'reddit_link_id': 't3_18wvtbt', 'reddit_name': 't1_kg0hxos', 'reddit_parent_id': 't3_18wvtbt', 'reddit_submission': '18wvtbt'})]"
      ]
     },
     "execution_count": 7,
     "metadata": {},
     "output_type": "execute_result"
    }
   ],
   "source": [
    "q2_retrive_documents[:3]"
   ]
  },
  {
   "cell_type": "code",
   "execution_count": 8,
   "id": "75ddb6f9-23d9-48bb-8cdd-7465458066c0",
   "metadata": {},
   "outputs": [
    {
     "data": {
      "text/plain": [
       "[1, 0, 1, 1, 1, 1, 0, 0, 1, 1, 1, 1, 1, 1, 1, 1, 0, 0, 0, 0]"
      ]
     },
     "execution_count": 8,
     "metadata": {},
     "output_type": "execute_result"
    }
   ],
   "source": [
    "[doc.metadata['Question 3'] for doc in q3_retrive_documents]"
   ]
  },
  {
   "cell_type": "code",
   "execution_count": 13,
   "id": "17b87322-d170-4969-abce-3dff35fe453b",
   "metadata": {},
   "outputs": [
    {
     "data": {
      "text/plain": [
       "[Document(page_content='r/bestbuy is controlled by corporate employees. anyone else think that?', metadata={'Question 1': 0, 'Question 2': 0, 'Question 3': 1, 'Unnamed: 0': 1193, 'aware_post_type': 'submission', 'reddit_id': 'pl1q4b', 'reddit_name': 't3_pl1q4b'}),\n",
       " Document(page_content='Employee discount. Do Best Buy employees get discounts on open box TV’s?', metadata={'Question 1': 0, 'Question 2': 0, 'Question 3': 0, 'Unnamed: 0': 539, 'aware_post_type': 'submission', 'reddit_id': 'xj7tu0', 'reddit_name': 't3_xj7tu0'}),\n",
       " Document(page_content='Legitimately, stuff like this is why Best Buy employees need to unionize.', metadata={'Question 1': 1, 'Question 2': 1, 'Question 3': 1, 'Unnamed: 0': 1389, 'aware_post_type': 'comment', 'reddit_id': 'gp4syyf', 'reddit_link_id': 't3_lu2yq7', 'reddit_name': 't1_gp4syyf', 'reddit_parent_id': 't3_lu2yq7', 'reddit_submission': 'lu2yq7'}),\n",
       " Document(page_content='Looking to get a job. I’m looking to start working at Best Buy soon and was wondering if you guys had any advice/tips ETC. I’ll be working in the southeast and have a decent amount of experience in retail', metadata={'Question 1': 1, 'Question 2': 0, 'Question 3': 1, 'Unnamed: 0': 411, 'aware_post_type': 'submission', 'reddit_id': 'yuacvb', 'reddit_name': 't3_yuacvb'}),\n",
       " Document(page_content='Don’t listen to this guy, I work there and the team environment is outstanding everyone stands around talking to each other and let’s the antisocial people ring up the customers. You’ll enjoy Best Buy as long as you aren’t antisocial and you actually enjoy technology', metadata={'Question 1': 0, 'Question 2': 0, 'Question 3': 1, 'Unnamed: 0': 416, 'aware_post_type': 'comment', 'reddit_id': 'iw9vtz5', 'reddit_link_id': 't3_yuacvb', 'reddit_name': 't1_iw9vtz5', 'reddit_parent_id': 't1_iw8gy71', 'reddit_submission': 'yuacvb'})]"
      ]
     },
     "execution_count": 13,
     "metadata": {},
     "output_type": "execute_result"
    }
   ],
   "source": [
    "q3_retrive_documents[:5]"
   ]
  },
  {
   "cell_type": "markdown",
   "id": "f1f7196c",
   "metadata": {},
   "source": [
    "## Evaluations scores baseline and multi-vector technique"
   ]
  },
  {
   "cell_type": "code",
   "execution_count": 9,
   "id": "8152c903-6ff8-43db-88e3-264c3911fc04",
   "metadata": {},
   "outputs": [],
   "source": [
    "baselineRAGQ1 = [1, 1, 0, 0, 1, 1, 0, 1, 1, 1, 0, 1, 0, 0, 1, 0, 1, 1, 1, 0]\n",
    "baselineRAGQ2 = [1, 0, 0, 1, 1, 0, 1, 1, 0, 1, 1, 1, 0, 0, 0, 0, 1, 0, 1, 1]\n",
    "baselineRAGQ3 = [1, 0, 1, 1, 1, 1, 0, 0, 1, 1, 1, 1, 1, 1, 1, 1, 0, 0, 0, 0]\n",
    "\n",
    "MVRAGQ1 = [1, 1, 0, 1, 1, 0, 1, 0, 0, 1, 0, 1, 0, 1, 1, 0, 1, 1, 1, 0]\n",
    "MVRAGQ2 = [1, 0, 1, 1, 0, 1, 1, 1, 1, 1, 1, 0, 0, 1, 0, 0, 1, 0, 0, 0]\n",
    "MVRAGQ3 = [1, 1, 1, 1, 1, 1, 1, 1, 1, 1, 0, 1, 1, 1, 0, 0, 1, 0, 0, 0]"
   ]
  },
  {
   "cell_type": "code",
   "execution_count": 10,
   "id": "7c6d02da-384e-4a9f-89d4-cd14afe661b5",
   "metadata": {},
   "outputs": [],
   "source": [
    "def evaluate(lis, k):\n",
    "    \n",
    "    number_of_relevant_item_retreived_k = sum(lis[:k])\n",
    "    total_relevant = sum(lis)\n",
    "    \n",
    "    recall = number_of_relevant_item_retreived_k/total_relevant\n",
    "    prec = number_of_relevant_item_retreived_k / k\n",
    "    f1_score = 2*prec*recall/(prec+recall)\n",
    "\n",
    "    # print('prec : ', prec, '  recall : ', recall, ' f1_score : ', f1_score)\n",
    "    return prec, recall, f1_score\n",
    "    "
   ]
  },
  {
   "cell_type": "code",
   "execution_count": 11,
   "id": "6a310f75",
   "metadata": {},
   "outputs": [],
   "source": [
    "BL_metrics_q1 = [evaluate(baselineRAGQ1, i) for i in range(5,21,5)]\n",
    "MV_metrics_q1 = [evaluate(MVRAGQ1, i) for i in range(5,21,5)]\n",
    "\n",
    "BL_metrics_q2 = [evaluate(baselineRAGQ2, i) for i in range(5,21,5)]\n",
    "MV_metrics_q2 = [evaluate(MVRAGQ2, i) for i in range(5,21,5)]\n",
    "\n",
    "BL_metrics_q3 = [evaluate(baselineRAGQ3, i) for i in range(5,21,5)]\n",
    "MV_metrics_q3 = [evaluate(MVRAGQ3, i) for i in range(5,21,5)]"
   ]
  },
  {
   "cell_type": "code",
   "execution_count": 16,
   "id": "b518d4dd-18a3-480e-9f8d-82ab4effe022",
   "metadata": {},
   "outputs": [],
   "source": [
    "# We compare the f1 scores for the two cases below"
   ]
  },
  {
   "cell_type": "code",
   "execution_count": 12,
   "id": "a7c26c57",
   "metadata": {},
   "outputs": [
    {
     "data": {
      "text/plain": [
       "array([0.39079521, 0.60549595, 0.71306471, 0.7491854 ])"
      ]
     },
     "execution_count": 12,
     "metadata": {},
     "output_type": "execute_result"
    }
   ],
   "source": [
    "import numpy as np\n",
    "\n",
    "(np.array([met[2] for met in BL_metrics_q1]) + np.array([met[2] for met in BL_metrics_q2]) + np.array([met[2] for met in BL_metrics_q3]) )/3"
   ]
  },
  {
   "cell_type": "code",
   "execution_count": 13,
   "id": "a9c2634f",
   "metadata": {},
   "outputs": [
    {
     "data": {
      "text/plain": [
       "array([0.45730134, 0.71356421, 0.77748305, 0.76106894])"
      ]
     },
     "execution_count": 13,
     "metadata": {},
     "output_type": "execute_result"
    }
   ],
   "source": [
    "(np.array([met[2] for met in MV_metrics_q1]) + np.array([met[2] for met in MV_metrics_q2]) + np.array([met[2] for met in MV_metrics_q3]) )/3"
   ]
  },
  {
   "cell_type": "code",
   "execution_count": null,
   "id": "0b7376c3-85c9-4813-92b2-e7bc88904bfc",
   "metadata": {},
   "outputs": [],
   "source": []
  }
 ],
 "metadata": {
  "kernelspec": {
   "display_name": "Python 3 (ipykernel)",
   "language": "python",
   "name": "python3"
  },
  "language_info": {
   "codemirror_mode": {
    "name": "ipython",
    "version": 3
   },
   "file_extension": ".py",
   "mimetype": "text/x-python",
   "name": "python",
   "nbconvert_exporter": "python",
   "pygments_lexer": "ipython3",
   "version": "3.11.7"
  }
 },
 "nbformat": 4,
 "nbformat_minor": 5
}
