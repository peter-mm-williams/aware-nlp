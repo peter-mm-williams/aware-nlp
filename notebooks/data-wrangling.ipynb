{
 "cells": [
  {
   "cell_type": "code",
   "execution_count": 1,
   "metadata": {},
   "outputs": [
    {
     "name": "stderr",
     "output_type": "stream",
     "text": [
      "C:\\Users\\peter\\AppData\\Local\\Temp\\ipykernel_11496\\748694261.py:2: DeprecationWarning: \n",
      "Pyarrow will become a required dependency of pandas in the next major release of pandas (pandas 3.0),\n",
      "(to allow more performant data types, such as the Arrow string type, and better interoperability with other libraries)\n",
      "but was not found to be installed on your system.\n",
      "If this would cause problems for you,\n",
      "please provide us feedback at https://github.com/pandas-dev/pandas/issues/54466\n",
      "        \n",
      "  import pandas as pd\n"
     ]
    }
   ],
   "source": [
    "import json\n",
    "import pandas as pd"
   ]
  },
  {
   "cell_type": "markdown",
   "metadata": {},
   "source": [
    "#### Load in data with json, place in dataframe \n",
    "\n",
    "Keys: \n",
    "============================\n",
    "\n",
    "+ `aware_post_type` (string): Ingestion system post type definition. Will be\n",
    "  either \"submission\" or \"comment\" (to a submission or another comment).\n",
    "+ `aware_created_ts` (timestamp): Ingestion timestamp; e.g.,\n",
    "  \"2023-04-02T13:58:03\".\n",
    "+ `reddit_id` (string): Partial content ID defined by Reddit; e.g., \"129sqka\".\n",
    "+ `reddit_name` (string): Full content ID defined by Reddit; e.g., \"t3_129sqka\".\n",
    "+ `reddit_created_utc` (integer): UTC timestamp in seconds since the epoch\n",
    "  recording the time the post was creaed; e.g., 1680458283.\n",
    "+ `reddit_author` (string): Reddit author username; e.g., \"MoodyStarGirl\".\n",
    "+ `reddit_text` (string): Content of the post; e.g., \"That's it.\"\n",
    "+ `reddit_permalink` (string): Reddit permanent link to the submission or\n",
    "  comment; e.g.,\n",
    "  \"/r/starbucks/comments/129sqka/hot_chai_lattes_shouldnt_have_water/\". Note\n",
    "  that permalinks use the partial content ID to identify posts.\n",
    "+ `reddit_title` (string | null): Submission title; e.g., \"Hot chai lattes\n",
    "  shouldn't have water\". Will be `null` if the content is a comment to a\n",
    "  submission or a comment to another comment.\n",
    "+ `reddit_url` (string | null): Fully-qualified URL to the submission or\n",
    "  comment; e.g.,\n",
    "  \"https://www.reddit.com/r/starbucks/comments/129sqka/hot_chai_lattes_shouldnt_have_water/\".\n",
    "  Will be `null` if the content is a comment to a submission or a comment to\n",
    "  another comment.\n",
    "+ `reddit_subreddit` (string): Subreddit name; e.g., \"starbucks\".\n",
    "+ `reddit_link_id` (string | null): Full content ID of a comment's parent\n",
    "  submission and `null` if the content is a top-level submission.\n",
    "+ `reddit_parent_id` (string | null): Full content ID of a comment's parent\n",
    "  submission *or* the parent comment (in the case the content is a comment to a\n",
    "  comment). Will be `null` if the content is a top-level submission.\n",
    "+ `reddit_submission` (string | null): Partial content ID of the parent\n",
    "  submission and `null` if the content is a top-level submission.\n"
   ]
  },
  {
   "cell_type": "code",
   "execution_count": 2,
   "metadata": {},
   "outputs": [],
   "source": [
    "with open('../data/data.json', 'r', encoding='utf-8') as f:\n",
    "    data = json.load(f)"
   ]
  },
  {
   "cell_type": "code",
   "execution_count": 3,
   "metadata": {},
   "outputs": [],
   "source": [
    "df = pd.DataFrame(data)"
   ]
  },
  {
   "cell_type": "code",
   "execution_count": 9,
   "metadata": {},
   "outputs": [
    {
     "name": "stdout",
     "output_type": "stream",
     "text": [
      "<class 'pandas.core.frame.DataFrame'>\n",
      "RangeIndex: 404687 entries, 0 to 404686\n",
      "Data columns (total 14 columns):\n",
      " #   Column              Non-Null Count   Dtype \n",
      "---  ------              --------------   ----- \n",
      " 0   aware_post_type     404687 non-null  object\n",
      " 1   aware_created_ts    404687 non-null  object\n",
      " 2   reddit_id           404687 non-null  object\n",
      " 3   reddit_name         404687 non-null  object\n",
      " 4   reddit_created_utc  404687 non-null  int64 \n",
      " 5   reddit_author       404687 non-null  object\n",
      " 6   reddit_text         404687 non-null  object\n",
      " 7   reddit_permalink    404686 non-null  object\n",
      " 8   reddit_title        23268 non-null   object\n",
      " 9   reddit_url          23268 non-null   object\n",
      " 10  reddit_subreddit    404686 non-null  object\n",
      " 11  reddit_link_id      381418 non-null  object\n",
      " 12  reddit_parent_id    381418 non-null  object\n",
      " 13  reddit_submission   381418 non-null  object\n",
      "dtypes: int64(1), object(13)\n",
      "memory usage: 43.2+ MB\n"
     ]
    }
   ],
   "source": [
    "df.info()"
   ]
  },
  {
   "cell_type": "code",
   "execution_count": 4,
   "metadata": {},
   "outputs": [
    {
     "data": {
      "text/html": [
       "<div>\n",
       "<style scoped>\n",
       "    .dataframe tbody tr th:only-of-type {\n",
       "        vertical-align: middle;\n",
       "    }\n",
       "\n",
       "    .dataframe tbody tr th {\n",
       "        vertical-align: top;\n",
       "    }\n",
       "\n",
       "    .dataframe thead th {\n",
       "        text-align: right;\n",
       "    }\n",
       "</style>\n",
       "<table border=\"1\" class=\"dataframe\">\n",
       "  <thead>\n",
       "    <tr style=\"text-align: right;\">\n",
       "      <th></th>\n",
       "      <th>aware_post_type</th>\n",
       "      <th>aware_created_ts</th>\n",
       "      <th>reddit_id</th>\n",
       "      <th>reddit_name</th>\n",
       "      <th>reddit_created_utc</th>\n",
       "      <th>reddit_author</th>\n",
       "      <th>reddit_text</th>\n",
       "      <th>reddit_permalink</th>\n",
       "      <th>reddit_title</th>\n",
       "      <th>reddit_url</th>\n",
       "      <th>reddit_subreddit</th>\n",
       "      <th>reddit_link_id</th>\n",
       "      <th>reddit_parent_id</th>\n",
       "      <th>reddit_submission</th>\n",
       "    </tr>\n",
       "  </thead>\n",
       "  <tbody>\n",
       "    <tr>\n",
       "      <th>0</th>\n",
       "      <td>submission</td>\n",
       "      <td>2023-04-02T13:58:03</td>\n",
       "      <td>129sqka</td>\n",
       "      <td>t3_129sqka</td>\n",
       "      <td>1680458283</td>\n",
       "      <td>MoodyStarGirl</td>\n",
       "      <td>That's it.</td>\n",
       "      <td>/r/starbucks/comments/129sqka/hot_chai_lattes_...</td>\n",
       "      <td>Hot chai lattes shouldn't have water</td>\n",
       "      <td>https://www.reddit.com/r/starbucks/comments/12...</td>\n",
       "      <td>starbucks</td>\n",
       "      <td>None</td>\n",
       "      <td>None</td>\n",
       "      <td>None</td>\n",
       "    </tr>\n",
       "    <tr>\n",
       "      <th>1</th>\n",
       "      <td>comment</td>\n",
       "      <td>2023-04-02T14:32:57</td>\n",
       "      <td>jeounwc</td>\n",
       "      <td>t1_jeounwc</td>\n",
       "      <td>1680460377</td>\n",
       "      <td>Lost_Treat_6296</td>\n",
       "      <td>We should make the chai tea latte with the sam...</td>\n",
       "      <td>/r/starbucks/comments/129sqka/hot_chai_lattes_...</td>\n",
       "      <td>None</td>\n",
       "      <td>None</td>\n",
       "      <td>starbucks</td>\n",
       "      <td>t3_129sqka</td>\n",
       "      <td>t3_129sqka</td>\n",
       "      <td>129sqka</td>\n",
       "    </tr>\n",
       "    <tr>\n",
       "      <th>2</th>\n",
       "      <td>comment</td>\n",
       "      <td>2023-04-02T14:48:18</td>\n",
       "      <td>jeowus2</td>\n",
       "      <td>t1_jeowus2</td>\n",
       "      <td>1680461298</td>\n",
       "      <td>MoodyStarGirl</td>\n",
       "      <td>Oh like using the chai tea bags?</td>\n",
       "      <td>/r/starbucks/comments/129sqka/hot_chai_lattes_...</td>\n",
       "      <td>None</td>\n",
       "      <td>None</td>\n",
       "      <td>starbucks</td>\n",
       "      <td>t3_129sqka</td>\n",
       "      <td>t1_jeounwc</td>\n",
       "      <td>129sqka</td>\n",
       "    </tr>\n",
       "    <tr>\n",
       "      <th>3</th>\n",
       "      <td>comment</td>\n",
       "      <td>2023-04-02T14:48:49</td>\n",
       "      <td>jeowxe5</td>\n",
       "      <td>t1_jeowxe5</td>\n",
       "      <td>1680461329</td>\n",
       "      <td>Lost_Treat_6296</td>\n",
       "      <td>No, the whole half water and half milk thing</td>\n",
       "      <td>/r/starbucks/comments/129sqka/hot_chai_lattes_...</td>\n",
       "      <td>None</td>\n",
       "      <td>None</td>\n",
       "      <td>starbucks</td>\n",
       "      <td>t3_129sqka</td>\n",
       "      <td>t1_jeowus2</td>\n",
       "      <td>129sqka</td>\n",
       "    </tr>\n",
       "    <tr>\n",
       "      <th>4</th>\n",
       "      <td>comment</td>\n",
       "      <td>2023-04-02T21:59:22</td>\n",
       "      <td>jeqiuw3</td>\n",
       "      <td>t1_jeqiuw3</td>\n",
       "      <td>1680487162</td>\n",
       "      <td>MoodyStarGirl</td>\n",
       "      <td>That's a lot of water :(</td>\n",
       "      <td>/r/starbucks/comments/129sqka/hot_chai_lattes_...</td>\n",
       "      <td>None</td>\n",
       "      <td>None</td>\n",
       "      <td>starbucks</td>\n",
       "      <td>t3_129sqka</td>\n",
       "      <td>t1_jeowxe5</td>\n",
       "      <td>129sqka</td>\n",
       "    </tr>\n",
       "  </tbody>\n",
       "</table>\n",
       "</div>"
      ],
      "text/plain": [
       "  aware_post_type     aware_created_ts reddit_id reddit_name  \\\n",
       "0      submission  2023-04-02T13:58:03   129sqka  t3_129sqka   \n",
       "1         comment  2023-04-02T14:32:57   jeounwc  t1_jeounwc   \n",
       "2         comment  2023-04-02T14:48:18   jeowus2  t1_jeowus2   \n",
       "3         comment  2023-04-02T14:48:49   jeowxe5  t1_jeowxe5   \n",
       "4         comment  2023-04-02T21:59:22   jeqiuw3  t1_jeqiuw3   \n",
       "\n",
       "   reddit_created_utc    reddit_author  \\\n",
       "0          1680458283    MoodyStarGirl   \n",
       "1          1680460377  Lost_Treat_6296   \n",
       "2          1680461298    MoodyStarGirl   \n",
       "3          1680461329  Lost_Treat_6296   \n",
       "4          1680487162    MoodyStarGirl   \n",
       "\n",
       "                                         reddit_text  \\\n",
       "0                                         That's it.   \n",
       "1  We should make the chai tea latte with the sam...   \n",
       "2                   Oh like using the chai tea bags?   \n",
       "3       No, the whole half water and half milk thing   \n",
       "4                           That's a lot of water :(   \n",
       "\n",
       "                                    reddit_permalink  \\\n",
       "0  /r/starbucks/comments/129sqka/hot_chai_lattes_...   \n",
       "1  /r/starbucks/comments/129sqka/hot_chai_lattes_...   \n",
       "2  /r/starbucks/comments/129sqka/hot_chai_lattes_...   \n",
       "3  /r/starbucks/comments/129sqka/hot_chai_lattes_...   \n",
       "4  /r/starbucks/comments/129sqka/hot_chai_lattes_...   \n",
       "\n",
       "                           reddit_title  \\\n",
       "0  Hot chai lattes shouldn't have water   \n",
       "1                                  None   \n",
       "2                                  None   \n",
       "3                                  None   \n",
       "4                                  None   \n",
       "\n",
       "                                          reddit_url reddit_subreddit  \\\n",
       "0  https://www.reddit.com/r/starbucks/comments/12...        starbucks   \n",
       "1                                               None        starbucks   \n",
       "2                                               None        starbucks   \n",
       "3                                               None        starbucks   \n",
       "4                                               None        starbucks   \n",
       "\n",
       "  reddit_link_id reddit_parent_id reddit_submission  \n",
       "0           None             None              None  \n",
       "1     t3_129sqka       t3_129sqka           129sqka  \n",
       "2     t3_129sqka       t1_jeounwc           129sqka  \n",
       "3     t3_129sqka       t1_jeowus2           129sqka  \n",
       "4     t3_129sqka       t1_jeowxe5           129sqka  "
      ]
     },
     "execution_count": 4,
     "metadata": {},
     "output_type": "execute_result"
    }
   ],
   "source": [
    "df.head()"
   ]
  },
  {
   "cell_type": "code",
   "execution_count": 7,
   "metadata": {},
   "outputs": [],
   "source": [
    "df.to_csv('../data/reddit.csv', index=False, encoding='utf-8-sig')"
   ]
  },
  {
   "cell_type": "code",
   "execution_count": 27,
   "metadata": {},
   "outputs": [
    {
     "data": {
      "text/plain": [
       "reddit_subreddit\n",
       "walmart              43260\n",
       "Disneyland           38680\n",
       "starbucks            35244\n",
       "UPSers               30405\n",
       "Lowes                26996\n",
       "Fedexers             25685\n",
       "Target               25165\n",
       "Bestbuy              23922\n",
       "DisneyWorld          23168\n",
       "starbucksbaristas    19020\n",
       "CVS                  17860\n",
       "TalesFromYourBank    17647\n",
       "McLounge             16848\n",
       "DollarTree           13923\n",
       "WaltDisneyWorld      13096\n",
       "TjMaxx               10299\n",
       "KrakenSupport         6864\n",
       "disney                6212\n",
       "WalmartEmployees      5851\n",
       "RiteAid               2581\n",
       "BestBuyWorkers        1960\n",
       "Name: count, dtype: int64"
      ]
     },
     "execution_count": 27,
     "metadata": {},
     "output_type": "execute_result"
    }
   ],
   "source": [
    "df.reddit_subreddit.value_counts()"
   ]
  },
  {
   "cell_type": "code",
   "execution_count": 10,
   "metadata": {},
   "outputs": [],
   "source": [
    "starbucks = df[df.reddit_subreddit == 'starbucks'].to_dict(orient='records')"
   ]
  },
  {
   "cell_type": "code",
   "execution_count": 13,
   "metadata": {},
   "outputs": [],
   "source": [
    "with open('../data/starbucks-subreddit.json', 'w', encoding='utf-8') as f:\n",
    "    json.dump(starbucks, f)"
   ]
  },
  {
   "cell_type": "code",
   "execution_count": null,
   "metadata": {},
   "outputs": [],
   "source": []
  }
 ],
 "metadata": {
  "kernelspec": {
   "display_name": "erdos_sp_2024",
   "language": "python",
   "name": "python3"
  },
  "language_info": {
   "codemirror_mode": {
    "name": "ipython",
    "version": 3
   },
   "file_extension": ".py",
   "mimetype": "text/x-python",
   "name": "python",
   "nbconvert_exporter": "python",
   "pygments_lexer": "ipython3",
   "version": "3.11.7"
  }
 },
 "nbformat": 4,
 "nbformat_minor": 2
}
